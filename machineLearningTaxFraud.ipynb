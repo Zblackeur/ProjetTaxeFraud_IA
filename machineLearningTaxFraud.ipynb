{
 "cells": [
  {
   "cell_type": "markdown",
   "metadata": {
    "collapsed": true,
    "pycharm": {
     "name": "#%% md\n"
    }
   },
   "source": [
    "## PROJET DE MACHINE LEARNING SUR LA DETECTION DES FRAUDE DE TAXE\n",
    " ### PAR ZAMBO CEDRIC\n",
    " #### GINFO2.1\n",
    " ##### IPSAS\n"
   ]
  },
  {
   "cell_type": "markdown",
   "source": [
    "## I-ANALYSE ET EXPLORATION DES DONNEES"
   ],
   "metadata": {
    "collapsed": false,
    "pycharm": {
     "name": "#%% md\n"
    }
   }
  },
  {
   "cell_type": "markdown",
   "source": [
    "### 1) IMPORTATION DES BIBLIOTHEQUE ET DES DONNEES"
   ],
   "metadata": {
    "collapsed": false,
    "pycharm": {
     "name": "#%% md\n"
    }
   }
  },
  {
   "cell_type": "code",
   "execution_count": 1,
   "outputs": [],
   "source": [
    "#BIBLIOTHEQUE DE BASE DU MACHINE LEARNING\n",
    "import pandas as pd\n",
    "import seaborn as sns\n",
    "import matplotlib.pyplot as plt"
   ],
   "metadata": {
    "collapsed": false,
    "pycharm": {
     "name": "#%%\n"
    }
   }
  },
  {
   "cell_type": "code",
   "execution_count": 2,
   "outputs": [],
   "source": [
    "#IMPORTATIONS DES  JEUX DE DONNEE POUR NOTRE ETUDE\n",
    "train = pd.read_csv('TAXFRAUD/SUPCOM_Train.csv')\n",
    "test = pd.read_csv('TAXFRAUD/SUPCOM_Test.csv')\n",
    "submission = pd.read_csv('TAXFRAUD/SUPCOM_SampleSubmission.csv')\n",
    "desp = pd.read_csv('TAXFRAUD/VariableDescription.csv')"
   ],
   "metadata": {
    "collapsed": false,
    "pycharm": {
     "name": "#%%\n"
    }
   }
  },
  {
   "cell_type": "markdown",
   "source": [
    "### 2) ANALYSE DES DONNEES"
   ],
   "metadata": {
    "collapsed": false,
    "pycharm": {
     "name": "#%% md\n"
    }
   }
  },
  {
   "cell_type": "code",
   "execution_count": 3,
   "outputs": [
    {
     "name": "stdout",
     "output_type": "stream",
     "text": [
      "Train shape: (21295, 121)\n",
      "Test shape: (7517, 120)\n"
     ]
    }
   ],
   "source": [
    "#NOMBRE DE LIGNE ET DE COLONNE DES DATASETS\n",
    "print(f\"Train shape: {train.shape}\")\n",
    "print(f\"Test shape: {test.shape}\")\n",
    "#La forme d'un tableau est le nombre d'éléments dans chaque dimension Ligne et Colonne"
   ],
   "metadata": {
    "collapsed": false,
    "pycharm": {
     "name": "#%%\n"
    }
   }
  },
  {
   "cell_type": "code",
   "execution_count": 4,
   "outputs": [
    {
     "data": {
      "text/plain": "   BCT_CODBUR  CTR_MATFIS CTR_CATEGO_X  FJU_CODFJU  CTR_CESSAT  ACT_CODACT  \\\n0          44        6210            C          99           0        3707   \n1         401       14383            M          22           0        6105   \n2         243       11555            M          23           0        5751   \n3          72        6175            C          99           0        4402   \n4          42        1417            M          23           0        6302   \n\n   CTR_OBLDIR  CTR_OBLACP  CTR_OBLRES  CTR_OBLFOP  ...     target  \\\n0           4           2           2           2  ...  16.639203   \n1           4           2           2           2  ...  17.827703   \n2           4           2           2           2  ...  15.473503   \n3           4           2           2           2  ...   0.000000   \n4           4           2           2           2  ...  14.286244   \n\n   FAC_MNTPRI_F  FAC_MFODEC_F  FAC_MNTDCO_F  FAC_MNTTVA_F  FAC_MNTPRI_C  \\\n0           NaN           NaN           NaN           NaN           NaN   \n1           NaN           NaN           NaN           NaN           NaN   \n2    25387000.0           0.0           0.0     4571280.0           NaN   \n3           NaN           NaN           NaN           NaN           NaN   \n4           NaN           NaN           NaN           NaN           NaN   \n\n   FAC_MFODEC_C  FAC_MNTDCO_C  FAC_MNTTVA_C             id  \n0           NaN           NaN           NaN  train_id17437  \n1           NaN           NaN           NaN   train_id5086  \n2           NaN           NaN           NaN   train_id1443  \n3           NaN           NaN           NaN  train_id15469  \n4           NaN           NaN           NaN  train_id14368  \n\n[5 rows x 121 columns]",
      "text/html": "<div>\n<style scoped>\n    .dataframe tbody tr th:only-of-type {\n        vertical-align: middle;\n    }\n\n    .dataframe tbody tr th {\n        vertical-align: top;\n    }\n\n    .dataframe thead th {\n        text-align: right;\n    }\n</style>\n<table border=\"1\" class=\"dataframe\">\n  <thead>\n    <tr style=\"text-align: right;\">\n      <th></th>\n      <th>BCT_CODBUR</th>\n      <th>CTR_MATFIS</th>\n      <th>CTR_CATEGO_X</th>\n      <th>FJU_CODFJU</th>\n      <th>CTR_CESSAT</th>\n      <th>ACT_CODACT</th>\n      <th>CTR_OBLDIR</th>\n      <th>CTR_OBLACP</th>\n      <th>CTR_OBLRES</th>\n      <th>CTR_OBLFOP</th>\n      <th>...</th>\n      <th>target</th>\n      <th>FAC_MNTPRI_F</th>\n      <th>FAC_MFODEC_F</th>\n      <th>FAC_MNTDCO_F</th>\n      <th>FAC_MNTTVA_F</th>\n      <th>FAC_MNTPRI_C</th>\n      <th>FAC_MFODEC_C</th>\n      <th>FAC_MNTDCO_C</th>\n      <th>FAC_MNTTVA_C</th>\n      <th>id</th>\n    </tr>\n  </thead>\n  <tbody>\n    <tr>\n      <th>0</th>\n      <td>44</td>\n      <td>6210</td>\n      <td>C</td>\n      <td>99</td>\n      <td>0</td>\n      <td>3707</td>\n      <td>4</td>\n      <td>2</td>\n      <td>2</td>\n      <td>2</td>\n      <td>...</td>\n      <td>16.639203</td>\n      <td>NaN</td>\n      <td>NaN</td>\n      <td>NaN</td>\n      <td>NaN</td>\n      <td>NaN</td>\n      <td>NaN</td>\n      <td>NaN</td>\n      <td>NaN</td>\n      <td>train_id17437</td>\n    </tr>\n    <tr>\n      <th>1</th>\n      <td>401</td>\n      <td>14383</td>\n      <td>M</td>\n      <td>22</td>\n      <td>0</td>\n      <td>6105</td>\n      <td>4</td>\n      <td>2</td>\n      <td>2</td>\n      <td>2</td>\n      <td>...</td>\n      <td>17.827703</td>\n      <td>NaN</td>\n      <td>NaN</td>\n      <td>NaN</td>\n      <td>NaN</td>\n      <td>NaN</td>\n      <td>NaN</td>\n      <td>NaN</td>\n      <td>NaN</td>\n      <td>train_id5086</td>\n    </tr>\n    <tr>\n      <th>2</th>\n      <td>243</td>\n      <td>11555</td>\n      <td>M</td>\n      <td>23</td>\n      <td>0</td>\n      <td>5751</td>\n      <td>4</td>\n      <td>2</td>\n      <td>2</td>\n      <td>2</td>\n      <td>...</td>\n      <td>15.473503</td>\n      <td>25387000.0</td>\n      <td>0.0</td>\n      <td>0.0</td>\n      <td>4571280.0</td>\n      <td>NaN</td>\n      <td>NaN</td>\n      <td>NaN</td>\n      <td>NaN</td>\n      <td>train_id1443</td>\n    </tr>\n    <tr>\n      <th>3</th>\n      <td>72</td>\n      <td>6175</td>\n      <td>C</td>\n      <td>99</td>\n      <td>0</td>\n      <td>4402</td>\n      <td>4</td>\n      <td>2</td>\n      <td>2</td>\n      <td>2</td>\n      <td>...</td>\n      <td>0.000000</td>\n      <td>NaN</td>\n      <td>NaN</td>\n      <td>NaN</td>\n      <td>NaN</td>\n      <td>NaN</td>\n      <td>NaN</td>\n      <td>NaN</td>\n      <td>NaN</td>\n      <td>train_id15469</td>\n    </tr>\n    <tr>\n      <th>4</th>\n      <td>42</td>\n      <td>1417</td>\n      <td>M</td>\n      <td>23</td>\n      <td>0</td>\n      <td>6302</td>\n      <td>4</td>\n      <td>2</td>\n      <td>2</td>\n      <td>2</td>\n      <td>...</td>\n      <td>14.286244</td>\n      <td>NaN</td>\n      <td>NaN</td>\n      <td>NaN</td>\n      <td>NaN</td>\n      <td>NaN</td>\n      <td>NaN</td>\n      <td>NaN</td>\n      <td>NaN</td>\n      <td>train_id14368</td>\n    </tr>\n  </tbody>\n</table>\n<p>5 rows × 121 columns</p>\n</div>"
     },
     "execution_count": 4,
     "metadata": {},
     "output_type": "execute_result"
    }
   ],
   "source": [
    "# head : Cette fonction renvoie les n lignes de l'objet basé sur sur poste. Il est utile pour tester    rapidement si votre objet contient le bon type de données.\n",
    "train.head()"
   ],
   "metadata": {
    "collapsed": false,
    "pycharm": {
     "name": "#%%\n"
    }
   }
  },
  {
   "cell_type": "code",
   "execution_count": 5,
   "outputs": [
    {
     "data": {
      "text/plain": "   BCT_CODBUR  CTR_MATFIS CTR_CATEGO_X  FJU_CODFJU  CTR_CESSAT  ACT_CODACT  \\\n0         238        5016            M          22           0        3601   \n1         173        3757            M          22           0        3912   \n2         125       15482            C          99           0        4221   \n3           9       11722            C          99           0        3203   \n4         153        6557            P          99           0        6308   \n\n   CTR_OBLDIR  CTR_OBLACP  CTR_OBLRES  CTR_OBLFOP  ...  RES_ANNIMP  \\\n0           4           2           2           2  ...        2017   \n1           4           2           2           2  ...        2017   \n2           4           2           2           1  ...        2018   \n3           4           2           2           2  ...        2015   \n4           4           2           2           2  ...        2014   \n\n   FAC_MNTPRI_F  FAC_MFODEC_F  FAC_MNTDCO_F  FAC_MNTTVA_F  FAC_MNTPRI_C  \\\n0           NaN           NaN           NaN           NaN           NaN   \n1           NaN           NaN           NaN           NaN           NaN   \n2           NaN           NaN           NaN           NaN           NaN   \n3           NaN           NaN           NaN           NaN           NaN   \n4           NaN           NaN           NaN           NaN           NaN   \n\n   FAC_MFODEC_C  FAC_MNTDCO_C  FAC_MNTTVA_C           id  \n0           NaN           NaN           NaN  test_id1120  \n1           NaN           NaN           NaN  test_id1680  \n2           NaN           NaN           NaN  test_id1063  \n3           NaN           NaN           NaN  test_id3731  \n4           NaN           NaN           NaN  test_id9766  \n\n[5 rows x 120 columns]",
      "text/html": "<div>\n<style scoped>\n    .dataframe tbody tr th:only-of-type {\n        vertical-align: middle;\n    }\n\n    .dataframe tbody tr th {\n        vertical-align: top;\n    }\n\n    .dataframe thead th {\n        text-align: right;\n    }\n</style>\n<table border=\"1\" class=\"dataframe\">\n  <thead>\n    <tr style=\"text-align: right;\">\n      <th></th>\n      <th>BCT_CODBUR</th>\n      <th>CTR_MATFIS</th>\n      <th>CTR_CATEGO_X</th>\n      <th>FJU_CODFJU</th>\n      <th>CTR_CESSAT</th>\n      <th>ACT_CODACT</th>\n      <th>CTR_OBLDIR</th>\n      <th>CTR_OBLACP</th>\n      <th>CTR_OBLRES</th>\n      <th>CTR_OBLFOP</th>\n      <th>...</th>\n      <th>RES_ANNIMP</th>\n      <th>FAC_MNTPRI_F</th>\n      <th>FAC_MFODEC_F</th>\n      <th>FAC_MNTDCO_F</th>\n      <th>FAC_MNTTVA_F</th>\n      <th>FAC_MNTPRI_C</th>\n      <th>FAC_MFODEC_C</th>\n      <th>FAC_MNTDCO_C</th>\n      <th>FAC_MNTTVA_C</th>\n      <th>id</th>\n    </tr>\n  </thead>\n  <tbody>\n    <tr>\n      <th>0</th>\n      <td>238</td>\n      <td>5016</td>\n      <td>M</td>\n      <td>22</td>\n      <td>0</td>\n      <td>3601</td>\n      <td>4</td>\n      <td>2</td>\n      <td>2</td>\n      <td>2</td>\n      <td>...</td>\n      <td>2017</td>\n      <td>NaN</td>\n      <td>NaN</td>\n      <td>NaN</td>\n      <td>NaN</td>\n      <td>NaN</td>\n      <td>NaN</td>\n      <td>NaN</td>\n      <td>NaN</td>\n      <td>test_id1120</td>\n    </tr>\n    <tr>\n      <th>1</th>\n      <td>173</td>\n      <td>3757</td>\n      <td>M</td>\n      <td>22</td>\n      <td>0</td>\n      <td>3912</td>\n      <td>4</td>\n      <td>2</td>\n      <td>2</td>\n      <td>2</td>\n      <td>...</td>\n      <td>2017</td>\n      <td>NaN</td>\n      <td>NaN</td>\n      <td>NaN</td>\n      <td>NaN</td>\n      <td>NaN</td>\n      <td>NaN</td>\n      <td>NaN</td>\n      <td>NaN</td>\n      <td>test_id1680</td>\n    </tr>\n    <tr>\n      <th>2</th>\n      <td>125</td>\n      <td>15482</td>\n      <td>C</td>\n      <td>99</td>\n      <td>0</td>\n      <td>4221</td>\n      <td>4</td>\n      <td>2</td>\n      <td>2</td>\n      <td>1</td>\n      <td>...</td>\n      <td>2018</td>\n      <td>NaN</td>\n      <td>NaN</td>\n      <td>NaN</td>\n      <td>NaN</td>\n      <td>NaN</td>\n      <td>NaN</td>\n      <td>NaN</td>\n      <td>NaN</td>\n      <td>test_id1063</td>\n    </tr>\n    <tr>\n      <th>3</th>\n      <td>9</td>\n      <td>11722</td>\n      <td>C</td>\n      <td>99</td>\n      <td>0</td>\n      <td>3203</td>\n      <td>4</td>\n      <td>2</td>\n      <td>2</td>\n      <td>2</td>\n      <td>...</td>\n      <td>2015</td>\n      <td>NaN</td>\n      <td>NaN</td>\n      <td>NaN</td>\n      <td>NaN</td>\n      <td>NaN</td>\n      <td>NaN</td>\n      <td>NaN</td>\n      <td>NaN</td>\n      <td>test_id3731</td>\n    </tr>\n    <tr>\n      <th>4</th>\n      <td>153</td>\n      <td>6557</td>\n      <td>P</td>\n      <td>99</td>\n      <td>0</td>\n      <td>6308</td>\n      <td>4</td>\n      <td>2</td>\n      <td>2</td>\n      <td>2</td>\n      <td>...</td>\n      <td>2014</td>\n      <td>NaN</td>\n      <td>NaN</td>\n      <td>NaN</td>\n      <td>NaN</td>\n      <td>NaN</td>\n      <td>NaN</td>\n      <td>NaN</td>\n      <td>NaN</td>\n      <td>test_id9766</td>\n    </tr>\n  </tbody>\n</table>\n<p>5 rows × 120 columns</p>\n</div>"
     },
     "execution_count": 5,
     "metadata": {},
     "output_type": "execute_result"
    }
   ],
   "source": [
    "# head : Cette fonction renvoie les n lignes de l'objet basé sur sur poste. Il est utile pour tester    rapidement si votre objet contient le bon type de données.\n",
    "test.head()"
   ],
   "metadata": {
    "collapsed": false,
    "pycharm": {
     "name": "#%%\n"
    }
   }
  },
  {
   "cell_type": "code",
   "execution_count": 6,
   "outputs": [
    {
     "name": "stdout",
     "output_type": "stream",
     "text": [
      "<class 'pandas.core.frame.DataFrame'>\n",
      "RangeIndex: 21295 entries, 0 to 21294\n",
      "Columns: 121 entries, BCT_CODBUR to id\n",
      "dtypes: float64(103), int64(16), object(2)\n",
      "memory usage: 19.7+ MB\n"
     ]
    },
    {
     "data": {
      "text/plain": "'var de type float = 103  int = 16  object = 2 '"
     },
     "execution_count": 6,
     "metadata": {},
     "output_type": "execute_result"
    }
   ],
   "source": [
    "#Structure des dataframe de train\n",
    "#imprimer un résumé concis d'un DataFrame.\n",
    "train.info()\n",
    "\"\"\"var de type float = 103  int = 16  object = 2 \"\"\""
   ],
   "metadata": {
    "collapsed": false,
    "pycharm": {
     "name": "#%%\n"
    }
   }
  },
  {
   "cell_type": "code",
   "execution_count": 7,
   "outputs": [
    {
     "name": "stdout",
     "output_type": "stream",
     "text": [
      "<class 'pandas.core.frame.DataFrame'>\n",
      "RangeIndex: 7517 entries, 0 to 7516\n",
      "Columns: 120 entries, BCT_CODBUR to id\n",
      "dtypes: float64(102), int64(16), object(2)\n",
      "memory usage: 6.9+ MB\n"
     ]
    },
    {
     "data": {
      "text/plain": "'var de type float = 102  int = 16  object = 2 '"
     },
     "execution_count": 7,
     "metadata": {},
     "output_type": "execute_result"
    }
   ],
   "source": [
    "#Structure des dataframe de test\n",
    "#train.info()\n",
    "test.info()\n",
    "\"\"\"var de type float = 102  int = 16  object = 2 \"\"\""
   ],
   "metadata": {
    "collapsed": false,
    "pycharm": {
     "name": "#%%\n"
    }
   }
  },
  {
   "cell_type": "code",
   "execution_count": 8,
   "outputs": [
    {
     "data": {
      "text/plain": "0        16.639203\n1        17.827703\n2        15.473503\n3         0.000000\n4        14.286244\n           ...    \n21290    16.544842\n21291    17.651115\n21292    18.018778\n21293    15.521108\n21294    12.460719\nName: target, Length: 21295, dtype: float64"
     },
     "execution_count": 8,
     "metadata": {},
     "output_type": "execute_result"
    }
   ],
   "source": [
    "#EXPLORATION DE LA VARIABLE TARGET\n",
    "train[\"target\"]"
   ],
   "metadata": {
    "collapsed": false,
    "pycharm": {
     "name": "#%%\n"
    }
   }
  },
  {
   "cell_type": "markdown",
   "source": [
    "ON REMARQUE QUIL YA UNE VARIABLE EN PLUS  DANS LE TRAIN  QUI EST LE  \"\"target\"\"\n",
    "Target: EST UNE VARIABLE QUI EST POSITIVE EN CAS DE FRAUDE   ET NULL DANS LE CAS CONTRAIRE"
   ],
   "metadata": {
    "collapsed": false,
    "pycharm": {
     "name": "#%% md\n"
    }
   }
  },
  {
   "cell_type": "markdown",
   "source": [
    "### II- GESTION DES VALEURS MANQUANTE"
   ],
   "metadata": {
    "collapsed": false,
    "pycharm": {
     "name": "#%% md\n"
    }
   }
  },
  {
   "cell_type": "markdown",
   "source": [
    "#### 1) Detectetion  et Analyse des variables manquante"
   ],
   "metadata": {
    "collapsed": false,
    "pycharm": {
     "name": "#%% md\n"
    }
   }
  },
  {
   "cell_type": "code",
   "execution_count": 9,
   "outputs": [],
   "source": [
    "#recupere la liste est index Du DATA SET\n",
    "listIndexTrain=train.columns\n",
    "listIndexTest=test.columns\n"
   ],
   "metadata": {
    "collapsed": false,
    "pycharm": {
     "name": "#%%\n"
    }
   }
  },
  {
   "cell_type": "code",
   "execution_count": 13,
   "outputs": [
    {
     "data": {
      "text/plain": "BCT_CODBUR         0\nCTR_MATFIS         0\nCTR_CATEGO_X       0\nFJU_CODFJU         0\nCTR_CESSAT         0\n                ... \nFAC_MNTPRI_C    6765\nFAC_MFODEC_C    6765\nFAC_MNTDCO_C    6765\nFAC_MNTTVA_C    6765\nid                 0\nLength: 120, dtype: int64"
     },
     "execution_count": 13,
     "metadata": {},
     "output_type": "execute_result"
    }
   ],
   "source": [
    "#LISTE VALEUR MANQUANTE (nombre de valeur manquante par colonne)\n",
    "#train.isna().sum()\n",
    "test.isna().sum()"
   ],
   "metadata": {
    "collapsed": false,
    "pycharm": {
     "name": "#%%\n"
    }
   }
  },
  {
   "cell_type": "code",
   "execution_count": 16,
   "outputs": [
    {
     "data": {
      "text/plain": "<matplotlib.axes._subplots.AxesSubplot at 0x29adf35bd60>"
     },
     "execution_count": 16,
     "metadata": {},
     "output_type": "execute_result"
    },
    {
     "data": {
      "text/plain": "<Figure size 432x288 with 1 Axes>",
      "image/png": "[encoded data removed]"
     },
     "metadata": {
      "needs_background": "light"
     },
     "output_type": "display_data"
    }
   ],
   "source": [
    "#VISUALISATION  DES VARIABLE MANQUANTE\n",
    "#train_null = train.isna().sum()\n",
    "train_null_test = test.isna().sum()\n",
    "#train_null.plot.bar()\n",
    "train_null_test.plot.bar()"
   ],
   "metadata": {
    "collapsed": false,
    "pycharm": {
     "name": "#%%\n"
    }
   }
  },
  {
   "cell_type": "code",
   "execution_count": 12,
   "outputs": [
    {
     "name": "stdout",
     "output_type": "stream",
     "text": [
      "1690     58\n",
      "0        19\n",
      "10        9\n",
      "20064     7\n",
      "18396     7\n",
      "17596     7\n",
      "5117      5\n",
      "19182     4\n",
      "19475     4\n",
      "15938     1\n",
      "dtype: int64 \n",
      "\n",
      "1690     47.933884\n",
      "0        15.702479\n",
      "10        7.438017\n",
      "20064     5.785124\n",
      "18396     5.785124\n",
      "17596     5.785124\n",
      "5117      4.132231\n",
      "19182     3.305785\n",
      "19475     3.305785\n",
      "15938     0.826446\n",
      "dtype: float64\n"
     ]
    }
   ],
   "source": [
    "#ANALYSE DES VALEUR MANQUANTE EN\n",
    "print(train_null.value_counts(), '\\n')\n",
    "print(train_null.value_counts(normalize=True)*100)"
   ],
   "metadata": {
    "collapsed": false,
    "pycharm": {
     "name": "#%%\n"
    }
   }
  },
  {
   "cell_type": "markdown",
   "source": [
    "D'apres lanalyse du graphe  on peut eliminer les  variable qui on un nombre de variable null superieur a 7500 car sa represente plus 35% de variable manquant"
   ],
   "metadata": {
    "collapsed": false,
    "pycharm": {
     "name": "#%% md\n"
    }
   }
  },
  {
   "cell_type": "markdown",
   "source": [
    "#### 2) ELIMINATIONS DE CERTAINE VARIABLE"
   ],
   "metadata": {
    "collapsed": false,
    "pycharm": {
     "name": "#%% md\n"
    }
   }
  },
  {
   "cell_type": "code",
   "execution_count": 13,
   "outputs": [
    {
     "name": "stdout",
     "output_type": "stream",
     "text": [
      "Train shape: (21295, 121)\n",
      "Test shape: (7517, 120)\n"
     ]
    }
   ],
   "source": [
    "#NOMBRE DE LIGNE ET DE COLONNE DES DATASETS\n",
    "print(f\"Train shape: {train.shape}\")\n",
    "print(f\"Test shape: {test.shape}\")"
   ],
   "metadata": {
    "collapsed": false,
    "pycharm": {
     "name": "#%%\n"
    }
   }
  },
  {
   "cell_type": "code",
   "execution_count": 21,
   "outputs": [],
   "source": [
    "#COPIE DE SECURITE DES DATASET\n",
    "traindeux=train\n",
    "testdeux=test\n",
    "#STOCKAGE DES DIFFERENTS ID\n",
    "trainId= train['id']\n",
    "testId = test['id']"
   ],
   "metadata": {
    "collapsed": false,
    "pycharm": {
     "name": "#%%\n"
    }
   }
  },
  {
   "cell_type": "code",
   "execution_count": 17,
   "outputs": [
    {
     "data": {
      "text/plain": "ADB_MNTORD      5622\nSND_MNTPRD_I    6199\nSND_MNTTVA_I    6199\nSND_MNTDRC_I    6199\nSND_MNTAVA_I    6199\nSND_MNTTAX_I    6199\nSND_MNTPAY_I    6199\nSND_MNTAIR_I    6199\nSND_MNTPRD_E    7093\nSND_MNTTVA_E    7093\nSND_MNTDRC_E    7093\nSND_MNTAVA_E    7093\nSND_MNTTAX_E    7093\nSND_MNTPAY_E    7093\nSND_MNTAIR_E    7093\nSND_MNTPRD_A    6507\nSND_MNTTVA_A    6507\nSND_MNTDRC_A    6507\nSND_MNTAVA_A    6507\nSND_MNTTAX_A    6507\nSND_MNTPAY_A    6507\nSND_MNTAIR_A    6507\nFAC_MNTPRI_F    6858\nFAC_MFODEC_F    6858\nFAC_MNTDCO_F    6858\nFAC_MNTTVA_F    6858\nFAC_MNTPRI_C    6765\nFAC_MFODEC_C    6765\nFAC_MNTDCO_C    6765\nFAC_MNTTVA_C    6765\ndtype: int64"
     },
     "execution_count": 17,
     "metadata": {},
     "output_type": "execute_result"
    }
   ],
   "source": [
    "# 1 - Voir les colonnes qui ont un nombre de colonne null suppérieur à 7500\n",
    "#train_null_to_delete = train_null[train_null > 7500]\n",
    "#train_null_to_delete\n",
    "\n",
    "# 2 - Voir les colonnes qui ont un nombre de colonne null suppérieur à 2000 Pour le Test\n",
    "train_null_to_delete_test = train_null_test[train_null_test > 2000]\n",
    "train_null_to_delete_test"
   ],
   "metadata": {
    "collapsed": false,
    "pycharm": {
     "name": "#%%\n"
    }
   }
  },
  {
   "cell_type": "code",
   "execution_count": 18,
   "outputs": [
    {
     "data": {
      "text/plain": "Index(['ADB_MNTORD', 'SND_MNTPRD_I', 'SND_MNTTVA_I', 'SND_MNTDRC_I',\n       'SND_MNTAVA_I', 'SND_MNTTAX_I', 'SND_MNTPAY_I', 'SND_MNTAIR_I',\n       'SND_MNTPRD_E', 'SND_MNTTVA_E', 'SND_MNTDRC_E', 'SND_MNTAVA_E',\n       'SND_MNTTAX_E', 'SND_MNTPAY_E', 'SND_MNTAIR_E', 'SND_MNTPRD_A',\n       'SND_MNTTVA_A', 'SND_MNTDRC_A', 'SND_MNTAVA_A', 'SND_MNTTAX_A',\n       'SND_MNTPAY_A', 'SND_MNTAIR_A', 'FAC_MNTPRI_F', 'FAC_MFODEC_F',\n       'FAC_MNTDCO_F', 'FAC_MNTTVA_F', 'FAC_MNTPRI_C', 'FAC_MFODEC_C',\n       'FAC_MNTDCO_C', 'FAC_MNTTVA_C'],\n      dtype='object')"
     },
     "execution_count": 18,
     "metadata": {},
     "output_type": "execute_result"
    }
   ],
   "source": [
    "#ON ENREGISTRE LA LISTE  DES INDEX A SUPPRIMER\n",
    "#listIndexTraindelete =train_null_to_delete.index\n",
    "#listIndexTraindelete\n",
    "\n",
    "#ON ENREGISTRE LA LISTE  DES INDEX A SUPPRIMER DU TEST\n",
    "listIndexTraindelete =train_null_to_delete_test.index\n",
    "listIndexTraindelete"
   ],
   "metadata": {
    "collapsed": false,
    "pycharm": {
     "name": "#%%\n"
    }
   }
  },
  {
   "cell_type": "code",
   "execution_count": 19,
   "outputs": [
    {
     "data": {
      "text/plain": "30"
     },
     "execution_count": 19,
     "metadata": {},
     "output_type": "execute_result"
    }
   ],
   "source": [
    "#nombre de colonne a supprimer\n",
    "len(listIndexTraindelete)"
   ],
   "metadata": {
    "collapsed": false,
    "pycharm": {
     "name": "#%%\n"
    }
   }
  },
  {
   "cell_type": "code",
   "execution_count": 22,
   "outputs": [
    {
     "name": "stdout",
     "output_type": "stream",
     "text": [
      "VARIABLE SUPPRIMMER AVEC SUCCES\n"
     ]
    }
   ],
   "source": [
    "#Suppresssion des variables trop manquante dans le test  et train\n",
    "for var in listIndexTraindelete:\n",
    "    #print(var)\n",
    "    traindeux.drop([var],axis=1,inplace=True)\n",
    "    testdeux.drop([var],axis=1,inplace=True)\n",
    "print(\"VARIABLE SUPPRIMMER AVEC SUCCES\")"
   ],
   "metadata": {
    "collapsed": false,
    "pycharm": {
     "name": "#%%\n"
    }
   }
  },
  {
   "cell_type": "code",
   "execution_count": 23,
   "outputs": [
    {
     "name": "stdout",
     "output_type": "stream",
     "text": [
      "Train shape: (21295, 91)\n",
      "Test shape: (7517, 90)\n"
     ]
    }
   ],
   "source": [
    "#NOMBRE DE LIGNE ET DE COLONNE DES DATASETS\n",
    "print(f\"Train shape: {traindeux.shape}\")\n",
    "print(f\"Test shape: {testdeux.shape}\")"
   ],
   "metadata": {
    "collapsed": false,
    "pycharm": {
     "name": "#%%\n"
    }
   }
  },
  {
   "cell_type": "markdown",
   "source": [
    "#### GESTION DES AUTRE VARIABLE QUI ONT DES VARIABLE MANQUANTE"
   ],
   "metadata": {
    "collapsed": false,
    "pycharm": {
     "name": "#%% md\n"
    }
   }
  },
  {
   "cell_type": "code",
   "execution_count": 27,
   "outputs": [
    {
     "data": {
      "text/plain": "BCT_CODBUR         0\nCTR_MATFIS         0\nCTR_CATEGO_X       0\nFJU_CODFJU         0\nCTR_CESSAT         0\n                ... \nAX3_REVCAP      5117\nAX5_MNTMAR      5117\nRES_ANNIMP         0\ntarget             0\nid                 0\nLength: 91, dtype: int64"
     },
     "execution_count": 27,
     "metadata": {},
     "output_type": "execute_result"
    }
   ],
   "source": [
    "#RECUPERATION DES NOUVELLE VALEUR MANQUANTE\n",
    "train_null = traindeux.isna().sum()\n",
    "train_null\n",
    "\n",
    "#RECUPERATION DES NOUVELLE VALEUR MANQUANTE test\n",
    "#train_null = testdeux.isna().sum()\n",
    "#train_null"
   ],
   "metadata": {
    "collapsed": false,
    "pycharm": {
     "name": "#%%\n"
    }
   }
  },
  {
   "cell_type": "code",
   "execution_count": 28,
   "outputs": [
    {
     "data": {
      "text/plain": "CTR_OFODEC      10\nCTR_OFODEP      10\nCTR_OFODET      10\nCTR_OBLAUT      10\nCTR_OBLASS      10\n              ... \nAX1_BRTIMP    5117\nAX2_HONORA    5117\nAX2_LOYERS    5117\nAX3_REVCAP    5117\nAX5_MNTMAR    5117\nLength: 72, dtype: int64"
     },
     "execution_count": 28,
     "metadata": {},
     "output_type": "execute_result"
    }
   ],
   "source": [
    "#RECUPERATION DES VARIABLE QUI ONT ENCORE DES VARIABLE MANQUANTE\n",
    "train_null_to_delete = train_null[train_null > 9]\n",
    "train_null_to_delete"
   ],
   "metadata": {
    "collapsed": false,
    "pycharm": {
     "name": "#%%\n"
    }
   }
  },
  {
   "cell_type": "code",
   "execution_count": 29,
   "outputs": [
    {
     "data": {
      "text/plain": "<matplotlib.axes._subplots.AxesSubplot at 0x29adf9e34c0>"
     },
     "execution_count": 29,
     "metadata": {},
     "output_type": "execute_result"
    },
    {
     "data": {
      "text/plain": "<Figure size 432x288 with 1 Axes>",
      "image/png": "[encoded data removed]"
     },
     "metadata": {
      "needs_background": "light"
     },
     "output_type": "display_data"
    }
   ],
   "source": [
    "#VISUALISATION  DES VARIABLE MANQUANTE\n",
    "train_null_to_delete.plot.bar()"
   ],
   "metadata": {
    "collapsed": false,
    "pycharm": {
     "name": "#%%\n"
    }
   }
  },
  {
   "cell_type": "code",
   "execution_count": 30,
   "outputs": [
    {
     "data": {
      "text/plain": "         BCT_CODBUR    CTR_MATFIS    FJU_CODFJU    CTR_CESSAT    ACT_CODACT  \\\ncount  21295.000000  21295.000000  21295.000000  21295.000000  21295.000000   \nmean     214.935807   7797.448697     59.580888      0.048509   4821.595445   \nstd      162.992837   4484.430937     38.542427      0.228200   1168.628546   \nmin        9.000000      1.000000     10.000000      0.000000   1002.000000   \n25%       92.000000   3944.000000     22.000000      0.000000   4203.000000   \n50%      182.000000   7817.000000     23.000000      0.000000   4417.000000   \n75%      254.000000  11695.500000     99.000000      0.000000   6102.000000   \nmax      700.000000  15603.000000     99.000000      2.000000   8999.000000   \n\n         CTR_OBLDIR    CTR_OBLACP    CTR_OBLRES    CTR_OBLFOP    CTR_OBLTFP  \\\ncount  21295.000000  21295.000000  21295.000000  21295.000000  21295.000000   \nmean       4.454191      1.959850      1.977319      1.928105      1.949096   \nstd        1.205500      0.196316      0.154462      0.263361      0.221933   \nmin        1.000000      1.000000      1.000000      1.000000      1.000000   \n25%        4.000000      2.000000      2.000000      2.000000      2.000000   \n50%        4.000000      2.000000      2.000000      2.000000      2.000000   \n75%        4.000000      2.000000      2.000000      2.000000      2.000000   \nmax        9.000000      2.000000      5.000000      5.000000      3.000000   \n\n       ...  TVA_CA072018  TVA_CA132018  TVA_CA192018    AX1_BRTIMP  \\\ncount  ...  1.960500e+04  1.960500e+04  1.960500e+04  1.617800e+04   \nmean   ...  4.908786e+06  4.558446e+05  9.752878e+07  8.405487e+05   \nstd    ...  2.238335e+08  3.234868e+07  7.813033e+09  1.056144e+07   \nmin    ...  0.000000e+00  0.000000e+00  0.000000e+00  0.000000e+00   \n25%    ...  0.000000e+00  0.000000e+00  0.000000e+00  0.000000e+00   \n50%    ...  0.000000e+00  0.000000e+00  0.000000e+00  0.000000e+00   \n75%    ...  0.000000e+00  0.000000e+00  0.000000e+00  0.000000e+00   \nmax    ...  2.231536e+10  3.943210e+09  9.366127e+11  4.313529e+08   \n\n         AX2_HONORA    AX2_LOYERS    AX3_REVCAP    AX5_MNTMAR    RES_ANNIMP  \\\ncount  1.617800e+04  1.617800e+04  1.617800e+04  1.617800e+04  21295.000000   \nmean   6.099160e+07  1.571939e+07  1.883179e+07  1.031852e+09   2014.508852   \nstd    6.889392e+08  3.272856e+08  4.714234e+08  8.643212e+09      1.332947   \nmin    0.000000e+00  0.000000e+00  0.000000e+00  0.000000e+00   2013.000000   \n25%    0.000000e+00  0.000000e+00  0.000000e+00  0.000000e+00   2013.000000   \n50%    0.000000e+00  0.000000e+00  0.000000e+00  4.835240e+06   2014.000000   \n75%    4.115250e+06  0.000000e+00  1.261675e+04  1.573517e+08   2015.000000   \nmax    5.356192e+10  2.624338e+10  4.461683e+10  6.939759e+11   2018.000000   \n\n             target  \ncount  21295.000000  \nmean      11.780084  \nstd        7.085772  \nmin        0.000000  \n25%        0.000000  \n50%       14.981121  \n75%       16.625623  \nmax       23.591334  \n\n[8 rows x 89 columns]",
      "text/html": "<div>\n<style scoped>\n    .dataframe tbody tr th:only-of-type {\n        vertical-align: middle;\n    }\n\n    .dataframe tbody tr th {\n        vertical-align: top;\n    }\n\n    .dataframe thead th {\n        text-align: right;\n    }\n</style>\n<table border=\"1\" class=\"dataframe\">\n  <thead>\n    <tr style=\"text-align: right;\">\n      <th></th>\n      <th>BCT_CODBUR</th>\n      <th>CTR_MATFIS</th>\n      <th>FJU_CODFJU</th>\n      <th>CTR_CESSAT</th>\n      <th>ACT_CODACT</th>\n      <th>CTR_OBLDIR</th>\n      <th>CTR_OBLACP</th>\n      <th>CTR_OBLRES</th>\n      <th>CTR_OBLFOP</th>\n      <th>CTR_OBLTFP</th>\n      <th>...</th>\n      <th>TVA_CA072018</th>\n      <th>TVA_CA132018</th>\n      <th>TVA_CA192018</th>\n      <th>AX1_BRTIMP</th>\n      <th>AX2_HONORA</th>\n      <th>AX2_LOYERS</th>\n      <th>AX3_REVCAP</th>\n      <th>AX5_MNTMAR</th>\n      <th>RES_ANNIMP</th>\n      <th>target</th>\n    </tr>\n  </thead>\n  <tbody>\n    <tr>\n      <th>count</th>\n      <td>21295.000000</td>\n      <td>21295.000000</td>\n      <td>21295.000000</td>\n      <td>21295.000000</td>\n      <td>21295.000000</td>\n      <td>21295.000000</td>\n      <td>21295.000000</td>\n      <td>21295.000000</td>\n      <td>21295.000000</td>\n      <td>21295.000000</td>\n      <td>...</td>\n      <td>1.960500e+04</td>\n      <td>1.960500e+04</td>\n      <td>1.960500e+04</td>\n      <td>1.617800e+04</td>\n      <td>1.617800e+04</td>\n      <td>1.617800e+04</td>\n      <td>1.617800e+04</td>\n      <td>1.617800e+04</td>\n      <td>21295.000000</td>\n      <td>21295.000000</td>\n    </tr>\n    <tr>\n      <th>mean</th>\n      <td>214.935807</td>\n      <td>7797.448697</td>\n      <td>59.580888</td>\n      <td>0.048509</td>\n      <td>4821.595445</td>\n      <td>4.454191</td>\n      <td>1.959850</td>\n      <td>1.977319</td>\n      <td>1.928105</td>\n      <td>1.949096</td>\n      <td>...</td>\n      <td>4.908786e+06</td>\n      <td>4.558446e+05</td>\n      <td>9.752878e+07</td>\n      <td>8.405487e+05</td>\n      <td>6.099160e+07</td>\n      <td>1.571939e+07</td>\n      <td>1.883179e+07</td>\n      <td>1.031852e+09</td>\n      <td>2014.508852</td>\n      <td>11.780084</td>\n    </tr>\n    <tr>\n      <th>std</th>\n      <td>162.992837</td>\n      <td>4484.430937</td>\n      <td>38.542427</td>\n      <td>0.228200</td>\n      <td>1168.628546</td>\n      <td>1.205500</td>\n      <td>0.196316</td>\n      <td>0.154462</td>\n      <td>0.263361</td>\n      <td>0.221933</td>\n      <td>...</td>\n      <td>2.238335e+08</td>\n      <td>3.234868e+07</td>\n      <td>7.813033e+09</td>\n      <td>1.056144e+07</td>\n      <td>6.889392e+08</td>\n      <td>3.272856e+08</td>\n      <td>4.714234e+08</td>\n      <td>8.643212e+09</td>\n      <td>1.332947</td>\n      <td>7.085772</td>\n    </tr>\n    <tr>\n      <th>min</th>\n      <td>9.000000</td>\n      <td>1.000000</td>\n      <td>10.000000</td>\n      <td>0.000000</td>\n      <td>1002.000000</td>\n      <td>1.000000</td>\n      <td>1.000000</td>\n      <td>1.000000</td>\n      <td>1.000000</td>\n      <td>1.000000</td>\n      <td>...</td>\n      <td>0.000000e+00</td>\n      <td>0.000000e+00</td>\n      <td>0.000000e+00</td>\n      <td>0.000000e+00</td>\n      <td>0.000000e+00</td>\n      <td>0.000000e+00</td>\n      <td>0.000000e+00</td>\n      <td>0.000000e+00</td>\n      <td>2013.000000</td>\n      <td>0.000000</td>\n    </tr>\n    <tr>\n      <th>25%</th>\n      <td>92.000000</td>\n      <td>3944.000000</td>\n      <td>22.000000</td>\n      <td>0.000000</td>\n      <td>4203.000000</td>\n      <td>4.000000</td>\n      <td>2.000000</td>\n      <td>2.000000</td>\n      <td>2.000000</td>\n      <td>2.000000</td>\n      <td>...</td>\n      <td>0.000000e+00</td>\n      <td>0.000000e+00</td>\n      <td>0.000000e+00</td>\n      <td>0.000000e+00</td>\n      <td>0.000000e+00</td>\n      <td>0.000000e+00</td>\n      <td>0.000000e+00</td>\n      <td>0.000000e+00</td>\n      <td>2013.000000</td>\n      <td>0.000000</td>\n    </tr>\n    <tr>\n      <th>50%</th>\n      <td>182.000000</td>\n      <td>7817.000000</td>\n      <td>23.000000</td>\n      <td>0.000000</td>\n      <td>4417.000000</td>\n      <td>4.000000</td>\n      <td>2.000000</td>\n      <td>2.000000</td>\n      <td>2.000000</td>\n      <td>2.000000</td>\n      <td>...</td>\n      <td>0.000000e+00</td>\n      <td>0.000000e+00</td>\n      <td>0.000000e+00</td>\n      <td>0.000000e+00</td>\n      <td>0.000000e+00</td>\n      <td>0.000000e+00</td>\n      <td>0.000000e+00</td>\n      <td>4.835240e+06</td>\n      <td>2014.000000</td>\n      <td>14.981121</td>\n    </tr>\n    <tr>\n      <th>75%</th>\n      <td>254.000000</td>\n      <td>11695.500000</td>\n      <td>99.000000</td>\n      <td>0.000000</td>\n      <td>6102.000000</td>\n      <td>4.000000</td>\n      <td>2.000000</td>\n      <td>2.000000</td>\n      <td>2.000000</td>\n      <td>2.000000</td>\n      <td>...</td>\n      <td>0.000000e+00</td>\n      <td>0.000000e+00</td>\n      <td>0.000000e+00</td>\n      <td>0.000000e+00</td>\n      <td>4.115250e+06</td>\n      <td>0.000000e+00</td>\n      <td>1.261675e+04</td>\n      <td>1.573517e+08</td>\n      <td>2015.000000</td>\n      <td>16.625623</td>\n    </tr>\n    <tr>\n      <th>max</th>\n      <td>700.000000</td>\n      <td>15603.000000</td>\n      <td>99.000000</td>\n      <td>2.000000</td>\n      <td>8999.000000</td>\n      <td>9.000000</td>\n      <td>2.000000</td>\n      <td>5.000000</td>\n      <td>5.000000</td>\n      <td>3.000000</td>\n      <td>...</td>\n      <td>2.231536e+10</td>\n      <td>3.943210e+09</td>\n      <td>9.366127e+11</td>\n      <td>4.313529e+08</td>\n      <td>5.356192e+10</td>\n      <td>2.624338e+10</td>\n      <td>4.461683e+10</td>\n      <td>6.939759e+11</td>\n      <td>2018.000000</td>\n      <td>23.591334</td>\n    </tr>\n  </tbody>\n</table>\n<p>8 rows × 89 columns</p>\n</div>"
     },
     "execution_count": 30,
     "metadata": {},
     "output_type": "execute_result"
    }
   ],
   "source": [
    "traindeux.describe()"
   ],
   "metadata": {
    "collapsed": false,
    "pycharm": {
     "name": "#%%\n"
    }
   }
  },
  {
   "cell_type": "code",
   "execution_count": 31,
   "outputs": [
    {
     "name": "stdout",
     "output_type": "stream",
     "text": [
      "<class 'pandas.core.frame.DataFrame'>\n",
      "RangeIndex: 21295 entries, 0 to 21294\n",
      "Data columns (total 91 columns):\n",
      " #   Column        Non-Null Count  Dtype  \n",
      "---  ------        --------------  -----  \n",
      " 0   BCT_CODBUR    21295 non-null  int64  \n",
      " 1   CTR_MATFIS    21295 non-null  int64  \n",
      " 2   CTR_CATEGO_X  21295 non-null  object \n",
      " 3   FJU_CODFJU    21295 non-null  int64  \n",
      " 4   CTR_CESSAT    21295 non-null  int64  \n",
      " 5   ACT_CODACT    21295 non-null  int64  \n",
      " 6   CTR_OBLDIR    21295 non-null  int64  \n",
      " 7   CTR_OBLACP    21295 non-null  int64  \n",
      " 8   CTR_OBLRES    21295 non-null  int64  \n",
      " 9   CTR_OBLFOP    21295 non-null  int64  \n",
      " 10  CTR_OBLTFP    21295 non-null  int64  \n",
      " 11  CTR_OBLDCO    21295 non-null  int64  \n",
      " 12  CTR_OBLTVA    21295 non-null  int64  \n",
      " 13  CTR_OFODEC    21285 non-null  float64\n",
      " 14  CTR_OFODEP    21285 non-null  float64\n",
      " 15  CTR_OFODET    21285 non-null  float64\n",
      " 16  CTR_OBLAUT    21285 non-null  float64\n",
      " 17  CTR_OBLASS    21285 non-null  float64\n",
      " 18  CTR_ODTIMB    21285 non-null  float64\n",
      " 19  CTR_OBLTCL    21295 non-null  int64  \n",
      " 20  CTR_OBLTHO    21285 non-null  float64\n",
      " 21  CTR_OBLDLI    21285 non-null  float64\n",
      " 22  CTR_OBLTVI    21285 non-null  float64\n",
      " 23  CTR_RATISS    21295 non-null  int64  \n",
      " 24  EXE_EXERCI    21295 non-null  int64  \n",
      " 25  TVA_CHAFF6    19605 non-null  float64\n",
      " 26  TVA_CHAFF7    19605 non-null  float64\n",
      " 27  TVA_CHAF10    19605 non-null  float64\n",
      " 28  TVA_CHAF12    19605 non-null  float64\n",
      " 29  TVA_CAF125    19605 non-null  float64\n",
      " 30  TVA_CHAF15    19605 non-null  float64\n",
      " 31  TVA_CHAF18    19605 non-null  float64\n",
      " 32  TVA_CHAF22    19605 non-null  float64\n",
      " 33  TVA_CHAF29    19605 non-null  float64\n",
      " 34  TVA_CHAF36    19605 non-null  float64\n",
      " 35  TVA_TOTDUE    19605 non-null  float64\n",
      " 36  TVA_MOIDEB    19605 non-null  float64\n",
      " 37  TVA_CRDINI    19605 non-null  float64\n",
      " 38  TVA_BASIMB    19605 non-null  float64\n",
      " 39  TVA_DEDIMB    19605 non-null  float64\n",
      " 40  TVA_BASEQL    19605 non-null  float64\n",
      " 41  TVA_DEDEQL    19605 non-null  float64\n",
      " 42  TVA_BASEQI    19605 non-null  float64\n",
      " 43  TVA_DEDEQI    19605 non-null  float64\n",
      " 44  TVA_BASAUL    19605 non-null  float64\n",
      " 45  TVA_DEDAUL    19605 non-null  float64\n",
      " 46  TVA_BASAUI    19605 non-null  float64\n",
      " 47  TVA_DEDAUI    19605 non-null  float64\n",
      " 48  TVA_BASRSM    19605 non-null  float64\n",
      " 49  TVA_DEDRSM    19605 non-null  float64\n",
      " 50  TVA_RSNRES    19605 non-null  float64\n",
      " 51  TVA_TRSPOR    19605 non-null  float64\n",
      " 52  TVA_DEDREG    19605 non-null  float64\n",
      " 53  TVA_RESTIT    19605 non-null  float64\n",
      " 54  TVA_MNTPAY    19605 non-null  float64\n",
      " 55  TVA_MOIFIN    19605 non-null  float64\n",
      " 56  TVA_CRDFIN    19605 non-null  float64\n",
      " 57  TVA_ACHSUS    19605 non-null  float64\n",
      " 58  TVA_ACHEXO    19605 non-null  float64\n",
      " 59  TVA_ACHNDD    19605 non-null  float64\n",
      " 60  TVA_CAFEXP    19605 non-null  float64\n",
      " 61  TVA_CAFSUS    19605 non-null  float64\n",
      " 62  TVA_CAFEXO    19605 non-null  float64\n",
      " 63  TVA_AACHAB    19605 non-null  float64\n",
      " 64  TVA_CRDBLQ    19605 non-null  float64\n",
      " 65  TVA_CRDRES    19605 non-null  float64\n",
      " 66  TVA_CRDRMP    19605 non-null  float64\n",
      " 67  TVA_CRDREP    19605 non-null  float64\n",
      " 68  TVA_CRDRMC    19605 non-null  float64\n",
      " 69  TVA_MACHN     19605 non-null  float64\n",
      " 70  TVA_MCESQ     19605 non-null  float64\n",
      " 71  TVA_MTVLSM    19605 non-null  float64\n",
      " 72  TVA_TXVLSM    19605 non-null  float64\n",
      " 73  TVA_MTALSM    19605 non-null  float64\n",
      " 74  TVA_TXALSM    19605 non-null  float64\n",
      " 75  TVA_MTORDTVA  19605 non-null  float64\n",
      " 76  TVA_MTDJRTVA  19605 non-null  float64\n",
      " 77  TVA_MTORDTAX  19605 non-null  float64\n",
      " 78  TVA_MTDJRTAX  19605 non-null  float64\n",
      " 79  TVA_MTRESTAX  19605 non-null  float64\n",
      " 80  TVA_CA072018  19605 non-null  float64\n",
      " 81  TVA_CA132018  19605 non-null  float64\n",
      " 82  TVA_CA192018  19605 non-null  float64\n",
      " 83  AX1_BRTIMP    16178 non-null  float64\n",
      " 84  AX2_HONORA    16178 non-null  float64\n",
      " 85  AX2_LOYERS    16178 non-null  float64\n",
      " 86  AX3_REVCAP    16178 non-null  float64\n",
      " 87  AX5_MNTMAR    16178 non-null  float64\n",
      " 88  RES_ANNIMP    21295 non-null  int64  \n",
      " 89  target        21295 non-null  float64\n",
      " 90  id            21295 non-null  object \n",
      "dtypes: float64(73), int64(16), object(2)\n",
      "memory usage: 14.8+ MB\n"
     ]
    }
   ],
   "source": [
    "traindeux.info()"
   ],
   "metadata": {
    "collapsed": false,
    "pycharm": {
     "name": "#%%\n"
    }
   }
  },
  {
   "cell_type": "code",
   "execution_count": 32,
   "outputs": [],
   "source": [
    "#REMPLACONS LES NAN PAR LA MOYEN DE CHAQUE COLONNE\n",
    "for var in train_null_to_delete.index:\n",
    "    traindeux.fillna(value={var:traindeux[var].mean()},inplace=True)\n",
    "    testdeux.fillna(value={var:traindeux[var].mean()},inplace=True)"
   ],
   "metadata": {
    "collapsed": false,
    "pycharm": {
     "name": "#%%\n"
    }
   }
  },
  {
   "cell_type": "code",
   "execution_count": 33,
   "outputs": [
    {
     "name": "stdout",
     "output_type": "stream",
     "text": [
      "<class 'pandas.core.frame.DataFrame'>\n",
      "RangeIndex: 21295 entries, 0 to 21294\n",
      "Data columns (total 91 columns):\n",
      " #   Column        Non-Null Count  Dtype  \n",
      "---  ------        --------------  -----  \n",
      " 0   BCT_CODBUR    21295 non-null  int64  \n",
      " 1   CTR_MATFIS    21295 non-null  int64  \n",
      " 2   CTR_CATEGO_X  21295 non-null  object \n",
      " 3   FJU_CODFJU    21295 non-null  int64  \n",
      " 4   CTR_CESSAT    21295 non-null  int64  \n",
      " 5   ACT_CODACT    21295 non-null  int64  \n",
      " 6   CTR_OBLDIR    21295 non-null  int64  \n",
      " 7   CTR_OBLACP    21295 non-null  int64  \n",
      " 8   CTR_OBLRES    21295 non-null  int64  \n",
      " 9   CTR_OBLFOP    21295 non-null  int64  \n",
      " 10  CTR_OBLTFP    21295 non-null  int64  \n",
      " 11  CTR_OBLDCO    21295 non-null  int64  \n",
      " 12  CTR_OBLTVA    21295 non-null  int64  \n",
      " 13  CTR_OFODEC    21295 non-null  float64\n",
      " 14  CTR_OFODEP    21295 non-null  float64\n",
      " 15  CTR_OFODET    21295 non-null  float64\n",
      " 16  CTR_OBLAUT    21295 non-null  float64\n",
      " 17  CTR_OBLASS    21295 non-null  float64\n",
      " 18  CTR_ODTIMB    21295 non-null  float64\n",
      " 19  CTR_OBLTCL    21295 non-null  int64  \n",
      " 20  CTR_OBLTHO    21295 non-null  float64\n",
      " 21  CTR_OBLDLI    21295 non-null  float64\n",
      " 22  CTR_OBLTVI    21295 non-null  float64\n",
      " 23  CTR_RATISS    21295 non-null  int64  \n",
      " 24  EXE_EXERCI    21295 non-null  int64  \n",
      " 25  TVA_CHAFF6    21295 non-null  float64\n",
      " 26  TVA_CHAFF7    21295 non-null  float64\n",
      " 27  TVA_CHAF10    21295 non-null  float64\n",
      " 28  TVA_CHAF12    21295 non-null  float64\n",
      " 29  TVA_CAF125    21295 non-null  float64\n",
      " 30  TVA_CHAF15    21295 non-null  float64\n",
      " 31  TVA_CHAF18    21295 non-null  float64\n",
      " 32  TVA_CHAF22    21295 non-null  float64\n",
      " 33  TVA_CHAF29    21295 non-null  float64\n",
      " 34  TVA_CHAF36    21295 non-null  float64\n",
      " 35  TVA_TOTDUE    21295 non-null  float64\n",
      " 36  TVA_MOIDEB    21295 non-null  float64\n",
      " 37  TVA_CRDINI    21295 non-null  float64\n",
      " 38  TVA_BASIMB    21295 non-null  float64\n",
      " 39  TVA_DEDIMB    21295 non-null  float64\n",
      " 40  TVA_BASEQL    21295 non-null  float64\n",
      " 41  TVA_DEDEQL    21295 non-null  float64\n",
      " 42  TVA_BASEQI    21295 non-null  float64\n",
      " 43  TVA_DEDEQI    21295 non-null  float64\n",
      " 44  TVA_BASAUL    21295 non-null  float64\n",
      " 45  TVA_DEDAUL    21295 non-null  float64\n",
      " 46  TVA_BASAUI    21295 non-null  float64\n",
      " 47  TVA_DEDAUI    21295 non-null  float64\n",
      " 48  TVA_BASRSM    21295 non-null  float64\n",
      " 49  TVA_DEDRSM    21295 non-null  float64\n",
      " 50  TVA_RSNRES    21295 non-null  float64\n",
      " 51  TVA_TRSPOR    21295 non-null  float64\n",
      " 52  TVA_DEDREG    21295 non-null  float64\n",
      " 53  TVA_RESTIT    21295 non-null  float64\n",
      " 54  TVA_MNTPAY    21295 non-null  float64\n",
      " 55  TVA_MOIFIN    21295 non-null  float64\n",
      " 56  TVA_CRDFIN    21295 non-null  float64\n",
      " 57  TVA_ACHSUS    21295 non-null  float64\n",
      " 58  TVA_ACHEXO    21295 non-null  float64\n",
      " 59  TVA_ACHNDD    21295 non-null  float64\n",
      " 60  TVA_CAFEXP    21295 non-null  float64\n",
      " 61  TVA_CAFSUS    21295 non-null  float64\n",
      " 62  TVA_CAFEXO    21295 non-null  float64\n",
      " 63  TVA_AACHAB    21295 non-null  float64\n",
      " 64  TVA_CRDBLQ    21295 non-null  float64\n",
      " 65  TVA_CRDRES    21295 non-null  float64\n",
      " 66  TVA_CRDRMP    21295 non-null  float64\n",
      " 67  TVA_CRDREP    21295 non-null  float64\n",
      " 68  TVA_CRDRMC    21295 non-null  float64\n",
      " 69  TVA_MACHN     21295 non-null  float64\n",
      " 70  TVA_MCESQ     21295 non-null  float64\n",
      " 71  TVA_MTVLSM    21295 non-null  float64\n",
      " 72  TVA_TXVLSM    21295 non-null  float64\n",
      " 73  TVA_MTALSM    21295 non-null  float64\n",
      " 74  TVA_TXALSM    21295 non-null  float64\n",
      " 75  TVA_MTORDTVA  21295 non-null  float64\n",
      " 76  TVA_MTDJRTVA  21295 non-null  float64\n",
      " 77  TVA_MTORDTAX  21295 non-null  float64\n",
      " 78  TVA_MTDJRTAX  21295 non-null  float64\n",
      " 79  TVA_MTRESTAX  21295 non-null  float64\n",
      " 80  TVA_CA072018  21295 non-null  float64\n",
      " 81  TVA_CA132018  21295 non-null  float64\n",
      " 82  TVA_CA192018  21295 non-null  float64\n",
      " 83  AX1_BRTIMP    21295 non-null  float64\n",
      " 84  AX2_HONORA    21295 non-null  float64\n",
      " 85  AX2_LOYERS    21295 non-null  float64\n",
      " 86  AX3_REVCAP    21295 non-null  float64\n",
      " 87  AX5_MNTMAR    21295 non-null  float64\n",
      " 88  RES_ANNIMP    21295 non-null  int64  \n",
      " 89  target        21295 non-null  float64\n",
      " 90  id            21295 non-null  object \n",
      "dtypes: float64(73), int64(16), object(2)\n",
      "memory usage: 14.8+ MB\n"
     ]
    }
   ],
   "source": [
    "#VERIFICATION DE TOUTES LES VALEUR ON LE MEME NOMBRE DE LIGNE\n",
    "traindeux.info()"
   ],
   "metadata": {
    "collapsed": false,
    "pycharm": {
     "name": "#%%\n"
    }
   }
  },
  {
   "cell_type": "code",
   "execution_count": 34,
   "outputs": [
    {
     "ename": "IndexError",
     "evalue": "index 0 is out of bounds for axis 0 with size 0",
     "output_type": "error",
     "traceback": [
      "\u001B[1;31m---------------------------------------------------------------------------\u001B[0m",
      "\u001B[1;31mIndexError\u001B[0m                                Traceback (most recent call last)",
      "\u001B[1;32m<ipython-input-34-f812261bf186>\u001B[0m in \u001B[0;36m<module>\u001B[1;34m\u001B[0m\n\u001B[0;32m      2\u001B[0m \u001B[0mtrain_null\u001B[0m \u001B[1;33m=\u001B[0m \u001B[0mtraindeux\u001B[0m\u001B[1;33m.\u001B[0m\u001B[0misna\u001B[0m\u001B[1;33m(\u001B[0m\u001B[1;33m)\u001B[0m\u001B[1;33m.\u001B[0m\u001B[0msum\u001B[0m\u001B[1;33m(\u001B[0m\u001B[1;33m)\u001B[0m\u001B[1;33m\u001B[0m\u001B[1;33m\u001B[0m\u001B[0m\n\u001B[0;32m      3\u001B[0m \u001B[0mtrain_null_to_delete\u001B[0m \u001B[1;33m=\u001B[0m \u001B[0mtrain_null\u001B[0m\u001B[1;33m[\u001B[0m\u001B[0mtrain_null\u001B[0m \u001B[1;33m>\u001B[0m \u001B[1;36m9\u001B[0m\u001B[1;33m]\u001B[0m\u001B[1;33m\u001B[0m\u001B[1;33m\u001B[0m\u001B[0m\n\u001B[1;32m----> 4\u001B[1;33m \u001B[0mtrain_null_to_delete\u001B[0m\u001B[1;33m.\u001B[0m\u001B[0mplot\u001B[0m\u001B[1;33m.\u001B[0m\u001B[0mbar\u001B[0m\u001B[1;33m(\u001B[0m\u001B[1;33m)\u001B[0m\u001B[1;33m\u001B[0m\u001B[1;33m\u001B[0m\u001B[0m\n\u001B[0m",
      "\u001B[1;32m~\\anaconda3\\lib\\site-packages\\pandas\\plotting\\_core.py\u001B[0m in \u001B[0;36mbar\u001B[1;34m(self, x, y, **kwargs)\u001B[0m\n\u001B[0;32m   1001\u001B[0m             \u001B[1;33m>>\u001B[0m\u001B[1;33m>\u001B[0m \u001B[0max\u001B[0m \u001B[1;33m=\u001B[0m \u001B[0mdf\u001B[0m\u001B[1;33m.\u001B[0m\u001B[0mplot\u001B[0m\u001B[1;33m.\u001B[0m\u001B[0mbar\u001B[0m\u001B[1;33m(\u001B[0m\u001B[0mx\u001B[0m\u001B[1;33m=\u001B[0m\u001B[1;34m'lifespan'\u001B[0m\u001B[1;33m,\u001B[0m \u001B[0mrot\u001B[0m\u001B[1;33m=\u001B[0m\u001B[1;36m0\u001B[0m\u001B[1;33m)\u001B[0m\u001B[1;33m\u001B[0m\u001B[1;33m\u001B[0m\u001B[0m\n\u001B[0;32m   1002\u001B[0m         \"\"\"\n\u001B[1;32m-> 1003\u001B[1;33m         \u001B[1;32mreturn\u001B[0m \u001B[0mself\u001B[0m\u001B[1;33m(\u001B[0m\u001B[0mkind\u001B[0m\u001B[1;33m=\u001B[0m\u001B[1;34m\"bar\"\u001B[0m\u001B[1;33m,\u001B[0m \u001B[0mx\u001B[0m\u001B[1;33m=\u001B[0m\u001B[0mx\u001B[0m\u001B[1;33m,\u001B[0m \u001B[0my\u001B[0m\u001B[1;33m=\u001B[0m\u001B[0my\u001B[0m\u001B[1;33m,\u001B[0m \u001B[1;33m**\u001B[0m\u001B[0mkwargs\u001B[0m\u001B[1;33m)\u001B[0m\u001B[1;33m\u001B[0m\u001B[1;33m\u001B[0m\u001B[0m\n\u001B[0m\u001B[0;32m   1004\u001B[0m \u001B[1;33m\u001B[0m\u001B[0m\n\u001B[0;32m   1005\u001B[0m     \u001B[1;32mdef\u001B[0m \u001B[0mbarh\u001B[0m\u001B[1;33m(\u001B[0m\u001B[0mself\u001B[0m\u001B[1;33m,\u001B[0m \u001B[0mx\u001B[0m\u001B[1;33m=\u001B[0m\u001B[1;32mNone\u001B[0m\u001B[1;33m,\u001B[0m \u001B[0my\u001B[0m\u001B[1;33m=\u001B[0m\u001B[1;32mNone\u001B[0m\u001B[1;33m,\u001B[0m \u001B[1;33m**\u001B[0m\u001B[0mkwargs\u001B[0m\u001B[1;33m)\u001B[0m\u001B[1;33m:\u001B[0m\u001B[1;33m\u001B[0m\u001B[1;33m\u001B[0m\u001B[0m\n",
      "\u001B[1;32m~\\anaconda3\\lib\\site-packages\\pandas\\plotting\\_core.py\u001B[0m in \u001B[0;36m__call__\u001B[1;34m(self, *args, **kwargs)\u001B[0m\n\u001B[0;32m    845\u001B[0m                     \u001B[0mdata\u001B[0m\u001B[1;33m.\u001B[0m\u001B[0mcolumns\u001B[0m \u001B[1;33m=\u001B[0m \u001B[0mlabel_name\u001B[0m\u001B[1;33m\u001B[0m\u001B[1;33m\u001B[0m\u001B[0m\n\u001B[0;32m    846\u001B[0m \u001B[1;33m\u001B[0m\u001B[0m\n\u001B[1;32m--> 847\u001B[1;33m         \u001B[1;32mreturn\u001B[0m \u001B[0mplot_backend\u001B[0m\u001B[1;33m.\u001B[0m\u001B[0mplot\u001B[0m\u001B[1;33m(\u001B[0m\u001B[0mdata\u001B[0m\u001B[1;33m,\u001B[0m \u001B[0mkind\u001B[0m\u001B[1;33m=\u001B[0m\u001B[0mkind\u001B[0m\u001B[1;33m,\u001B[0m \u001B[1;33m**\u001B[0m\u001B[0mkwargs\u001B[0m\u001B[1;33m)\u001B[0m\u001B[1;33m\u001B[0m\u001B[1;33m\u001B[0m\u001B[0m\n\u001B[0m\u001B[0;32m    848\u001B[0m \u001B[1;33m\u001B[0m\u001B[0m\n\u001B[0;32m    849\u001B[0m     \u001B[0m__call__\u001B[0m\u001B[1;33m.\u001B[0m\u001B[0m__doc__\u001B[0m \u001B[1;33m=\u001B[0m \u001B[0m__doc__\u001B[0m\u001B[1;33m\u001B[0m\u001B[1;33m\u001B[0m\u001B[0m\n",
      "\u001B[1;32m~\\anaconda3\\lib\\site-packages\\pandas\\plotting\\_matplotlib\\__init__.py\u001B[0m in \u001B[0;36mplot\u001B[1;34m(data, kind, **kwargs)\u001B[0m\n\u001B[0;32m     59\u001B[0m             \u001B[0mkwargs\u001B[0m\u001B[1;33m[\u001B[0m\u001B[1;34m\"ax\"\u001B[0m\u001B[1;33m]\u001B[0m \u001B[1;33m=\u001B[0m \u001B[0mgetattr\u001B[0m\u001B[1;33m(\u001B[0m\u001B[0max\u001B[0m\u001B[1;33m,\u001B[0m \u001B[1;34m\"left_ax\"\u001B[0m\u001B[1;33m,\u001B[0m \u001B[0max\u001B[0m\u001B[1;33m)\u001B[0m\u001B[1;33m\u001B[0m\u001B[1;33m\u001B[0m\u001B[0m\n\u001B[0;32m     60\u001B[0m     \u001B[0mplot_obj\u001B[0m \u001B[1;33m=\u001B[0m \u001B[0mPLOT_CLASSES\u001B[0m\u001B[1;33m[\u001B[0m\u001B[0mkind\u001B[0m\u001B[1;33m]\u001B[0m\u001B[1;33m(\u001B[0m\u001B[0mdata\u001B[0m\u001B[1;33m,\u001B[0m \u001B[1;33m**\u001B[0m\u001B[0mkwargs\u001B[0m\u001B[1;33m)\u001B[0m\u001B[1;33m\u001B[0m\u001B[1;33m\u001B[0m\u001B[0m\n\u001B[1;32m---> 61\u001B[1;33m     \u001B[0mplot_obj\u001B[0m\u001B[1;33m.\u001B[0m\u001B[0mgenerate\u001B[0m\u001B[1;33m(\u001B[0m\u001B[1;33m)\u001B[0m\u001B[1;33m\u001B[0m\u001B[1;33m\u001B[0m\u001B[0m\n\u001B[0m\u001B[0;32m     62\u001B[0m     \u001B[0mplot_obj\u001B[0m\u001B[1;33m.\u001B[0m\u001B[0mdraw\u001B[0m\u001B[1;33m(\u001B[0m\u001B[1;33m)\u001B[0m\u001B[1;33m\u001B[0m\u001B[1;33m\u001B[0m\u001B[0m\n\u001B[0;32m     63\u001B[0m     \u001B[1;32mreturn\u001B[0m \u001B[0mplot_obj\u001B[0m\u001B[1;33m.\u001B[0m\u001B[0mresult\u001B[0m\u001B[1;33m\u001B[0m\u001B[1;33m\u001B[0m\u001B[0m\n",
      "\u001B[1;32m~\\anaconda3\\lib\\site-packages\\pandas\\plotting\\_matplotlib\\core.py\u001B[0m in \u001B[0;36mgenerate\u001B[1;34m(self)\u001B[0m\n\u001B[0;32m    268\u001B[0m         \u001B[1;32mfor\u001B[0m \u001B[0max\u001B[0m \u001B[1;32min\u001B[0m \u001B[0mself\u001B[0m\u001B[1;33m.\u001B[0m\u001B[0maxes\u001B[0m\u001B[1;33m:\u001B[0m\u001B[1;33m\u001B[0m\u001B[1;33m\u001B[0m\u001B[0m\n\u001B[0;32m    269\u001B[0m             \u001B[0mself\u001B[0m\u001B[1;33m.\u001B[0m\u001B[0m_post_plot_logic_common\u001B[0m\u001B[1;33m(\u001B[0m\u001B[0max\u001B[0m\u001B[1;33m,\u001B[0m \u001B[0mself\u001B[0m\u001B[1;33m.\u001B[0m\u001B[0mdata\u001B[0m\u001B[1;33m)\u001B[0m\u001B[1;33m\u001B[0m\u001B[1;33m\u001B[0m\u001B[0m\n\u001B[1;32m--> 270\u001B[1;33m             \u001B[0mself\u001B[0m\u001B[1;33m.\u001B[0m\u001B[0m_post_plot_logic\u001B[0m\u001B[1;33m(\u001B[0m\u001B[0max\u001B[0m\u001B[1;33m,\u001B[0m \u001B[0mself\u001B[0m\u001B[1;33m.\u001B[0m\u001B[0mdata\u001B[0m\u001B[1;33m)\u001B[0m\u001B[1;33m\u001B[0m\u001B[1;33m\u001B[0m\u001B[0m\n\u001B[0m\u001B[0;32m    271\u001B[0m \u001B[1;33m\u001B[0m\u001B[0m\n\u001B[0;32m    272\u001B[0m     \u001B[1;32mdef\u001B[0m \u001B[0m_args_adjust\u001B[0m\u001B[1;33m(\u001B[0m\u001B[0mself\u001B[0m\u001B[1;33m)\u001B[0m\u001B[1;33m:\u001B[0m\u001B[1;33m\u001B[0m\u001B[1;33m\u001B[0m\u001B[0m\n",
      "\u001B[1;32m~\\anaconda3\\lib\\site-packages\\pandas\\plotting\\_matplotlib\\core.py\u001B[0m in \u001B[0;36m_post_plot_logic\u001B[1;34m(self, ax, data)\u001B[0m\n\u001B[0;32m   1414\u001B[0m         \u001B[0mname\u001B[0m \u001B[1;33m=\u001B[0m \u001B[0mself\u001B[0m\u001B[1;33m.\u001B[0m\u001B[0m_get_index_name\u001B[0m\u001B[1;33m(\u001B[0m\u001B[1;33m)\u001B[0m\u001B[1;33m\u001B[0m\u001B[1;33m\u001B[0m\u001B[0m\n\u001B[0;32m   1415\u001B[0m \u001B[1;33m\u001B[0m\u001B[0m\n\u001B[1;32m-> 1416\u001B[1;33m         \u001B[0ms_edge\u001B[0m \u001B[1;33m=\u001B[0m \u001B[0mself\u001B[0m\u001B[1;33m.\u001B[0m\u001B[0max_pos\u001B[0m\u001B[1;33m[\u001B[0m\u001B[1;36m0\u001B[0m\u001B[1;33m]\u001B[0m \u001B[1;33m-\u001B[0m \u001B[1;36m0.25\u001B[0m \u001B[1;33m+\u001B[0m \u001B[0mself\u001B[0m\u001B[1;33m.\u001B[0m\u001B[0mlim_offset\u001B[0m\u001B[1;33m\u001B[0m\u001B[1;33m\u001B[0m\u001B[0m\n\u001B[0m\u001B[0;32m   1417\u001B[0m         \u001B[0me_edge\u001B[0m \u001B[1;33m=\u001B[0m \u001B[0mself\u001B[0m\u001B[1;33m.\u001B[0m\u001B[0max_pos\u001B[0m\u001B[1;33m[\u001B[0m\u001B[1;33m-\u001B[0m\u001B[1;36m1\u001B[0m\u001B[1;33m]\u001B[0m \u001B[1;33m+\u001B[0m \u001B[1;36m0.25\u001B[0m \u001B[1;33m+\u001B[0m \u001B[0mself\u001B[0m\u001B[1;33m.\u001B[0m\u001B[0mbar_width\u001B[0m \u001B[1;33m+\u001B[0m \u001B[0mself\u001B[0m\u001B[1;33m.\u001B[0m\u001B[0mlim_offset\u001B[0m\u001B[1;33m\u001B[0m\u001B[1;33m\u001B[0m\u001B[0m\n\u001B[0;32m   1418\u001B[0m \u001B[1;33m\u001B[0m\u001B[0m\n",
      "\u001B[1;31mIndexError\u001B[0m: index 0 is out of bounds for axis 0 with size 0"
     ]
    },
    {
     "data": {
      "text/plain": "<Figure size 432x288 with 1 Axes>",
      "image/png": "[encoded data removed]"
     },
     "metadata": {
      "needs_background": "light"
     },
     "output_type": "display_data"
    }
   ],
   "source": [
    "#VISUALISATION POUR CONFIRMATION\n",
    "train_null = traindeux.isna().sum()\n",
    "train_null_to_delete = train_null[train_null > 9]\n",
    "train_null_to_delete.plot.bar()"
   ],
   "metadata": {
    "collapsed": false,
    "pycharm": {
     "name": "#%%\n"
    }
   }
  },
  {
   "cell_type": "code",
   "execution_count": 28,
   "outputs": [],
   "source": [
    "#ON VA  NETTOYER LES VAR DE TYPE OBJET\n",
    "\n",
    "#ELIMINATION DE LID\n",
    "#traindeux.drop(['id'], axis=1,inplace=True)\n",
    "#testdeux.drop(['id'], axis=1,inplace=True)\n",
    "\n"
   ],
   "metadata": {
    "collapsed": false,
    "pycharm": {
     "name": "#%%\n"
    }
   }
  },
  {
   "cell_type": "markdown",
   "source": [
    "##### VARIABLE CTR_CATEGO_X"
   ],
   "metadata": {
    "collapsed": false,
    "pycharm": {
     "name": "#%% md\n"
    }
   }
  },
  {
   "cell_type": "code",
   "execution_count": 35,
   "outputs": [
    {
     "data": {
      "text/plain": "0        C\n1        M\n2        M\n3        C\n4        M\n        ..\n21290    M\n21291    M\n21292    M\n21293    M\n21294    P\nName: CTR_CATEGO_X, Length: 21295, dtype: object"
     },
     "execution_count": 35,
     "metadata": {},
     "output_type": "execute_result"
    }
   ],
   "source": [
    "#ANALYSE DE CATEGORIE\n",
    "traindeux['CTR_CATEGO_X']"
   ],
   "metadata": {
    "collapsed": false,
    "pycharm": {
     "name": "#%%\n"
    }
   }
  },
  {
   "cell_type": "code",
   "execution_count": 36,
   "outputs": [
    {
     "data": {
      "text/plain": "array(['C', 'M', 'P', 'N'], dtype=object)"
     },
     "execution_count": 36,
     "metadata": {},
     "output_type": "execute_result"
    }
   ],
   "source": [
    "#ANALYSE DE CATEGORIE\n",
    "traindeux['CTR_CATEGO_X'].unique()"
   ],
   "metadata": {
    "collapsed": false,
    "pycharm": {
     "name": "#%%\n"
    }
   }
  },
  {
   "cell_type": "code",
   "execution_count": 37,
   "outputs": [
    {
     "data": {
      "text/plain": "array([0, 1, 2, 3], dtype=int64)"
     },
     "execution_count": 37,
     "metadata": {},
     "output_type": "execute_result"
    }
   ],
   "source": [
    "#Factorize nous permet de modifier les differents variables  EN ENTIER\n",
    "traindeux['CTR_CATEGO_X'] = traindeux['CTR_CATEGO_X'].factorize()[0]\n",
    "testdeux['CTR_CATEGO_X'] = testdeux['CTR_CATEGO_X'].factorize()[0]\n",
    "\n",
    "#AffICHAGE DE LA NOUVELLE CATEGORIE\n",
    "traindeux['CTR_CATEGO_X'].unique()"
   ],
   "metadata": {
    "collapsed": false,
    "pycharm": {
     "name": "#%%\n"
    }
   }
  },
  {
   "cell_type": "markdown",
   "source": [
    "#### ANALYSE DE LA VARIABLE target"
   ],
   "metadata": {
    "collapsed": false,
    "pycharm": {
     "name": "#%% md\n"
    }
   }
  },
  {
   "cell_type": "code",
   "execution_count": 38,
   "outputs": [
    {
     "data": {
      "text/plain": "array([16.63920349, 17.82770294, 15.47350299, ..., 18.01877824,\n       15.52110811, 12.46071874])"
     },
     "execution_count": 38,
     "metadata": {},
     "output_type": "execute_result"
    }
   ],
   "source": [
    "#ANALYSE  DE  VARIABLE\n",
    "traindeux[\"target\"].unique()"
   ],
   "metadata": {
    "collapsed": false,
    "pycharm": {
     "name": "#%%\n"
    }
   }
  },
  {
   "cell_type": "code",
   "execution_count": 39,
   "outputs": [
    {
     "data": {
      "text/plain": "0"
     },
     "execution_count": 39,
     "metadata": {},
     "output_type": "execute_result"
    }
   ],
   "source": [
    "#VERIFICATION DE VARIABLE NAN\n",
    "traindeux[\"target\"].isna().sum()"
   ],
   "metadata": {
    "collapsed": false,
    "pycharm": {
     "name": "#%%\n"
    }
   }
  },
  {
   "cell_type": "code",
   "execution_count": 40,
   "outputs": [],
   "source": [
    "#VARIABLE TARGET OPTIMISATION FRAUDE = 1 NONFRAUDE= 0\n",
    "traindeux[\"target\"]=traindeux[\"target\"].astype(bool).astype(int)"
   ],
   "metadata": {
    "collapsed": false,
    "pycharm": {
     "name": "#%%\n"
    }
   }
  },
  {
   "cell_type": "code",
   "execution_count": 41,
   "outputs": [
    {
     "data": {
      "text/plain": "array([1, 0])"
     },
     "execution_count": 41,
     "metadata": {},
     "output_type": "execute_result"
    }
   ],
   "source": [
    "traindeux[\"target\"].unique()"
   ],
   "metadata": {
    "collapsed": false,
    "pycharm": {
     "name": "#%%\n"
    }
   }
  },
  {
   "cell_type": "markdown",
   "source": [
    "### III- VISUALISATION DES DONNESS"
   ],
   "metadata": {
    "collapsed": false,
    "pycharm": {
     "name": "#%% md\n"
    }
   }
  },
  {
   "cell_type": "code",
   "execution_count": 42,
   "outputs": [
    {
     "data": {
      "text/plain": "<matplotlib.axes._subplots.AxesSubplot at 0x29adfc2d700>"
     },
     "execution_count": 42,
     "metadata": {},
     "output_type": "execute_result"
    },
    {
     "data": {
      "text/plain": "<Figure size 432x288 with 1 Axes>",
      "image/png": "[encoded data removed]"
     },
     "metadata": {
      "needs_background": "light"
     },
     "output_type": "display_data"
    }
   ],
   "source": [
    "# 1 - VISUALISATION  DE LA VARIABLE TARGET\n",
    "sns.boxplot(y=\"target\",data=train)\n",
    "sns.distplot(train[\"target\"],kde=False)"
   ],
   "metadata": {
    "collapsed": false,
    "pycharm": {
     "name": "#%%\n"
    }
   }
  },
  {
   "cell_type": "code",
   "execution_count": 43,
   "outputs": [],
   "source": [
    "#recupere la liste est index Du DATA SET\n",
    "listIndexTrain=train.columns\n",
    "listIndexTest=test.columns"
   ],
   "metadata": {
    "collapsed": false,
    "pycharm": {
     "name": "#%%\n"
    }
   }
  },
  {
   "cell_type": "code",
   "execution_count": 44,
   "outputs": [],
   "source": [
    "#recupere la liste est index Du DATA SET\n",
    "listIndexTrain=train.columns\n",
    "listIndexTest=test.columns"
   ],
   "metadata": {
    "collapsed": false,
    "pycharm": {
     "name": "#%%\n"
    }
   }
  },
  {
   "cell_type": "markdown",
   "source": [
    "#### VISUALISATION DE CERTAINE VARIABLE ALEATOIRE"
   ],
   "metadata": {
    "collapsed": false,
    "pycharm": {
     "name": "#%% md\n"
    }
   }
  },
  {
   "cell_type": "code",
   "execution_count": 45,
   "outputs": [
    {
     "name": "stdout",
     "output_type": "stream",
     "text": [
      "1    15893\n",
      "0     5402\n",
      "Name: target, dtype: int64 \n",
      "\n",
      "1    74.632543\n",
      "0    25.367457\n",
      "Name: target, dtype: float64\n"
     ]
    }
   ],
   "source": [
    "#ANALYSE DES NOUVELLE DONNNEE\n",
    "print(traindeux['target'].value_counts(), '\\n')\n",
    "print(traindeux['target'].value_counts(normalize=True)*100)"
   ],
   "metadata": {
    "collapsed": false,
    "pycharm": {
     "name": "#%%\n"
    }
   }
  },
  {
   "cell_type": "markdown",
   "source": [
    "AVANT DE CREER  NOTRE MODEL IL EST IMPORTANT DE CORRIGER LE DESEQUILIBRE 1=74% 0=26%\n",
    "A  50/50"
   ],
   "metadata": {
    "collapsed": false,
    "pycharm": {
     "name": "#%% md\n"
    }
   }
  },
  {
   "cell_type": "code",
   "execution_count": 46,
   "outputs": [
    {
     "data": {
      "text/plain": "<matplotlib.axes._subplots.AxesSubplot at 0x29adfc98cd0>"
     },
     "execution_count": 46,
     "metadata": {},
     "output_type": "execute_result"
    },
    {
     "data": {
      "text/plain": "<Figure size 432x288 with 1 Axes>",
      "image/png": "[encoded data removed]"
     },
     "metadata": {
      "needs_background": "light"
     },
     "output_type": "display_data"
    }
   ],
   "source": [
    "\"\"\"'BCT_CODBUR'\"\"\"\n",
    "sns.distplot(traindeux[listIndexTrain[0]],kde=False)"
   ],
   "metadata": {
    "collapsed": false,
    "pycharm": {
     "name": "#%%\n"
    }
   }
  },
  {
   "cell_type": "code",
   "execution_count": 47,
   "outputs": [
    {
     "name": "stdout",
     "output_type": "stream",
     "text": [
      "500    825\n",
      "700    772\n",
      "172    463\n",
      "193    449\n",
      "137    396\n",
      "      ... \n",
      "215     10\n",
      "162      8\n",
      "216      8\n",
      "214      8\n",
      "155      6\n",
      "Name: BCT_CODBUR, Length: 158, dtype: int64 \n",
      "\n",
      "500    3.874149\n",
      "700    3.625264\n",
      "172    2.174219\n",
      "193    2.108476\n",
      "137    1.859591\n",
      "         ...   \n",
      "215    0.046959\n",
      "162    0.037568\n",
      "216    0.037568\n",
      "214    0.037568\n",
      "155    0.028176\n",
      "Name: BCT_CODBUR, Length: 158, dtype: float64\n"
     ]
    }
   ],
   "source": [
    "#ANALYSE DES NOUVELLE DONNNEE\n",
    "print(traindeux[listIndexTrain[0]].value_counts(), '\\n')\n",
    "print(traindeux[listIndexTrain[0]].value_counts(normalize=True)*100)"
   ],
   "metadata": {
    "collapsed": false,
    "pycharm": {
     "name": "#%%\n"
    }
   }
  },
  {
   "cell_type": "code",
   "execution_count": 48,
   "outputs": [
    {
     "data": {
      "text/plain": "'CTR_MATFIS'"
     },
     "execution_count": 48,
     "metadata": {},
     "output_type": "execute_result"
    },
    {
     "data": {
      "text/plain": "<Figure size 432x288 with 1 Axes>",
      "image/png": "[encoded data removed]"
     },
     "metadata": {
      "needs_background": "light"
     },
     "output_type": "display_data"
    }
   ],
   "source": [
    "\"\"\"CTR_MATFIS\"\"\"\n",
    "sns.distplot(traindeux[listIndexTrain[1]],kde=False)\n",
    "listIndexTrain[1]"
   ],
   "metadata": {
    "collapsed": false,
    "pycharm": {
     "name": "#%%\n"
    }
   }
  },
  {
   "cell_type": "code",
   "execution_count": 49,
   "outputs": [
    {
     "data": {
      "text/plain": "'CTR_CATEGO_X'"
     },
     "execution_count": 49,
     "metadata": {},
     "output_type": "execute_result"
    },
    {
     "data": {
      "text/plain": "<Figure size 432x288 with 1 Axes>",
      "image/png": "[encoded data removed]"
     },
     "metadata": {
      "needs_background": "light"
     },
     "output_type": "display_data"
    }
   ],
   "source": [
    "\"\"\"CTR_CATEGO_X\"\"\"\n",
    "sns.distplot(traindeux[listIndexTrain[2]],kde=False)\n",
    "listIndexTrain[2]"
   ],
   "metadata": {
    "collapsed": false,
    "pycharm": {
     "name": "#%%\n"
    }
   }
  },
  {
   "cell_type": "code",
   "execution_count": 50,
   "outputs": [
    {
     "name": "stdout",
     "output_type": "stream",
     "text": [
      "1    10889\n",
      "0     5794\n",
      "2     4604\n",
      "3        8\n",
      "Name: CTR_CATEGO_X, dtype: int64 \n",
      "\n",
      "1    51.134069\n",
      "0    27.208265\n",
      "2    21.620099\n",
      "3     0.037568\n",
      "Name: CTR_CATEGO_X, dtype: float64\n"
     ]
    }
   ],
   "source": [
    "print(traindeux[listIndexTrain[2]].value_counts(), '\\n')\n",
    "print(traindeux[listIndexTrain[2]].value_counts(normalize=True)*100)"
   ],
   "metadata": {
    "collapsed": false,
    "pycharm": {
     "name": "#%%\n"
    }
   }
  },
  {
   "cell_type": "code",
   "execution_count": 51,
   "outputs": [
    {
     "data": {
      "text/plain": "'FJU_CODFJU'"
     },
     "execution_count": 51,
     "metadata": {},
     "output_type": "execute_result"
    },
    {
     "data": {
      "text/plain": "<Figure size 432x288 with 1 Axes>",
      "image/png": "[encoded data removed]"
     },
     "metadata": {
      "needs_background": "light"
     },
     "output_type": "display_data"
    }
   ],
   "source": [
    "\"\"\"FJU_CODFJU\"\"\"\n",
    "sns.distplot(traindeux[listIndexTrain[3]],kde=False)\n",
    "listIndexTrain[3]"
   ],
   "metadata": {
    "collapsed": false,
    "pycharm": {
     "name": "#%%\n"
    }
   }
  },
  {
   "cell_type": "code",
   "execution_count": 52,
   "outputs": [
    {
     "name": "stdout",
     "output_type": "stream",
     "text": [
      "99    10398\n",
      "22     7653\n",
      "21     1841\n",
      "23     1139\n",
      "20       58\n",
      "29       52\n",
      "13       49\n",
      "10       24\n",
      "14       22\n",
      "41       17\n",
      "40       16\n",
      "11        7\n",
      "12        6\n",
      "90        6\n",
      "30        5\n",
      "60        2\n",
      "Name: FJU_CODFJU, dtype: int64 \n",
      "\n",
      "99    48.828363\n",
      "22    35.938014\n",
      "21     8.645222\n",
      "23     5.348673\n",
      "20     0.272364\n",
      "29     0.244189\n",
      "13     0.230101\n",
      "10     0.112703\n",
      "14     0.103311\n",
      "41     0.079831\n",
      "40     0.075135\n",
      "11     0.032872\n",
      "12     0.028176\n",
      "90     0.028176\n",
      "30     0.023480\n",
      "60     0.009392\n",
      "Name: FJU_CODFJU, dtype: float64\n"
     ]
    }
   ],
   "source": [
    "print(traindeux[listIndexTrain[3]].value_counts(), '\\n')\n",
    "print(traindeux[listIndexTrain[3]].value_counts(normalize=True)*100)"
   ],
   "metadata": {
    "collapsed": false,
    "pycharm": {
     "name": "#%%\n"
    }
   }
  },
  {
   "cell_type": "code",
   "execution_count": 53,
   "outputs": [
    {
     "data": {
      "text/plain": "'CTR_CESSAT'"
     },
     "execution_count": 53,
     "metadata": {},
     "output_type": "execute_result"
    },
    {
     "data": {
      "text/plain": "<Figure size 432x288 with 1 Axes>",
      "image/png": "[encoded data removed]"
     },
     "metadata": {
      "needs_background": "light"
     },
     "output_type": "display_data"
    }
   ],
   "source": [
    "\"\"\"FJU_CODFJU\"\"\"\n",
    "sns.distplot(traindeux[listIndexTrain[4]],kde=False)\n",
    "listIndexTrain[4]"
   ],
   "metadata": {
    "collapsed": false,
    "pycharm": {
     "name": "#%%\n"
    }
   }
  },
  {
   "cell_type": "code",
   "execution_count": 54,
   "outputs": [
    {
     "name": "stdout",
     "output_type": "stream",
     "text": [
      "0    20325\n",
      "1      907\n",
      "2       63\n",
      "Name: CTR_CESSAT, dtype: int64 \n",
      "\n",
      "0    95.444940\n",
      "1     4.259216\n",
      "2     0.295844\n",
      "Name: CTR_CESSAT, dtype: float64\n"
     ]
    }
   ],
   "source": [
    "print(traindeux[listIndexTrain[4]].value_counts(), '\\n')\n",
    "print(traindeux[listIndexTrain[4]].value_counts(normalize=True)*100)"
   ],
   "metadata": {
    "collapsed": false,
    "pycharm": {
     "name": "#%%\n"
    }
   }
  },
  {
   "cell_type": "code",
   "execution_count": 55,
   "outputs": [
    {
     "data": {
      "text/plain": "'ACT_CODACT'"
     },
     "execution_count": 55,
     "metadata": {},
     "output_type": "execute_result"
    },
    {
     "data": {
      "text/plain": "<Figure size 432x288 with 1 Axes>",
      "image/png": "[encoded data removed]"
     },
     "metadata": {
      "needs_background": "light"
     },
     "output_type": "display_data"
    }
   ],
   "source": [
    "\n",
    "sns.distplot(traindeux[listIndexTrain[5]],kde=False)\n",
    "listIndexTrain[5]"
   ],
   "metadata": {
    "collapsed": false,
    "pycharm": {
     "name": "#%%\n"
    }
   }
  },
  {
   "cell_type": "code",
   "execution_count": 56,
   "outputs": [
    {
     "name": "stdout",
     "output_type": "stream",
     "text": [
      "4204    1763\n",
      "4221     892\n",
      "6306     789\n",
      "4101     664\n",
      "3601     392\n",
      "        ... \n",
      "5730       1\n",
      "6216       1\n",
      "5327       1\n",
      "4510       1\n",
      "4604       1\n",
      "Name: ACT_CODACT, Length: 527, dtype: int64 \n",
      "\n",
      "4204    8.278939\n",
      "4221    4.188777\n",
      "6306    3.705095\n",
      "4101    3.118103\n",
      "3601    1.840808\n",
      "          ...   \n",
      "5730    0.004696\n",
      "6216    0.004696\n",
      "5327    0.004696\n",
      "4510    0.004696\n",
      "4604    0.004696\n",
      "Name: ACT_CODACT, Length: 527, dtype: float64\n"
     ]
    }
   ],
   "source": [
    "print(traindeux[listIndexTrain[5]].value_counts(), '\\n')\n",
    "print(traindeux[listIndexTrain[5]].value_counts(normalize=True)*100)"
   ],
   "metadata": {
    "collapsed": false,
    "pycharm": {
     "name": "#%%\n"
    }
   }
  },
  {
   "cell_type": "code",
   "execution_count": 57,
   "outputs": [
    {
     "data": {
      "text/plain": "'CTR_OBLDIR'"
     },
     "execution_count": 57,
     "metadata": {},
     "output_type": "execute_result"
    },
    {
     "data": {
      "text/plain": "<Figure size 432x288 with 1 Axes>",
      "image/png": "[encoded data removed]"
     },
     "metadata": {
      "needs_background": "light"
     },
     "output_type": "display_data"
    }
   ],
   "source": [
    "sns.distplot(traindeux[listIndexTrain[6]],kde=False)\n",
    "listIndexTrain[6]"
   ],
   "metadata": {
    "collapsed": false,
    "pycharm": {
     "name": "#%%\n"
    }
   }
  },
  {
   "cell_type": "code",
   "execution_count": 58,
   "outputs": [
    {
     "name": "stdout",
     "output_type": "stream",
     "text": [
      "4    18394\n",
      "8     1988\n",
      "6      841\n",
      "5       61\n",
      "1        8\n",
      "2        2\n",
      "9        1\n",
      "Name: CTR_OBLDIR, dtype: int64 \n",
      "\n",
      "4    86.377084\n",
      "8     9.335525\n",
      "6     3.949284\n",
      "5     0.286452\n",
      "1     0.037568\n",
      "2     0.009392\n",
      "9     0.004696\n",
      "Name: CTR_OBLDIR, dtype: float64\n"
     ]
    }
   ],
   "source": [
    "print(traindeux[listIndexTrain[6]].value_counts(), '\\n')\n",
    "print(traindeux[listIndexTrain[6]].value_counts(normalize=True)*100)"
   ],
   "metadata": {
    "collapsed": false,
    "pycharm": {
     "name": "#%%\n"
    }
   }
  },
  {
   "cell_type": "code",
   "execution_count": 59,
   "outputs": [
    {
     "data": {
      "text/plain": "0               0.0\n1               0.0\n2               0.0\n3        61381586.0\n4               0.0\n            ...    \n21290           0.0\n21291           0.0\n21292           0.0\n21293           0.0\n21294     7100000.0\nName: TVA_CHAFF6, Length: 21295, dtype: float64"
     },
     "execution_count": 59,
     "metadata": {},
     "output_type": "execute_result"
    }
   ],
   "source": [
    "traindeux[\"TVA_CHAFF6\"]"
   ],
   "metadata": {
    "collapsed": false,
    "pycharm": {
     "name": "#%%\n"
    }
   }
  },
  {
   "cell_type": "code",
   "execution_count": 60,
   "outputs": [
    {
     "data": {
      "text/plain": "         BCT_CODBUR    CTR_MATFIS  CTR_CATEGO_X    FJU_CODFJU    CTR_CESSAT  \\\ncount  21295.000000  21295.000000  21295.000000  21295.000000  21295.000000   \nmean     214.935807   7797.448697      0.944870     59.580888      0.048509   \nstd      162.992837   4484.430937      0.697689     38.542427      0.228200   \nmin        9.000000      1.000000      0.000000     10.000000      0.000000   \n25%       92.000000   3944.000000      0.000000     22.000000      0.000000   \n50%      182.000000   7817.000000      1.000000     23.000000      0.000000   \n75%      254.000000  11695.500000      1.000000     99.000000      0.000000   \nmax      700.000000  15603.000000      3.000000     99.000000      2.000000   \n\n         ACT_CODACT    CTR_OBLDIR    CTR_OBLACP    CTR_OBLRES    CTR_OBLFOP  \\\ncount  21295.000000  21295.000000  21295.000000  21295.000000  21295.000000   \nmean    4821.595445      4.454191      1.959850      1.977319      1.928105   \nstd     1168.628546      1.205500      0.196316      0.154462      0.263361   \nmin     1002.000000      1.000000      1.000000      1.000000      1.000000   \n25%     4203.000000      4.000000      2.000000      2.000000      2.000000   \n50%     4417.000000      4.000000      2.000000      2.000000      2.000000   \n75%     6102.000000      4.000000      2.000000      2.000000      2.000000   \nmax     8999.000000      9.000000      2.000000      5.000000      5.000000   \n\n       ...  TVA_CA072018  TVA_CA132018  TVA_CA192018    AX1_BRTIMP  \\\ncount  ...  2.129500e+04  2.129500e+04  2.129500e+04  2.129500e+04   \nmean   ...  4.908786e+06  4.558446e+05  9.752878e+07  8.405487e+05   \nstd    ...  2.147676e+08  3.103847e+07  7.496583e+09  9.205415e+06   \nmin    ...  0.000000e+00  0.000000e+00  0.000000e+00  0.000000e+00   \n25%    ...  0.000000e+00  0.000000e+00  0.000000e+00  0.000000e+00   \n50%    ...  0.000000e+00  0.000000e+00  0.000000e+00  0.000000e+00   \n75%    ...  0.000000e+00  0.000000e+00  0.000000e+00  8.405487e+05   \nmax    ...  2.231536e+10  3.943210e+09  9.366127e+11  4.313529e+08   \n\n         AX2_HONORA    AX2_LOYERS    AX3_REVCAP    AX5_MNTMAR    RES_ANNIMP  \\\ncount  2.129500e+04  2.129500e+04  2.129500e+04  2.129500e+04  21295.000000   \nmean   6.099160e+07  1.571939e+07  1.883179e+07  1.031852e+09   2014.508852   \nstd    6.004837e+08  2.852642e+08  4.108956e+08  7.533478e+09      1.332947   \nmin    0.000000e+00  0.000000e+00  0.000000e+00  0.000000e+00   2013.000000   \n25%    0.000000e+00  0.000000e+00  0.000000e+00  0.000000e+00   2013.000000   \n50%    0.000000e+00  0.000000e+00  0.000000e+00  5.575159e+07   2014.000000   \n75%    6.099160e+07  1.571939e+07  1.883179e+07  1.031852e+09   2015.000000   \nmax    5.356192e+10  2.624338e+10  4.461683e+10  6.939759e+11   2018.000000   \n\n             target  \ncount  21295.000000  \nmean       0.746325  \nstd        0.435124  \nmin        0.000000  \n25%        0.000000  \n50%        1.000000  \n75%        1.000000  \nmax        1.000000  \n\n[8 rows x 90 columns]",
      "text/html": "<div>\n<style scoped>\n    .dataframe tbody tr th:only-of-type {\n        vertical-align: middle;\n    }\n\n    .dataframe tbody tr th {\n        vertical-align: top;\n    }\n\n    .dataframe thead th {\n        text-align: right;\n    }\n</style>\n<table border=\"1\" class=\"dataframe\">\n  <thead>\n    <tr style=\"text-align: right;\">\n      <th></th>\n      <th>BCT_CODBUR</th>\n      <th>CTR_MATFIS</th>\n      <th>CTR_CATEGO_X</th>\n      <th>FJU_CODFJU</th>\n      <th>CTR_CESSAT</th>\n      <th>ACT_CODACT</th>\n      <th>CTR_OBLDIR</th>\n      <th>CTR_OBLACP</th>\n      <th>CTR_OBLRES</th>\n      <th>CTR_OBLFOP</th>\n      <th>...</th>\n      <th>TVA_CA072018</th>\n      <th>TVA_CA132018</th>\n      <th>TVA_CA192018</th>\n      <th>AX1_BRTIMP</th>\n      <th>AX2_HONORA</th>\n      <th>AX2_LOYERS</th>\n      <th>AX3_REVCAP</th>\n      <th>AX5_MNTMAR</th>\n      <th>RES_ANNIMP</th>\n      <th>target</th>\n    </tr>\n  </thead>\n  <tbody>\n    <tr>\n      <th>count</th>\n      <td>21295.000000</td>\n      <td>21295.000000</td>\n      <td>21295.000000</td>\n      <td>21295.000000</td>\n      <td>21295.000000</td>\n      <td>21295.000000</td>\n      <td>21295.000000</td>\n      <td>21295.000000</td>\n      <td>21295.000000</td>\n      <td>21295.000000</td>\n      <td>...</td>\n      <td>2.129500e+04</td>\n      <td>2.129500e+04</td>\n      <td>2.129500e+04</td>\n      <td>2.129500e+04</td>\n      <td>2.129500e+04</td>\n      <td>2.129500e+04</td>\n      <td>2.129500e+04</td>\n      <td>2.129500e+04</td>\n      <td>21295.000000</td>\n      <td>21295.000000</td>\n    </tr>\n    <tr>\n      <th>mean</th>\n      <td>214.935807</td>\n      <td>7797.448697</td>\n      <td>0.944870</td>\n      <td>59.580888</td>\n      <td>0.048509</td>\n      <td>4821.595445</td>\n      <td>4.454191</td>\n      <td>1.959850</td>\n      <td>1.977319</td>\n      <td>1.928105</td>\n      <td>...</td>\n      <td>4.908786e+06</td>\n      <td>4.558446e+05</td>\n      <td>9.752878e+07</td>\n      <td>8.405487e+05</td>\n      <td>6.099160e+07</td>\n      <td>1.571939e+07</td>\n      <td>1.883179e+07</td>\n      <td>1.031852e+09</td>\n      <td>2014.508852</td>\n      <td>0.746325</td>\n    </tr>\n    <tr>\n      <th>std</th>\n      <td>162.992837</td>\n      <td>4484.430937</td>\n      <td>0.697689</td>\n      <td>38.542427</td>\n      <td>0.228200</td>\n      <td>1168.628546</td>\n      <td>1.205500</td>\n      <td>0.196316</td>\n      <td>0.154462</td>\n      <td>0.263361</td>\n      <td>...</td>\n      <td>2.147676e+08</td>\n      <td>3.103847e+07</td>\n      <td>7.496583e+09</td>\n      <td>9.205415e+06</td>\n      <td>6.004837e+08</td>\n      <td>2.852642e+08</td>\n      <td>4.108956e+08</td>\n      <td>7.533478e+09</td>\n      <td>1.332947</td>\n      <td>0.435124</td>\n    </tr>\n    <tr>\n      <th>min</th>\n      <td>9.000000</td>\n      <td>1.000000</td>\n      <td>0.000000</td>\n      <td>10.000000</td>\n      <td>0.000000</td>\n      <td>1002.000000</td>\n      <td>1.000000</td>\n      <td>1.000000</td>\n      <td>1.000000</td>\n      <td>1.000000</td>\n      <td>...</td>\n      <td>0.000000e+00</td>\n      <td>0.000000e+00</td>\n      <td>0.000000e+00</td>\n      <td>0.000000e+00</td>\n      <td>0.000000e+00</td>\n      <td>0.000000e+00</td>\n      <td>0.000000e+00</td>\n      <td>0.000000e+00</td>\n      <td>2013.000000</td>\n      <td>0.000000</td>\n    </tr>\n    <tr>\n      <th>25%</th>\n      <td>92.000000</td>\n      <td>3944.000000</td>\n      <td>0.000000</td>\n      <td>22.000000</td>\n      <td>0.000000</td>\n      <td>4203.000000</td>\n      <td>4.000000</td>\n      <td>2.000000</td>\n      <td>2.000000</td>\n      <td>2.000000</td>\n      <td>...</td>\n      <td>0.000000e+00</td>\n      <td>0.000000e+00</td>\n      <td>0.000000e+00</td>\n      <td>0.000000e+00</td>\n      <td>0.000000e+00</td>\n      <td>0.000000e+00</td>\n      <td>0.000000e+00</td>\n      <td>0.000000e+00</td>\n      <td>2013.000000</td>\n      <td>0.000000</td>\n    </tr>\n    <tr>\n      <th>50%</th>\n      <td>182.000000</td>\n      <td>7817.000000</td>\n      <td>1.000000</td>\n      <td>23.000000</td>\n      <td>0.000000</td>\n      <td>4417.000000</td>\n      <td>4.000000</td>\n      <td>2.000000</td>\n      <td>2.000000</td>\n      <td>2.000000</td>\n      <td>...</td>\n      <td>0.000000e+00</td>\n      <td>0.000000e+00</td>\n      <td>0.000000e+00</td>\n      <td>0.000000e+00</td>\n      <td>0.000000e+00</td>\n      <td>0.000000e+00</td>\n      <td>0.000000e+00</td>\n      <td>5.575159e+07</td>\n      <td>2014.000000</td>\n      <td>1.000000</td>\n    </tr>\n    <tr>\n      <th>75%</th>\n      <td>254.000000</td>\n      <td>11695.500000</td>\n      <td>1.000000</td>\n      <td>99.000000</td>\n      <td>0.000000</td>\n      <td>6102.000000</td>\n      <td>4.000000</td>\n      <td>2.000000</td>\n      <td>2.000000</td>\n      <td>2.000000</td>\n      <td>...</td>\n      <td>0.000000e+00</td>\n      <td>0.000000e+00</td>\n      <td>0.000000e+00</td>\n      <td>8.405487e+05</td>\n      <td>6.099160e+07</td>\n      <td>1.571939e+07</td>\n      <td>1.883179e+07</td>\n      <td>1.031852e+09</td>\n      <td>2015.000000</td>\n      <td>1.000000</td>\n    </tr>\n    <tr>\n      <th>max</th>\n      <td>700.000000</td>\n      <td>15603.000000</td>\n      <td>3.000000</td>\n      <td>99.000000</td>\n      <td>2.000000</td>\n      <td>8999.000000</td>\n      <td>9.000000</td>\n      <td>2.000000</td>\n      <td>5.000000</td>\n      <td>5.000000</td>\n      <td>...</td>\n      <td>2.231536e+10</td>\n      <td>3.943210e+09</td>\n      <td>9.366127e+11</td>\n      <td>4.313529e+08</td>\n      <td>5.356192e+10</td>\n      <td>2.624338e+10</td>\n      <td>4.461683e+10</td>\n      <td>6.939759e+11</td>\n      <td>2018.000000</td>\n      <td>1.000000</td>\n    </tr>\n  </tbody>\n</table>\n<p>8 rows × 90 columns</p>\n</div>"
     },
     "execution_count": 60,
     "metadata": {},
     "output_type": "execute_result"
    }
   ],
   "source": [
    "traindeux.describe()"
   ],
   "metadata": {
    "collapsed": false,
    "pycharm": {
     "name": "#%%\n"
    }
   }
  },
  {
   "cell_type": "code",
   "execution_count": 61,
   "outputs": [
    {
     "name": "stdout",
     "output_type": "stream",
     "text": [
      "<class 'pandas.core.frame.DataFrame'>\n",
      "RangeIndex: 21295 entries, 0 to 21294\n",
      "Data columns (total 91 columns):\n",
      " #   Column        Non-Null Count  Dtype  \n",
      "---  ------        --------------  -----  \n",
      " 0   BCT_CODBUR    21295 non-null  int64  \n",
      " 1   CTR_MATFIS    21295 non-null  int64  \n",
      " 2   CTR_CATEGO_X  21295 non-null  int64  \n",
      " 3   FJU_CODFJU    21295 non-null  int64  \n",
      " 4   CTR_CESSAT    21295 non-null  int64  \n",
      " 5   ACT_CODACT    21295 non-null  int64  \n",
      " 6   CTR_OBLDIR    21295 non-null  int64  \n",
      " 7   CTR_OBLACP    21295 non-null  int64  \n",
      " 8   CTR_OBLRES    21295 non-null  int64  \n",
      " 9   CTR_OBLFOP    21295 non-null  int64  \n",
      " 10  CTR_OBLTFP    21295 non-null  int64  \n",
      " 11  CTR_OBLDCO    21295 non-null  int64  \n",
      " 12  CTR_OBLTVA    21295 non-null  int64  \n",
      " 13  CTR_OFODEC    21295 non-null  float64\n",
      " 14  CTR_OFODEP    21295 non-null  float64\n",
      " 15  CTR_OFODET    21295 non-null  float64\n",
      " 16  CTR_OBLAUT    21295 non-null  float64\n",
      " 17  CTR_OBLASS    21295 non-null  float64\n",
      " 18  CTR_ODTIMB    21295 non-null  float64\n",
      " 19  CTR_OBLTCL    21295 non-null  int64  \n",
      " 20  CTR_OBLTHO    21295 non-null  float64\n",
      " 21  CTR_OBLDLI    21295 non-null  float64\n",
      " 22  CTR_OBLTVI    21295 non-null  float64\n",
      " 23  CTR_RATISS    21295 non-null  int64  \n",
      " 24  EXE_EXERCI    21295 non-null  int64  \n",
      " 25  TVA_CHAFF6    21295 non-null  float64\n",
      " 26  TVA_CHAFF7    21295 non-null  float64\n",
      " 27  TVA_CHAF10    21295 non-null  float64\n",
      " 28  TVA_CHAF12    21295 non-null  float64\n",
      " 29  TVA_CAF125    21295 non-null  float64\n",
      " 30  TVA_CHAF15    21295 non-null  float64\n",
      " 31  TVA_CHAF18    21295 non-null  float64\n",
      " 32  TVA_CHAF22    21295 non-null  float64\n",
      " 33  TVA_CHAF29    21295 non-null  float64\n",
      " 34  TVA_CHAF36    21295 non-null  float64\n",
      " 35  TVA_TOTDUE    21295 non-null  float64\n",
      " 36  TVA_MOIDEB    21295 non-null  float64\n",
      " 37  TVA_CRDINI    21295 non-null  float64\n",
      " 38  TVA_BASIMB    21295 non-null  float64\n",
      " 39  TVA_DEDIMB    21295 non-null  float64\n",
      " 40  TVA_BASEQL    21295 non-null  float64\n",
      " 41  TVA_DEDEQL    21295 non-null  float64\n",
      " 42  TVA_BASEQI    21295 non-null  float64\n",
      " 43  TVA_DEDEQI    21295 non-null  float64\n",
      " 44  TVA_BASAUL    21295 non-null  float64\n",
      " 45  TVA_DEDAUL    21295 non-null  float64\n",
      " 46  TVA_BASAUI    21295 non-null  float64\n",
      " 47  TVA_DEDAUI    21295 non-null  float64\n",
      " 48  TVA_BASRSM    21295 non-null  float64\n",
      " 49  TVA_DEDRSM    21295 non-null  float64\n",
      " 50  TVA_RSNRES    21295 non-null  float64\n",
      " 51  TVA_TRSPOR    21295 non-null  float64\n",
      " 52  TVA_DEDREG    21295 non-null  float64\n",
      " 53  TVA_RESTIT    21295 non-null  float64\n",
      " 54  TVA_MNTPAY    21295 non-null  float64\n",
      " 55  TVA_MOIFIN    21295 non-null  float64\n",
      " 56  TVA_CRDFIN    21295 non-null  float64\n",
      " 57  TVA_ACHSUS    21295 non-null  float64\n",
      " 58  TVA_ACHEXO    21295 non-null  float64\n",
      " 59  TVA_ACHNDD    21295 non-null  float64\n",
      " 60  TVA_CAFEXP    21295 non-null  float64\n",
      " 61  TVA_CAFSUS    21295 non-null  float64\n",
      " 62  TVA_CAFEXO    21295 non-null  float64\n",
      " 63  TVA_AACHAB    21295 non-null  float64\n",
      " 64  TVA_CRDBLQ    21295 non-null  float64\n",
      " 65  TVA_CRDRES    21295 non-null  float64\n",
      " 66  TVA_CRDRMP    21295 non-null  float64\n",
      " 67  TVA_CRDREP    21295 non-null  float64\n",
      " 68  TVA_CRDRMC    21295 non-null  float64\n",
      " 69  TVA_MACHN     21295 non-null  float64\n",
      " 70  TVA_MCESQ     21295 non-null  float64\n",
      " 71  TVA_MTVLSM    21295 non-null  float64\n",
      " 72  TVA_TXVLSM    21295 non-null  float64\n",
      " 73  TVA_MTALSM    21295 non-null  float64\n",
      " 74  TVA_TXALSM    21295 non-null  float64\n",
      " 75  TVA_MTORDTVA  21295 non-null  float64\n",
      " 76  TVA_MTDJRTVA  21295 non-null  float64\n",
      " 77  TVA_MTORDTAX  21295 non-null  float64\n",
      " 78  TVA_MTDJRTAX  21295 non-null  float64\n",
      " 79  TVA_MTRESTAX  21295 non-null  float64\n",
      " 80  TVA_CA072018  21295 non-null  float64\n",
      " 81  TVA_CA132018  21295 non-null  float64\n",
      " 82  TVA_CA192018  21295 non-null  float64\n",
      " 83  AX1_BRTIMP    21295 non-null  float64\n",
      " 84  AX2_HONORA    21295 non-null  float64\n",
      " 85  AX2_LOYERS    21295 non-null  float64\n",
      " 86  AX3_REVCAP    21295 non-null  float64\n",
      " 87  AX5_MNTMAR    21295 non-null  float64\n",
      " 88  RES_ANNIMP    21295 non-null  int64  \n",
      " 89  target        21295 non-null  int32  \n",
      " 90  id            21295 non-null  object \n",
      "dtypes: float64(72), int32(1), int64(17), object(1)\n",
      "memory usage: 14.7+ MB\n"
     ]
    }
   ],
   "source": [
    "traindeux.info()"
   ],
   "metadata": {
    "collapsed": false,
    "pycharm": {
     "name": "#%%\n"
    }
   }
  },
  {
   "cell_type": "code",
   "execution_count": 62,
   "outputs": [
    {
     "data": {
      "text/plain": "   BCT_CODBUR  CTR_MATFIS  CTR_CATEGO_X  FJU_CODFJU  CTR_CESSAT  ACT_CODACT  \\\n0          44        6210             0          99           0        3707   \n1         401       14383             1          22           0        6105   \n2         243       11555             1          23           0        5751   \n3          72        6175             0          99           0        4402   \n4          42        1417             1          23           0        6302   \n\n   CTR_OBLDIR  CTR_OBLACP  CTR_OBLRES  CTR_OBLFOP  ...  TVA_CA132018  \\\n0           4           2           2           2  ...           0.0   \n1           4           2           2           2  ...           0.0   \n2           4           2           2           2  ...           0.0   \n3           4           2           2           2  ...           0.0   \n4           4           2           2           2  ...           0.0   \n\n   TVA_CA192018  AX1_BRTIMP   AX2_HONORA  AX2_LOYERS  AX3_REVCAP   AX5_MNTMAR  \\\n0           0.0         0.0    2950000.0         0.0         0.0  602769328.0   \n1           0.0         0.0  203353885.0         0.0         0.0   14785200.0   \n2           0.0         0.0          0.0         0.0         0.0   10792800.0   \n3           0.0         0.0          0.0         0.0         0.0          0.0   \n4           0.0         0.0          0.0         0.0         0.0          0.0   \n\n   RES_ANNIMP  target             id  \n0        2014       1  train_id17437  \n1        2013       1   train_id5086  \n2        2013       1   train_id1443  \n3        2017       0  train_id15469  \n4        2014       1  train_id14368  \n\n[5 rows x 91 columns]",
      "text/html": "<div>\n<style scoped>\n    .dataframe tbody tr th:only-of-type {\n        vertical-align: middle;\n    }\n\n    .dataframe tbody tr th {\n        vertical-align: top;\n    }\n\n    .dataframe thead th {\n        text-align: right;\n    }\n</style>\n<table border=\"1\" class=\"dataframe\">\n  <thead>\n    <tr style=\"text-align: right;\">\n      <th></th>\n      <th>BCT_CODBUR</th>\n      <th>CTR_MATFIS</th>\n      <th>CTR_CATEGO_X</th>\n      <th>FJU_CODFJU</th>\n      <th>CTR_CESSAT</th>\n      <th>ACT_CODACT</th>\n      <th>CTR_OBLDIR</th>\n      <th>CTR_OBLACP</th>\n      <th>CTR_OBLRES</th>\n      <th>CTR_OBLFOP</th>\n      <th>...</th>\n      <th>TVA_CA132018</th>\n      <th>TVA_CA192018</th>\n      <th>AX1_BRTIMP</th>\n      <th>AX2_HONORA</th>\n      <th>AX2_LOYERS</th>\n      <th>AX3_REVCAP</th>\n      <th>AX5_MNTMAR</th>\n      <th>RES_ANNIMP</th>\n      <th>target</th>\n      <th>id</th>\n    </tr>\n  </thead>\n  <tbody>\n    <tr>\n      <th>0</th>\n      <td>44</td>\n      <td>6210</td>\n      <td>0</td>\n      <td>99</td>\n      <td>0</td>\n      <td>3707</td>\n      <td>4</td>\n      <td>2</td>\n      <td>2</td>\n      <td>2</td>\n      <td>...</td>\n      <td>0.0</td>\n      <td>0.0</td>\n      <td>0.0</td>\n      <td>2950000.0</td>\n      <td>0.0</td>\n      <td>0.0</td>\n      <td>602769328.0</td>\n      <td>2014</td>\n      <td>1</td>\n      <td>train_id17437</td>\n    </tr>\n    <tr>\n      <th>1</th>\n      <td>401</td>\n      <td>14383</td>\n      <td>1</td>\n      <td>22</td>\n      <td>0</td>\n      <td>6105</td>\n      <td>4</td>\n      <td>2</td>\n      <td>2</td>\n      <td>2</td>\n      <td>...</td>\n      <td>0.0</td>\n      <td>0.0</td>\n      <td>0.0</td>\n      <td>203353885.0</td>\n      <td>0.0</td>\n      <td>0.0</td>\n      <td>14785200.0</td>\n      <td>2013</td>\n      <td>1</td>\n      <td>train_id5086</td>\n    </tr>\n    <tr>\n      <th>2</th>\n      <td>243</td>\n      <td>11555</td>\n      <td>1</td>\n      <td>23</td>\n      <td>0</td>\n      <td>5751</td>\n      <td>4</td>\n      <td>2</td>\n      <td>2</td>\n      <td>2</td>\n      <td>...</td>\n      <td>0.0</td>\n      <td>0.0</td>\n      <td>0.0</td>\n      <td>0.0</td>\n      <td>0.0</td>\n      <td>0.0</td>\n      <td>10792800.0</td>\n      <td>2013</td>\n      <td>1</td>\n      <td>train_id1443</td>\n    </tr>\n    <tr>\n      <th>3</th>\n      <td>72</td>\n      <td>6175</td>\n      <td>0</td>\n      <td>99</td>\n      <td>0</td>\n      <td>4402</td>\n      <td>4</td>\n      <td>2</td>\n      <td>2</td>\n      <td>2</td>\n      <td>...</td>\n      <td>0.0</td>\n      <td>0.0</td>\n      <td>0.0</td>\n      <td>0.0</td>\n      <td>0.0</td>\n      <td>0.0</td>\n      <td>0.0</td>\n      <td>2017</td>\n      <td>0</td>\n      <td>train_id15469</td>\n    </tr>\n    <tr>\n      <th>4</th>\n      <td>42</td>\n      <td>1417</td>\n      <td>1</td>\n      <td>23</td>\n      <td>0</td>\n      <td>6302</td>\n      <td>4</td>\n      <td>2</td>\n      <td>2</td>\n      <td>2</td>\n      <td>...</td>\n      <td>0.0</td>\n      <td>0.0</td>\n      <td>0.0</td>\n      <td>0.0</td>\n      <td>0.0</td>\n      <td>0.0</td>\n      <td>0.0</td>\n      <td>2014</td>\n      <td>1</td>\n      <td>train_id14368</td>\n    </tr>\n  </tbody>\n</table>\n<p>5 rows × 91 columns</p>\n</div>"
     },
     "execution_count": 62,
     "metadata": {},
     "output_type": "execute_result"
    }
   ],
   "source": [
    "traindeux.head()"
   ],
   "metadata": {
    "collapsed": false,
    "pycharm": {
     "name": "#%%\n"
    }
   }
  },
  {
   "cell_type": "markdown",
   "source": [
    "#### GESTION DES VARIABLES ABERANTES\n",
    "Une variable est categorisé de  variable aberrante lorsquelle  est inferieur au premier quantile  ou alors superieur au 3 eme quantile"
   ],
   "metadata": {
    "collapsed": false,
    "pycharm": {
     "name": "#%% md\n"
    }
   }
  },
  {
   "cell_type": "code",
   "execution_count": 63,
   "outputs": [],
   "source": [
    "#Gestion des valeurs Aberrantes\n",
    "\n",
    "#CREATION D'UNE VARIABLE QUI DETECTE LES VARIABLE ABERRANTES\n",
    "def finding_outliers(data , var):\n",
    "    IQR= data[var].quantile(0.75) - data[var].quantile(0.25)\n",
    "    Lower1=data[var].quantile(0.25) - 1.5*IQR\n",
    "    Upper1=data[var].quantile(0,75) + 1.5*IQR\n",
    "\n",
    "    return data[(data[var] < Lower1)|(data[var]>Upper1)]"
   ],
   "metadata": {
    "collapsed": false,
    "pycharm": {
     "name": "#%%\n"
    }
   }
  },
  {
   "cell_type": "code",
   "execution_count": 64,
   "outputs": [
    {
     "ename": "ValueError",
     "evalue": "interpolation can only be 'linear', 'lower' 'higher', 'midpoint', or 'nearest'",
     "output_type": "error",
     "traceback": [
      "\u001B[1;31m---------------------------------------------------------------------------\u001B[0m",
      "\u001B[1;31mValueError\u001B[0m                                Traceback (most recent call last)",
      "\u001B[1;32m<ipython-input-64-763974a29723>\u001B[0m in \u001B[0;36m<module>\u001B[1;34m\u001B[0m\n\u001B[0;32m      1\u001B[0m \u001B[1;31m#TEST DE LA FONCTION\u001B[0m\u001B[1;33m\u001B[0m\u001B[1;33m\u001B[0m\u001B[1;33m\u001B[0m\u001B[0m\n\u001B[1;32m----> 2\u001B[1;33m \u001B[0mfinding_outliers\u001B[0m\u001B[1;33m(\u001B[0m\u001B[0mtraindeux\u001B[0m\u001B[1;33m,\u001B[0m\u001B[1;34m'AX2_HONORA'\u001B[0m\u001B[1;33m)\u001B[0m\u001B[1;33m\u001B[0m\u001B[1;33m\u001B[0m\u001B[0m\n\u001B[0m\u001B[0;32m      3\u001B[0m \u001B[1;31m#MALHEURSE ON NA PAS ENCORE CORRIGER CETTE ERREUR\u001B[0m\u001B[1;33m\u001B[0m\u001B[1;33m\u001B[0m\u001B[1;33m\u001B[0m\u001B[0m\n",
      "\u001B[1;32m<ipython-input-63-bcd6196d9565>\u001B[0m in \u001B[0;36mfinding_outliers\u001B[1;34m(data, var)\u001B[0m\n\u001B[0;32m      5\u001B[0m     \u001B[0mIQR\u001B[0m\u001B[1;33m=\u001B[0m \u001B[0mdata\u001B[0m\u001B[1;33m[\u001B[0m\u001B[0mvar\u001B[0m\u001B[1;33m]\u001B[0m\u001B[1;33m.\u001B[0m\u001B[0mquantile\u001B[0m\u001B[1;33m(\u001B[0m\u001B[1;36m0.75\u001B[0m\u001B[1;33m)\u001B[0m \u001B[1;33m-\u001B[0m \u001B[0mdata\u001B[0m\u001B[1;33m[\u001B[0m\u001B[0mvar\u001B[0m\u001B[1;33m]\u001B[0m\u001B[1;33m.\u001B[0m\u001B[0mquantile\u001B[0m\u001B[1;33m(\u001B[0m\u001B[1;36m0.25\u001B[0m\u001B[1;33m)\u001B[0m\u001B[1;33m\u001B[0m\u001B[1;33m\u001B[0m\u001B[0m\n\u001B[0;32m      6\u001B[0m     \u001B[0mLower1\u001B[0m\u001B[1;33m=\u001B[0m\u001B[0mdata\u001B[0m\u001B[1;33m[\u001B[0m\u001B[0mvar\u001B[0m\u001B[1;33m]\u001B[0m\u001B[1;33m.\u001B[0m\u001B[0mquantile\u001B[0m\u001B[1;33m(\u001B[0m\u001B[1;36m0.25\u001B[0m\u001B[1;33m)\u001B[0m \u001B[1;33m-\u001B[0m \u001B[1;36m1.5\u001B[0m\u001B[1;33m*\u001B[0m\u001B[0mIQR\u001B[0m\u001B[1;33m\u001B[0m\u001B[1;33m\u001B[0m\u001B[0m\n\u001B[1;32m----> 7\u001B[1;33m     \u001B[0mUpper1\u001B[0m\u001B[1;33m=\u001B[0m\u001B[0mdata\u001B[0m\u001B[1;33m[\u001B[0m\u001B[0mvar\u001B[0m\u001B[1;33m]\u001B[0m\u001B[1;33m.\u001B[0m\u001B[0mquantile\u001B[0m\u001B[1;33m(\u001B[0m\u001B[1;36m0\u001B[0m\u001B[1;33m,\u001B[0m\u001B[1;36m75\u001B[0m\u001B[1;33m)\u001B[0m \u001B[1;33m+\u001B[0m \u001B[1;36m1.5\u001B[0m\u001B[1;33m*\u001B[0m\u001B[0mIQR\u001B[0m\u001B[1;33m\u001B[0m\u001B[1;33m\u001B[0m\u001B[0m\n\u001B[0m\u001B[0;32m      8\u001B[0m \u001B[1;33m\u001B[0m\u001B[0m\n\u001B[0;32m      9\u001B[0m     \u001B[1;32mreturn\u001B[0m \u001B[0mdata\u001B[0m\u001B[1;33m[\u001B[0m\u001B[1;33m(\u001B[0m\u001B[0mdata\u001B[0m\u001B[1;33m[\u001B[0m\u001B[0mvar\u001B[0m\u001B[1;33m]\u001B[0m \u001B[1;33m<\u001B[0m \u001B[0mLower1\u001B[0m\u001B[1;33m)\u001B[0m\u001B[1;33m|\u001B[0m\u001B[1;33m(\u001B[0m\u001B[0mdata\u001B[0m\u001B[1;33m[\u001B[0m\u001B[0mvar\u001B[0m\u001B[1;33m]\u001B[0m\u001B[1;33m>\u001B[0m\u001B[0mUpper1\u001B[0m\u001B[1;33m)\u001B[0m\u001B[1;33m]\u001B[0m\u001B[1;33m\u001B[0m\u001B[1;33m\u001B[0m\u001B[0m\n",
      "\u001B[1;32m~\\anaconda3\\lib\\site-packages\\pandas\\core\\series.py\u001B[0m in \u001B[0;36mquantile\u001B[1;34m(self, q, interpolation)\u001B[0m\n\u001B[0;32m   2197\u001B[0m         \u001B[0mdf\u001B[0m \u001B[1;33m=\u001B[0m \u001B[0mself\u001B[0m\u001B[1;33m.\u001B[0m\u001B[0mto_frame\u001B[0m\u001B[1;33m(\u001B[0m\u001B[1;33m)\u001B[0m\u001B[1;33m\u001B[0m\u001B[1;33m\u001B[0m\u001B[0m\n\u001B[0;32m   2198\u001B[0m \u001B[1;33m\u001B[0m\u001B[0m\n\u001B[1;32m-> 2199\u001B[1;33m         \u001B[0mresult\u001B[0m \u001B[1;33m=\u001B[0m \u001B[0mdf\u001B[0m\u001B[1;33m.\u001B[0m\u001B[0mquantile\u001B[0m\u001B[1;33m(\u001B[0m\u001B[0mq\u001B[0m\u001B[1;33m=\u001B[0m\u001B[0mq\u001B[0m\u001B[1;33m,\u001B[0m \u001B[0minterpolation\u001B[0m\u001B[1;33m=\u001B[0m\u001B[0minterpolation\u001B[0m\u001B[1;33m,\u001B[0m \u001B[0mnumeric_only\u001B[0m\u001B[1;33m=\u001B[0m\u001B[1;32mFalse\u001B[0m\u001B[1;33m)\u001B[0m\u001B[1;33m\u001B[0m\u001B[1;33m\u001B[0m\u001B[0m\n\u001B[0m\u001B[0;32m   2200\u001B[0m         \u001B[1;32mif\u001B[0m \u001B[0mresult\u001B[0m\u001B[1;33m.\u001B[0m\u001B[0mndim\u001B[0m \u001B[1;33m==\u001B[0m \u001B[1;36m2\u001B[0m\u001B[1;33m:\u001B[0m\u001B[1;33m\u001B[0m\u001B[1;33m\u001B[0m\u001B[0m\n\u001B[0;32m   2201\u001B[0m             \u001B[0mresult\u001B[0m \u001B[1;33m=\u001B[0m \u001B[0mresult\u001B[0m\u001B[1;33m.\u001B[0m\u001B[0miloc\u001B[0m\u001B[1;33m[\u001B[0m\u001B[1;33m:\u001B[0m\u001B[1;33m,\u001B[0m \u001B[1;36m0\u001B[0m\u001B[1;33m]\u001B[0m\u001B[1;33m\u001B[0m\u001B[1;33m\u001B[0m\u001B[0m\n",
      "\u001B[1;32m~\\anaconda3\\lib\\site-packages\\pandas\\core\\frame.py\u001B[0m in \u001B[0;36mquantile\u001B[1;34m(self, q, axis, numeric_only, interpolation)\u001B[0m\n\u001B[0;32m   8268\u001B[0m             \u001B[1;32mreturn\u001B[0m \u001B[0mself\u001B[0m\u001B[1;33m.\u001B[0m\u001B[0m_constructor_sliced\u001B[0m\u001B[1;33m(\u001B[0m\u001B[1;33m[\u001B[0m\u001B[1;33m]\u001B[0m\u001B[1;33m,\u001B[0m \u001B[0mindex\u001B[0m\u001B[1;33m=\u001B[0m\u001B[0mcols\u001B[0m\u001B[1;33m,\u001B[0m \u001B[0mname\u001B[0m\u001B[1;33m=\u001B[0m\u001B[0mq\u001B[0m\u001B[1;33m,\u001B[0m \u001B[0mdtype\u001B[0m\u001B[1;33m=\u001B[0m\u001B[0mnp\u001B[0m\u001B[1;33m.\u001B[0m\u001B[0mfloat64\u001B[0m\u001B[1;33m)\u001B[0m\u001B[1;33m\u001B[0m\u001B[1;33m\u001B[0m\u001B[0m\n\u001B[0;32m   8269\u001B[0m \u001B[1;33m\u001B[0m\u001B[0m\n\u001B[1;32m-> 8270\u001B[1;33m         result = data._data.quantile(\n\u001B[0m\u001B[0;32m   8271\u001B[0m             \u001B[0mqs\u001B[0m\u001B[1;33m=\u001B[0m\u001B[0mq\u001B[0m\u001B[1;33m,\u001B[0m \u001B[0maxis\u001B[0m\u001B[1;33m=\u001B[0m\u001B[1;36m1\u001B[0m\u001B[1;33m,\u001B[0m \u001B[0minterpolation\u001B[0m\u001B[1;33m=\u001B[0m\u001B[0minterpolation\u001B[0m\u001B[1;33m,\u001B[0m \u001B[0mtransposed\u001B[0m\u001B[1;33m=\u001B[0m\u001B[0mis_transposed\u001B[0m\u001B[1;33m\u001B[0m\u001B[1;33m\u001B[0m\u001B[0m\n\u001B[0;32m   8272\u001B[0m         )\n",
      "\u001B[1;32m~\\anaconda3\\lib\\site-packages\\pandas\\core\\internals\\managers.py\u001B[0m in \u001B[0;36mquantile\u001B[1;34m(self, axis, consolidate, transposed, interpolation, qs, numeric_only)\u001B[0m\n\u001B[0;32m    498\u001B[0m         \u001B[0maxes\u001B[0m\u001B[1;33m,\u001B[0m \u001B[0mblocks\u001B[0m \u001B[1;33m=\u001B[0m \u001B[1;33m[\u001B[0m\u001B[1;33m]\u001B[0m\u001B[1;33m,\u001B[0m \u001B[1;33m[\u001B[0m\u001B[1;33m]\u001B[0m\u001B[1;33m\u001B[0m\u001B[1;33m\u001B[0m\u001B[0m\n\u001B[0;32m    499\u001B[0m         \u001B[1;32mfor\u001B[0m \u001B[0mb\u001B[0m \u001B[1;32min\u001B[0m \u001B[0mself\u001B[0m\u001B[1;33m.\u001B[0m\u001B[0mblocks\u001B[0m\u001B[1;33m:\u001B[0m\u001B[1;33m\u001B[0m\u001B[1;33m\u001B[0m\u001B[0m\n\u001B[1;32m--> 500\u001B[1;33m             \u001B[0mblock\u001B[0m \u001B[1;33m=\u001B[0m \u001B[0mb\u001B[0m\u001B[1;33m.\u001B[0m\u001B[0mquantile\u001B[0m\u001B[1;33m(\u001B[0m\u001B[0maxis\u001B[0m\u001B[1;33m=\u001B[0m\u001B[0maxis\u001B[0m\u001B[1;33m,\u001B[0m \u001B[0mqs\u001B[0m\u001B[1;33m=\u001B[0m\u001B[0mqs\u001B[0m\u001B[1;33m,\u001B[0m \u001B[0minterpolation\u001B[0m\u001B[1;33m=\u001B[0m\u001B[0minterpolation\u001B[0m\u001B[1;33m)\u001B[0m\u001B[1;33m\u001B[0m\u001B[1;33m\u001B[0m\u001B[0m\n\u001B[0m\u001B[0;32m    501\u001B[0m \u001B[1;33m\u001B[0m\u001B[0m\n\u001B[0;32m    502\u001B[0m             \u001B[0maxe\u001B[0m \u001B[1;33m=\u001B[0m \u001B[0mget_axe\u001B[0m\u001B[1;33m(\u001B[0m\u001B[0mb\u001B[0m\u001B[1;33m,\u001B[0m \u001B[0mqs\u001B[0m\u001B[1;33m,\u001B[0m \u001B[0maxes\u001B[0m\u001B[1;33m=\u001B[0m\u001B[0mself\u001B[0m\u001B[1;33m.\u001B[0m\u001B[0maxes\u001B[0m\u001B[1;33m)\u001B[0m\u001B[1;33m\u001B[0m\u001B[1;33m\u001B[0m\u001B[0m\n",
      "\u001B[1;32m~\\anaconda3\\lib\\site-packages\\pandas\\core\\internals\\blocks.py\u001B[0m in \u001B[0;36mquantile\u001B[1;34m(self, qs, interpolation, axis)\u001B[0m\n\u001B[0;32m   1529\u001B[0m             \u001B[1;31m# asarray needed for Sparse, see GH#24600\u001B[0m\u001B[1;33m\u001B[0m\u001B[1;33m\u001B[0m\u001B[1;33m\u001B[0m\u001B[0m\n\u001B[0;32m   1530\u001B[0m             \u001B[0mmask\u001B[0m \u001B[1;33m=\u001B[0m \u001B[0mnp\u001B[0m\u001B[1;33m.\u001B[0m\u001B[0masarray\u001B[0m\u001B[1;33m(\u001B[0m\u001B[0misna\u001B[0m\u001B[1;33m(\u001B[0m\u001B[0mvalues\u001B[0m\u001B[1;33m)\u001B[0m\u001B[1;33m)\u001B[0m\u001B[1;33m\u001B[0m\u001B[1;33m\u001B[0m\u001B[0m\n\u001B[1;32m-> 1531\u001B[1;33m             result = nanpercentile(\n\u001B[0m\u001B[0;32m   1532\u001B[0m                 \u001B[0mvalues\u001B[0m\u001B[1;33m,\u001B[0m\u001B[1;33m\u001B[0m\u001B[1;33m\u001B[0m\u001B[0m\n\u001B[0;32m   1533\u001B[0m                 \u001B[0mnp\u001B[0m\u001B[1;33m.\u001B[0m\u001B[0marray\u001B[0m\u001B[1;33m(\u001B[0m\u001B[0mqs\u001B[0m\u001B[1;33m)\u001B[0m \u001B[1;33m*\u001B[0m \u001B[1;36m100\u001B[0m\u001B[1;33m,\u001B[0m\u001B[1;33m\u001B[0m\u001B[1;33m\u001B[0m\u001B[0m\n",
      "\u001B[1;32m~\\anaconda3\\lib\\site-packages\\pandas\\core\\nanops.py\u001B[0m in \u001B[0;36mnanpercentile\u001B[1;34m(values, q, axis, na_value, mask, ndim, interpolation)\u001B[0m\n\u001B[0;32m   1422\u001B[0m             \u001B[1;32mreturn\u001B[0m \u001B[0mresult\u001B[0m\u001B[1;33m\u001B[0m\u001B[1;33m\u001B[0m\u001B[0m\n\u001B[0;32m   1423\u001B[0m     \u001B[1;32melse\u001B[0m\u001B[1;33m:\u001B[0m\u001B[1;33m\u001B[0m\u001B[1;33m\u001B[0m\u001B[0m\n\u001B[1;32m-> 1424\u001B[1;33m         \u001B[1;32mreturn\u001B[0m \u001B[0mnp\u001B[0m\u001B[1;33m.\u001B[0m\u001B[0mpercentile\u001B[0m\u001B[1;33m(\u001B[0m\u001B[0mvalues\u001B[0m\u001B[1;33m,\u001B[0m \u001B[0mq\u001B[0m\u001B[1;33m,\u001B[0m \u001B[0maxis\u001B[0m\u001B[1;33m=\u001B[0m\u001B[0maxis\u001B[0m\u001B[1;33m,\u001B[0m \u001B[0minterpolation\u001B[0m\u001B[1;33m=\u001B[0m\u001B[0minterpolation\u001B[0m\u001B[1;33m)\u001B[0m\u001B[1;33m\u001B[0m\u001B[1;33m\u001B[0m\u001B[0m\n\u001B[0m",
      "\u001B[1;32m<__array_function__ internals>\u001B[0m in \u001B[0;36mpercentile\u001B[1;34m(*args, **kwargs)\u001B[0m\n",
      "\u001B[1;32m~\\anaconda3\\lib\\site-packages\\numpy\\lib\\function_base.py\u001B[0m in \u001B[0;36mpercentile\u001B[1;34m(a, q, axis, out, overwrite_input, interpolation, keepdims)\u001B[0m\n\u001B[0;32m   3703\u001B[0m     \u001B[1;32mif\u001B[0m \u001B[1;32mnot\u001B[0m \u001B[0m_quantile_is_valid\u001B[0m\u001B[1;33m(\u001B[0m\u001B[0mq\u001B[0m\u001B[1;33m)\u001B[0m\u001B[1;33m:\u001B[0m\u001B[1;33m\u001B[0m\u001B[1;33m\u001B[0m\u001B[0m\n\u001B[0;32m   3704\u001B[0m         \u001B[1;32mraise\u001B[0m \u001B[0mValueError\u001B[0m\u001B[1;33m(\u001B[0m\u001B[1;34m\"Percentiles must be in the range [0, 100]\"\u001B[0m\u001B[1;33m)\u001B[0m\u001B[1;33m\u001B[0m\u001B[1;33m\u001B[0m\u001B[0m\n\u001B[1;32m-> 3705\u001B[1;33m     return _quantile_unchecked(\n\u001B[0m\u001B[0;32m   3706\u001B[0m         a, q, axis, out, overwrite_input, interpolation, keepdims)\n\u001B[0;32m   3707\u001B[0m \u001B[1;33m\u001B[0m\u001B[0m\n",
      "\u001B[1;32m~\\anaconda3\\lib\\site-packages\\numpy\\lib\\function_base.py\u001B[0m in \u001B[0;36m_quantile_unchecked\u001B[1;34m(a, q, axis, out, overwrite_input, interpolation, keepdims)\u001B[0m\n\u001B[0;32m   3822\u001B[0m                         interpolation='linear', keepdims=False):\n\u001B[0;32m   3823\u001B[0m     \u001B[1;34m\"\"\"Assumes that q is in [0, 1], and is an ndarray\"\"\"\u001B[0m\u001B[1;33m\u001B[0m\u001B[1;33m\u001B[0m\u001B[0m\n\u001B[1;32m-> 3824\u001B[1;33m     r, k = _ureduce(a, func=_quantile_ureduce_func, q=q, axis=axis, out=out,\n\u001B[0m\u001B[0;32m   3825\u001B[0m                     \u001B[0moverwrite_input\u001B[0m\u001B[1;33m=\u001B[0m\u001B[0moverwrite_input\u001B[0m\u001B[1;33m,\u001B[0m\u001B[1;33m\u001B[0m\u001B[1;33m\u001B[0m\u001B[0m\n\u001B[0;32m   3826\u001B[0m                     interpolation=interpolation)\n",
      "\u001B[1;32m~\\anaconda3\\lib\\site-packages\\numpy\\lib\\function_base.py\u001B[0m in \u001B[0;36m_ureduce\u001B[1;34m(a, func, **kwargs)\u001B[0m\n\u001B[0;32m   3401\u001B[0m         \u001B[0mkeepdim\u001B[0m \u001B[1;33m=\u001B[0m \u001B[1;33m(\u001B[0m\u001B[1;36m1\u001B[0m\u001B[1;33m,\u001B[0m\u001B[1;33m)\u001B[0m \u001B[1;33m*\u001B[0m \u001B[0ma\u001B[0m\u001B[1;33m.\u001B[0m\u001B[0mndim\u001B[0m\u001B[1;33m\u001B[0m\u001B[1;33m\u001B[0m\u001B[0m\n\u001B[0;32m   3402\u001B[0m \u001B[1;33m\u001B[0m\u001B[0m\n\u001B[1;32m-> 3403\u001B[1;33m     \u001B[0mr\u001B[0m \u001B[1;33m=\u001B[0m \u001B[0mfunc\u001B[0m\u001B[1;33m(\u001B[0m\u001B[0ma\u001B[0m\u001B[1;33m,\u001B[0m \u001B[1;33m**\u001B[0m\u001B[0mkwargs\u001B[0m\u001B[1;33m)\u001B[0m\u001B[1;33m\u001B[0m\u001B[1;33m\u001B[0m\u001B[0m\n\u001B[0m\u001B[0;32m   3404\u001B[0m     \u001B[1;32mreturn\u001B[0m \u001B[0mr\u001B[0m\u001B[1;33m,\u001B[0m \u001B[0mkeepdim\u001B[0m\u001B[1;33m\u001B[0m\u001B[1;33m\u001B[0m\u001B[0m\n\u001B[0;32m   3405\u001B[0m \u001B[1;33m\u001B[0m\u001B[0m\n",
      "\u001B[1;32m~\\anaconda3\\lib\\site-packages\\numpy\\lib\\function_base.py\u001B[0m in \u001B[0;36m_quantile_ureduce_func\u001B[1;34m(a, q, axis, out, overwrite_input, interpolation, keepdims)\u001B[0m\n\u001B[0;32m   3884\u001B[0m         \u001B[1;32mpass\u001B[0m  \u001B[1;31m# keep index as fraction and interpolate\u001B[0m\u001B[1;33m\u001B[0m\u001B[1;33m\u001B[0m\u001B[0m\n\u001B[0;32m   3885\u001B[0m     \u001B[1;32melse\u001B[0m\u001B[1;33m:\u001B[0m\u001B[1;33m\u001B[0m\u001B[1;33m\u001B[0m\u001B[0m\n\u001B[1;32m-> 3886\u001B[1;33m         raise ValueError(\n\u001B[0m\u001B[0;32m   3887\u001B[0m             \u001B[1;34m\"interpolation can only be 'linear', 'lower' 'higher', \"\u001B[0m\u001B[1;33m\u001B[0m\u001B[1;33m\u001B[0m\u001B[0m\n\u001B[0;32m   3888\u001B[0m             \"'midpoint', or 'nearest'\")\n",
      "\u001B[1;31mValueError\u001B[0m: interpolation can only be 'linear', 'lower' 'higher', 'midpoint', or 'nearest'"
     ]
    }
   ],
   "source": [
    "#TEST DE LA FONCTION\n",
    "finding_outliers(traindeux,'AX2_HONORA')\n",
    "#MALHEURSE ON NA PAS ENCORE CORRIGER CETTE ERREUR"
   ],
   "metadata": {
    "collapsed": false,
    "pycharm": {
     "name": "#%%\n"
    }
   }
  },
  {
   "cell_type": "code",
   "execution_count": 64,
   "outputs": [],
   "source": [],
   "metadata": {
    "collapsed": false,
    "pycharm": {
     "name": "#%%\n"
    }
   }
  },
  {
   "cell_type": "code",
   "execution_count": 65,
   "outputs": [],
   "source": [
    "y_train =traindeux[\"target\"]\n",
    "X_train =traindeux.drop([\"target\"],axis=1)\n",
    "y_test =testdeux"
   ],
   "metadata": {
    "collapsed": false,
    "pycharm": {
     "name": "#%%\n"
    }
   }
  },
  {
   "cell_type": "markdown",
   "source": [
    "ON A REMARQUER DANS LA DESCRIPTION QUON NA DES VARIABLE QUI CORRESPONDE AU ANNEE  ON VA REDUIRE LEUR VALEUR"
   ],
   "metadata": {
    "collapsed": false,
    "pycharm": {
     "name": "#%% md\n"
    }
   }
  },
  {
   "cell_type": "code",
   "execution_count": 66,
   "outputs": [
    {
     "data": {
      "text/plain": "       BCT_CODBUR  CTR_MATFIS  CTR_CATEGO_X  FJU_CODFJU  CTR_CESSAT  \\\n0              44        6210             0          99           0   \n1             401       14383             1          22           0   \n2             243       11555             1          23           0   \n3              72        6175             0          99           0   \n4              42        1417             1          23           0   \n...           ...         ...           ...         ...         ...   \n21290          47        6766             1          22           0   \n21291         113       15006             1          21           0   \n21292         700        2429             1          22           0   \n21293         248        1323             1          22           0   \n21294          55        2672             2          99           0   \n\n       ACT_CODACT  CTR_OBLDIR  CTR_OBLACP  CTR_OBLRES  CTR_OBLFOP  ...  \\\n0            3707           4           2           2           2  ...   \n1            6105           4           2           2           2  ...   \n2            5751           4           2           2           2  ...   \n3            4402           4           2           2           2  ...   \n4            6302           4           2           2           2  ...   \n...           ...         ...         ...         ...         ...  ...   \n21290        4203           4           2           2           2  ...   \n21291        5703           4           2           2           3  ...   \n21292        4218           4           2           2           2  ...   \n21293        3201           4           2           2           2  ...   \n21294        6412           8           2           2           2  ...   \n\n       TVA_CA132018  TVA_CA192018  AX1_BRTIMP   AX2_HONORA  AX2_LOYERS  \\\n0               0.0           0.0         0.0    2950000.0         0.0   \n1               0.0           0.0         0.0  203353885.0         0.0   \n2               0.0           0.0         0.0          0.0         0.0   \n3               0.0           0.0         0.0          0.0         0.0   \n4               0.0           0.0         0.0          0.0         0.0   \n...             ...           ...         ...          ...         ...   \n21290           0.0           0.0         0.0          0.0         0.0   \n21291           0.0           0.0         0.0          0.0         0.0   \n21292           0.0           0.0         0.0  147828454.0         0.0   \n21293           0.0           0.0         0.0          0.0         0.0   \n21294           0.0           0.0         0.0          0.0         0.0   \n\n       AX3_REVCAP    AX5_MNTMAR  RES_ANNIMP  target             id  \n0             0.0  6.027693e+08           8       1  train_id17437  \n1             0.0  1.478520e+07           9       1   train_id5086  \n2             0.0  1.079280e+07           9       1   train_id1443  \n3             0.0  0.000000e+00           5       0  train_id15469  \n4             0.0  0.000000e+00           8       1  train_id14368  \n...           ...           ...         ...     ...            ...  \n21290         0.0  2.326544e+09           8       1   train_id7173  \n21291         0.0  2.505822e+08           6       1  train_id12850  \n21292         0.0  6.404927e+09           9       1   train_id4062  \n21293         0.0  3.318494e+07           8       1   train_id4052  \n21294     11110.0  0.000000e+00           5       1   train_id8245  \n\n[21295 rows x 91 columns]",
      "text/html": "<div>\n<style scoped>\n    .dataframe tbody tr th:only-of-type {\n        vertical-align: middle;\n    }\n\n    .dataframe tbody tr th {\n        vertical-align: top;\n    }\n\n    .dataframe thead th {\n        text-align: right;\n    }\n</style>\n<table border=\"1\" class=\"dataframe\">\n  <thead>\n    <tr style=\"text-align: right;\">\n      <th></th>\n      <th>BCT_CODBUR</th>\n      <th>CTR_MATFIS</th>\n      <th>CTR_CATEGO_X</th>\n      <th>FJU_CODFJU</th>\n      <th>CTR_CESSAT</th>\n      <th>ACT_CODACT</th>\n      <th>CTR_OBLDIR</th>\n      <th>CTR_OBLACP</th>\n      <th>CTR_OBLRES</th>\n      <th>CTR_OBLFOP</th>\n      <th>...</th>\n      <th>TVA_CA132018</th>\n      <th>TVA_CA192018</th>\n      <th>AX1_BRTIMP</th>\n      <th>AX2_HONORA</th>\n      <th>AX2_LOYERS</th>\n      <th>AX3_REVCAP</th>\n      <th>AX5_MNTMAR</th>\n      <th>RES_ANNIMP</th>\n      <th>target</th>\n      <th>id</th>\n    </tr>\n  </thead>\n  <tbody>\n    <tr>\n      <th>0</th>\n      <td>44</td>\n      <td>6210</td>\n      <td>0</td>\n      <td>99</td>\n      <td>0</td>\n      <td>3707</td>\n      <td>4</td>\n      <td>2</td>\n      <td>2</td>\n      <td>2</td>\n      <td>...</td>\n      <td>0.0</td>\n      <td>0.0</td>\n      <td>0.0</td>\n      <td>2950000.0</td>\n      <td>0.0</td>\n      <td>0.0</td>\n      <td>6.027693e+08</td>\n      <td>8</td>\n      <td>1</td>\n      <td>train_id17437</td>\n    </tr>\n    <tr>\n      <th>1</th>\n      <td>401</td>\n      <td>14383</td>\n      <td>1</td>\n      <td>22</td>\n      <td>0</td>\n      <td>6105</td>\n      <td>4</td>\n      <td>2</td>\n      <td>2</td>\n      <td>2</td>\n      <td>...</td>\n      <td>0.0</td>\n      <td>0.0</td>\n      <td>0.0</td>\n      <td>203353885.0</td>\n      <td>0.0</td>\n      <td>0.0</td>\n      <td>1.478520e+07</td>\n      <td>9</td>\n      <td>1</td>\n      <td>train_id5086</td>\n    </tr>\n    <tr>\n      <th>2</th>\n      <td>243</td>\n      <td>11555</td>\n      <td>1</td>\n      <td>23</td>\n      <td>0</td>\n      <td>5751</td>\n      <td>4</td>\n      <td>2</td>\n      <td>2</td>\n      <td>2</td>\n      <td>...</td>\n      <td>0.0</td>\n      <td>0.0</td>\n      <td>0.0</td>\n      <td>0.0</td>\n      <td>0.0</td>\n      <td>0.0</td>\n      <td>1.079280e+07</td>\n      <td>9</td>\n      <td>1</td>\n      <td>train_id1443</td>\n    </tr>\n    <tr>\n      <th>3</th>\n      <td>72</td>\n      <td>6175</td>\n      <td>0</td>\n      <td>99</td>\n      <td>0</td>\n      <td>4402</td>\n      <td>4</td>\n      <td>2</td>\n      <td>2</td>\n      <td>2</td>\n      <td>...</td>\n      <td>0.0</td>\n      <td>0.0</td>\n      <td>0.0</td>\n      <td>0.0</td>\n      <td>0.0</td>\n      <td>0.0</td>\n      <td>0.000000e+00</td>\n      <td>5</td>\n      <td>0</td>\n      <td>train_id15469</td>\n    </tr>\n    <tr>\n      <th>4</th>\n      <td>42</td>\n      <td>1417</td>\n      <td>1</td>\n      <td>23</td>\n      <td>0</td>\n      <td>6302</td>\n      <td>4</td>\n      <td>2</td>\n      <td>2</td>\n      <td>2</td>\n      <td>...</td>\n      <td>0.0</td>\n      <td>0.0</td>\n      <td>0.0</td>\n      <td>0.0</td>\n      <td>0.0</td>\n      <td>0.0</td>\n      <td>0.000000e+00</td>\n      <td>8</td>\n      <td>1</td>\n      <td>train_id14368</td>\n    </tr>\n    <tr>\n      <th>...</th>\n      <td>...</td>\n      <td>...</td>\n      <td>...</td>\n      <td>...</td>\n      <td>...</td>\n      <td>...</td>\n      <td>...</td>\n      <td>...</td>\n      <td>...</td>\n      <td>...</td>\n      <td>...</td>\n      <td>...</td>\n      <td>...</td>\n      <td>...</td>\n      <td>...</td>\n      <td>...</td>\n      <td>...</td>\n      <td>...</td>\n      <td>...</td>\n      <td>...</td>\n      <td>...</td>\n    </tr>\n    <tr>\n      <th>21290</th>\n      <td>47</td>\n      <td>6766</td>\n      <td>1</td>\n      <td>22</td>\n      <td>0</td>\n      <td>4203</td>\n      <td>4</td>\n      <td>2</td>\n      <td>2</td>\n      <td>2</td>\n      <td>...</td>\n      <td>0.0</td>\n      <td>0.0</td>\n      <td>0.0</td>\n      <td>0.0</td>\n      <td>0.0</td>\n      <td>0.0</td>\n      <td>2.326544e+09</td>\n      <td>8</td>\n      <td>1</td>\n      <td>train_id7173</td>\n    </tr>\n    <tr>\n      <th>21291</th>\n      <td>113</td>\n      <td>15006</td>\n      <td>1</td>\n      <td>21</td>\n      <td>0</td>\n      <td>5703</td>\n      <td>4</td>\n      <td>2</td>\n      <td>2</td>\n      <td>3</td>\n      <td>...</td>\n      <td>0.0</td>\n      <td>0.0</td>\n      <td>0.0</td>\n      <td>0.0</td>\n      <td>0.0</td>\n      <td>0.0</td>\n      <td>2.505822e+08</td>\n      <td>6</td>\n      <td>1</td>\n      <td>train_id12850</td>\n    </tr>\n    <tr>\n      <th>21292</th>\n      <td>700</td>\n      <td>2429</td>\n      <td>1</td>\n      <td>22</td>\n      <td>0</td>\n      <td>4218</td>\n      <td>4</td>\n      <td>2</td>\n      <td>2</td>\n      <td>2</td>\n      <td>...</td>\n      <td>0.0</td>\n      <td>0.0</td>\n      <td>0.0</td>\n      <td>147828454.0</td>\n      <td>0.0</td>\n      <td>0.0</td>\n      <td>6.404927e+09</td>\n      <td>9</td>\n      <td>1</td>\n      <td>train_id4062</td>\n    </tr>\n    <tr>\n      <th>21293</th>\n      <td>248</td>\n      <td>1323</td>\n      <td>1</td>\n      <td>22</td>\n      <td>0</td>\n      <td>3201</td>\n      <td>4</td>\n      <td>2</td>\n      <td>2</td>\n      <td>2</td>\n      <td>...</td>\n      <td>0.0</td>\n      <td>0.0</td>\n      <td>0.0</td>\n      <td>0.0</td>\n      <td>0.0</td>\n      <td>0.0</td>\n      <td>3.318494e+07</td>\n      <td>8</td>\n      <td>1</td>\n      <td>train_id4052</td>\n    </tr>\n    <tr>\n      <th>21294</th>\n      <td>55</td>\n      <td>2672</td>\n      <td>2</td>\n      <td>99</td>\n      <td>0</td>\n      <td>6412</td>\n      <td>8</td>\n      <td>2</td>\n      <td>2</td>\n      <td>2</td>\n      <td>...</td>\n      <td>0.0</td>\n      <td>0.0</td>\n      <td>0.0</td>\n      <td>0.0</td>\n      <td>0.0</td>\n      <td>11110.0</td>\n      <td>0.000000e+00</td>\n      <td>5</td>\n      <td>1</td>\n      <td>train_id8245</td>\n    </tr>\n  </tbody>\n</table>\n<p>21295 rows × 91 columns</p>\n</div>"
     },
     "execution_count": 66,
     "metadata": {},
     "output_type": "execute_result"
    }
   ],
   "source": [
    "\n",
    "traindeux['RES_ANNIMP'] = 2022 - train['RES_ANNIMP']\n",
    "testdeux['RES_ANNIMP'] = 2022 - test['RES_ANNIMP']\n",
    "traindeux['EXE_EXERCI'] = 2022 - train['EXE_EXERCI']\n",
    "testdeux['EXE_EXERCI'] = 2022 - test['EXE_EXERCI']\n",
    "traindeux"
   ],
   "metadata": {
    "collapsed": false,
    "pycharm": {
     "name": "#%%\n"
    }
   }
  },
  {
   "cell_type": "code",
   "execution_count": 67,
   "outputs": [],
   "source": [
    "# Import de bibliothèques de Machine Learning\n",
    "\n",
    "from sklearn.tree import DecisionTreeClassifier\n",
    "from sklearn.ensemble import RandomForestClassifier, AdaBoostClassifier, GradientBoostingClassifier, BaggingClassifier\n",
    "from sklearn.svm import SVC\n",
    "from sklearn.neighbors import KNeighborsClassifier\n",
    "from sklearn.linear_model import LogisticRegression,LinearRegression\n",
    "#from sklearn.linear_model import LinearRegression\n",
    "\n",
    "#import xgboost as xgb\n",
    "\n",
    "from sklearn.pipeline import make_pipeline\n",
    "from sklearn.preprocessing import StandardScaler\n",
    "from sklearn.model_selection import learning_curve\n",
    "from sklearn.model_selection import cross_val_score\n",
    "from sklearn.metrics import precision_score\n",
    "from sklearn.utils import resample\n",
    "from sklearn.model_selection import train_test_split,GridSearchCV\n",
    "from sklearn.metrics import classification_report"
   ],
   "metadata": {
    "collapsed": false,
    "pycharm": {
     "name": "#%%\n"
    }
   }
  },
  {
   "cell_type": "markdown",
   "source": [
    "### IV-DIVISION DE LENSEMBLE DES DONNEES\n",
    "RESAMPLE EST  UNE METHODE PERMETANT LE SURECHANTILLONNAGE\n",
    "->NOUS ALLONS CREE DEUX CLASS EN FONCTION DU TARGET\n",
    "->NOUS ALLONS SURECHANTILLONNER LA CLASS MINORITAIRE\n",
    "->CREATION DUNE NOUVELLE CLASS POUR RASSEMBLER  LES DEUX NOUVELLE CLASS"
   ],
   "metadata": {
    "collapsed": false,
    "pycharm": {
     "name": "#%% md\n"
    }
   }
  },
  {
   "cell_type": "code",
   "execution_count": 68,
   "outputs": [],
   "source": [
    "#CREATION DES CLASSE DE LA VARIBLE TARGET\n",
    "Cmino = traindeux[traindeux.target == 0]\n",
    "Cmajo = traindeux[traindeux.target == 1]\n"
   ],
   "metadata": {
    "collapsed": false,
    "pycharm": {
     "name": "#%%\n"
    }
   }
  },
  {
   "cell_type": "code",
   "execution_count": 69,
   "outputs": [
    {
     "name": "stdout",
     "output_type": "stream",
     "text": [
      "1    15893\n",
      "0     5402\n",
      "Name: target, dtype: int64 \n",
      "\n",
      "1    74.632543\n",
      "0    25.367457\n",
      "Name: target, dtype: float64\n"
     ]
    }
   ],
   "source": [
    "#ANALYSE DES % DES CLASS\n",
    "print(traindeux[\"target\"].value_counts(), '\\n')\n",
    "print(traindeux[\"target\"].value_counts(normalize=True)*100)"
   ],
   "metadata": {
    "collapsed": false,
    "pycharm": {
     "name": "#%%\n"
    }
   }
  },
  {
   "cell_type": "code",
   "execution_count": 70,
   "outputs": [
    {
     "data": {
      "text/plain": "15893"
     },
     "execution_count": 70,
     "metadata": {},
     "output_type": "execute_result"
    }
   ],
   "source": [
    "#SURECHANTILLON LA CLASS MINORITAIRE GRACE A RESAMPLE\n",
    "#from sklearn.utils import resample\n",
    "Cmino = resample(Cmino,replace=True,n_samples=len(Cmajo))\n",
    "len(Cmino)"
   ],
   "metadata": {
    "collapsed": false,
    "pycharm": {
     "name": "#%%\n"
    }
   }
  },
  {
   "cell_type": "code",
   "execution_count": 71,
   "outputs": [
    {
     "name": "stdout",
     "output_type": "stream",
     "text": [
      "1    15893\n",
      "0    15893\n",
      "Name: target, dtype: int64 \n",
      "\n",
      "1    50.0\n",
      "0    50.0\n",
      "Name: target, dtype: float64\n"
     ]
    }
   ],
   "source": [
    "#creation du nouveau dataset\n",
    "newTrain= pd.concat([Cmino ,Cmajo])\n",
    "#ANALYSE DES % DES CLASS\n",
    "print(newTrain[\"target\"].value_counts(), '\\n')\n",
    "print(newTrain[\"target\"].value_counts(normalize=True)*100)"
   ],
   "metadata": {
    "collapsed": false,
    "pycharm": {
     "name": "#%%\n"
    }
   }
  },
  {
   "cell_type": "markdown",
   "source": [
    "### MODELISATION"
   ],
   "metadata": {
    "collapsed": false,
    "pycharm": {
     "name": "#%% md\n"
    }
   }
  },
  {
   "cell_type": "code",
   "execution_count": 72,
   "outputs": [],
   "source": [
    "X_train_up = newTrain.drop([\"target\",\"id\"],axis=1)\n",
    "Y_train_up = newTrain[\"target\"]\n",
    "\n"
   ],
   "metadata": {
    "collapsed": false,
    "pycharm": {
     "name": "#%%\n"
    }
   }
  },
  {
   "cell_type": "markdown",
   "source": [
    "##### train_test_split\n",
    "Utilitaire rapide qui encapsule la validation des entrées et next(ShuffleSplit().split(X, y))et application pour saisir des données en un seul appel pour fractionner (et éventuellement sous-échantillonner) les données dans un bon mot."
   ],
   "metadata": {
    "collapsed": false,
    "pycharm": {
     "name": "#%% md\n"
    }
   }
  },
  {
   "cell_type": "code",
   "execution_count": 73,
   "outputs": [],
   "source": [
    "#Selection des variables IMPORTANTE\n",
    "#from sklearn.ensemble import RandomForestClassifier\n",
    "#from sklearn.metrics import accuracy_score\n",
    "#rf = RandomForestClassifier(random_state=100)\n",
    "#rf.fit(X_train_up,Y_train_up)\n",
    "#print(f'score de test={rf.score(X_test,y_test)*100}% et de trainning ={rf.score(X_train_up,#Y_train_up)*100}%')"
   ],
   "metadata": {
    "collapsed": false,
    "pycharm": {
     "name": "#%%\n"
    }
   }
  },
  {
   "cell_type": "code",
   "execution_count": 74,
   "outputs": [],
   "source": [
    "#from sklearn.model_selection import train_test_split\n",
    "X_train1,X_test1,y_train1,y_test1=train_test_split(X_train_up,Y_train_up,test_size=0.4,random_state=120,stratify=Y_train_up)\n",
    "X_val,X_test1,y_val,y_test1=train_test_split(X_test1,y_test1,test_size=0.5,random_state=120,stratify=y_test1)\n",
    "#X_test1,X_train1,y_test1,y_train1=train_test_split()\n"
   ],
   "metadata": {
    "collapsed": false,
    "pycharm": {
     "name": "#%%\n"
    }
   }
  },
  {
   "cell_type": "code",
   "execution_count": 75,
   "outputs": [
    {
     "data": {
      "text/plain": "1    0.5\n0    0.5\nName: target, dtype: float64"
     },
     "execution_count": 75,
     "metadata": {},
     "output_type": "execute_result"
    }
   ],
   "source": [
    "y_test1.value_counts(normalize=True)"
   ],
   "metadata": {
    "collapsed": false,
    "pycharm": {
     "name": "#%%\n"
    }
   }
  },
  {
   "cell_type": "markdown",
   "source": [
    "### Train test split"
   ],
   "metadata": {
    "collapsed": false,
    "pycharm": {
     "name": "#%% md\n"
    }
   }
  },
  {
   "cell_type": "code",
   "execution_count": 76,
   "outputs": [
    {
     "ename": "TypeError",
     "evalue": "'(slice(None, None, None), 0)' is an invalid key",
     "output_type": "error",
     "traceback": [
      "\u001B[1;31m---------------------------------------------------------------------------\u001B[0m",
      "\u001B[1;31mTypeError\u001B[0m                                 Traceback (most recent call last)",
      "\u001B[1;32m<ipython-input-76-0d1c24cb2e54>\u001B[0m in \u001B[0;36m<module>\u001B[1;34m\u001B[0m\n\u001B[0;32m      1\u001B[0m \u001B[0mplt\u001B[0m\u001B[1;33m.\u001B[0m\u001B[0mfigure\u001B[0m\u001B[1;33m(\u001B[0m\u001B[0mfigsize\u001B[0m\u001B[1;33m=\u001B[0m\u001B[1;33m(\u001B[0m\u001B[1;36m12\u001B[0m\u001B[1;33m,\u001B[0m\u001B[1;36m4\u001B[0m\u001B[1;33m)\u001B[0m\u001B[1;33m)\u001B[0m\u001B[1;33m\u001B[0m\u001B[1;33m\u001B[0m\u001B[0m\n\u001B[0;32m      2\u001B[0m \u001B[0mplt\u001B[0m\u001B[1;33m.\u001B[0m\u001B[0msubplot\u001B[0m\u001B[1;33m(\u001B[0m\u001B[1;36m121\u001B[0m\u001B[1;33m)\u001B[0m\u001B[1;33m\u001B[0m\u001B[1;33m\u001B[0m\u001B[0m\n\u001B[1;32m----> 3\u001B[1;33m \u001B[0mplt\u001B[0m\u001B[1;33m.\u001B[0m\u001B[0mscatter\u001B[0m\u001B[1;33m(\u001B[0m\u001B[0mX_train1\u001B[0m\u001B[1;33m[\u001B[0m\u001B[1;33m:\u001B[0m\u001B[1;33m,\u001B[0m\u001B[1;36m0\u001B[0m\u001B[1;33m]\u001B[0m\u001B[1;33m,\u001B[0m\u001B[0mX_train1\u001B[0m\u001B[1;33m[\u001B[0m\u001B[1;33m:\u001B[0m\u001B[1;33m,\u001B[0m\u001B[1;36m1\u001B[0m\u001B[1;33m]\u001B[0m\u001B[1;33m,\u001B[0m\u001B[0mc\u001B[0m\u001B[1;33m=\u001B[0m\u001B[0my_train1\u001B[0m\u001B[1;33m,\u001B[0m\u001B[0malpha\u001B[0m\u001B[1;33m=\u001B[0m\u001B[1;36m0.8\u001B[0m\u001B[1;33m)\u001B[0m\u001B[1;33m\u001B[0m\u001B[1;33m\u001B[0m\u001B[0m\n\u001B[0m\u001B[0;32m      4\u001B[0m \u001B[0mplt\u001B[0m\u001B[1;33m.\u001B[0m\u001B[0mtitle\u001B[0m\u001B[1;33m(\u001B[0m\u001B[1;34m\"TRAIN SET\"\u001B[0m\u001B[1;33m)\u001B[0m\u001B[1;33m\u001B[0m\u001B[1;33m\u001B[0m\u001B[0m\n\u001B[0;32m      5\u001B[0m \u001B[1;33m\u001B[0m\u001B[0m\n",
      "\u001B[1;32m~\\anaconda3\\lib\\site-packages\\pandas\\core\\frame.py\u001B[0m in \u001B[0;36m__getitem__\u001B[1;34m(self, key)\u001B[0m\n\u001B[0;32m   2798\u001B[0m             \u001B[1;32mif\u001B[0m \u001B[0mself\u001B[0m\u001B[1;33m.\u001B[0m\u001B[0mcolumns\u001B[0m\u001B[1;33m.\u001B[0m\u001B[0mnlevels\u001B[0m \u001B[1;33m>\u001B[0m \u001B[1;36m1\u001B[0m\u001B[1;33m:\u001B[0m\u001B[1;33m\u001B[0m\u001B[1;33m\u001B[0m\u001B[0m\n\u001B[0;32m   2799\u001B[0m                 \u001B[1;32mreturn\u001B[0m \u001B[0mself\u001B[0m\u001B[1;33m.\u001B[0m\u001B[0m_getitem_multilevel\u001B[0m\u001B[1;33m(\u001B[0m\u001B[0mkey\u001B[0m\u001B[1;33m)\u001B[0m\u001B[1;33m\u001B[0m\u001B[1;33m\u001B[0m\u001B[0m\n\u001B[1;32m-> 2800\u001B[1;33m             \u001B[0mindexer\u001B[0m \u001B[1;33m=\u001B[0m \u001B[0mself\u001B[0m\u001B[1;33m.\u001B[0m\u001B[0mcolumns\u001B[0m\u001B[1;33m.\u001B[0m\u001B[0mget_loc\u001B[0m\u001B[1;33m(\u001B[0m\u001B[0mkey\u001B[0m\u001B[1;33m)\u001B[0m\u001B[1;33m\u001B[0m\u001B[1;33m\u001B[0m\u001B[0m\n\u001B[0m\u001B[0;32m   2801\u001B[0m             \u001B[1;32mif\u001B[0m \u001B[0mis_integer\u001B[0m\u001B[1;33m(\u001B[0m\u001B[0mindexer\u001B[0m\u001B[1;33m)\u001B[0m\u001B[1;33m:\u001B[0m\u001B[1;33m\u001B[0m\u001B[1;33m\u001B[0m\u001B[0m\n\u001B[0;32m   2802\u001B[0m                 \u001B[0mindexer\u001B[0m \u001B[1;33m=\u001B[0m \u001B[1;33m[\u001B[0m\u001B[0mindexer\u001B[0m\u001B[1;33m]\u001B[0m\u001B[1;33m\u001B[0m\u001B[1;33m\u001B[0m\u001B[0m\n",
      "\u001B[1;32m~\\anaconda3\\lib\\site-packages\\pandas\\core\\indexes\\base.py\u001B[0m in \u001B[0;36mget_loc\u001B[1;34m(self, key, method, tolerance)\u001B[0m\n\u001B[0;32m   2644\u001B[0m                 )\n\u001B[0;32m   2645\u001B[0m             \u001B[1;32mtry\u001B[0m\u001B[1;33m:\u001B[0m\u001B[1;33m\u001B[0m\u001B[1;33m\u001B[0m\u001B[0m\n\u001B[1;32m-> 2646\u001B[1;33m                 \u001B[1;32mreturn\u001B[0m \u001B[0mself\u001B[0m\u001B[1;33m.\u001B[0m\u001B[0m_engine\u001B[0m\u001B[1;33m.\u001B[0m\u001B[0mget_loc\u001B[0m\u001B[1;33m(\u001B[0m\u001B[0mkey\u001B[0m\u001B[1;33m)\u001B[0m\u001B[1;33m\u001B[0m\u001B[1;33m\u001B[0m\u001B[0m\n\u001B[0m\u001B[0;32m   2647\u001B[0m             \u001B[1;32mexcept\u001B[0m \u001B[0mKeyError\u001B[0m\u001B[1;33m:\u001B[0m\u001B[1;33m\u001B[0m\u001B[1;33m\u001B[0m\u001B[0m\n\u001B[0;32m   2648\u001B[0m                 \u001B[1;32mreturn\u001B[0m \u001B[0mself\u001B[0m\u001B[1;33m.\u001B[0m\u001B[0m_engine\u001B[0m\u001B[1;33m.\u001B[0m\u001B[0mget_loc\u001B[0m\u001B[1;33m(\u001B[0m\u001B[0mself\u001B[0m\u001B[1;33m.\u001B[0m\u001B[0m_maybe_cast_indexer\u001B[0m\u001B[1;33m(\u001B[0m\u001B[0mkey\u001B[0m\u001B[1;33m)\u001B[0m\u001B[1;33m)\u001B[0m\u001B[1;33m\u001B[0m\u001B[1;33m\u001B[0m\u001B[0m\n",
      "\u001B[1;32mpandas\\_libs\\index.pyx\u001B[0m in \u001B[0;36mpandas._libs.index.IndexEngine.get_loc\u001B[1;34m()\u001B[0m\n",
      "\u001B[1;32mpandas\\_libs\\index.pyx\u001B[0m in \u001B[0;36mpandas._libs.index.IndexEngine.get_loc\u001B[1;34m()\u001B[0m\n",
      "\u001B[1;31mTypeError\u001B[0m: '(slice(None, None, None), 0)' is an invalid key"
     ]
    },
    {
     "data": {
      "text/plain": "<Figure size 864x288 with 1 Axes>",
      "image/png": "[encoded data removed]"
     },
     "metadata": {
      "needs_background": "light"
     },
     "output_type": "display_data"
    }
   ],
   "source": [
    "plt.figure(figsize=(12,4))\n",
    "plt.subplot(121)\n",
    "plt.scatter(X_train1[:,0],X_train1[:,1],c=y_train1,alpha=0.8)\n",
    "plt.title(\"TRAIN SET\")\n",
    "\n",
    "plt.subplot(122)\n",
    "plt.scatter(X_test1[:,0],X_test1[:,1],c=y_train1,alpha=0.8)\n",
    "plt.title(\"TEST SET\")"
   ],
   "metadata": {
    "collapsed": false,
    "pycharm": {
     "name": "#%%\n"
    }
   }
  },
  {
   "cell_type": "markdown",
   "source": [
    "#### RandomForestClassifier"
   ],
   "metadata": {
    "collapsed": false,
    "pycharm": {
     "name": "#%% md\n"
    }
   }
  },
  {
   "cell_type": "code",
   "source": [
    "#Selection des variables IMPORTANTE\n",
    "#from sklearn.ensemble import RandomForestClassifier\n",
    "#from sklearn.metrics import accuracy_score\n",
    "rf = RandomForestClassifier(random_state=100)\n",
    "rf.fit(X_train1,y_train1)\n",
    "print(f'score de test={rf.score(X_test1,y_test1)*100}% et de trainning ={rf.score(X_train1,y_train1)*100}%')"
   ],
   "metadata": {
    "collapsed": false,
    "pycharm": {
     "name": "#%%\n"
    }
   },
   "execution_count": 77,
   "outputs": [
    {
     "name": "stdout",
     "output_type": "stream",
     "text": [
      "score de test=90.21704938659956% et de trainning =100.0%\n"
     ]
    }
   ]
  },
  {
   "cell_type": "code",
   "execution_count": 78,
   "outputs": [],
   "source": [
    "#from sklearn.metrics import classification_report"
   ],
   "metadata": {
    "collapsed": false,
    "pycharm": {
     "name": "#%%\n"
    }
   }
  },
  {
   "cell_type": "code",
   "execution_count": 79,
   "outputs": [
    {
     "name": "stdout",
     "output_type": "stream",
     "text": [
      "              precision    recall  f1-score   support\n",
      "\n",
      "           0       0.87      0.94      0.91      3179\n",
      "           1       0.93      0.87      0.90      3179\n",
      "\n",
      "    accuracy                           0.90      6358\n",
      "   macro avg       0.90      0.90      0.90      6358\n",
      "weighted avg       0.90      0.90      0.90      6358\n",
      "\n"
     ]
    }
   ],
   "source": [
    "print(classification_report(y_test1,rf.predict(X_test1)))"
   ],
   "metadata": {
    "collapsed": false,
    "pycharm": {
     "name": "#%%\n"
    }
   }
  },
  {
   "cell_type": "code",
   "execution_count": 80,
   "outputs": [
    {
     "name": "stdout",
     "output_type": "stream",
     "text": [
      "Index(['BCT_CODBUR', 'CTR_MATFIS', 'CTR_CATEGO_X', 'FJU_CODFJU', 'CTR_CESSAT',\n",
      "       'ACT_CODACT', 'CTR_OBLDIR', 'CTR_OBLACP', 'CTR_OBLRES', 'CTR_OBLFOP',\n",
      "       'CTR_OBLTFP', 'CTR_OBLDCO', 'CTR_OBLTVA', 'CTR_OFODEC', 'CTR_OFODEP',\n",
      "       'CTR_OFODET', 'CTR_OBLAUT', 'CTR_OBLASS', 'CTR_ODTIMB', 'CTR_OBLTCL',\n",
      "       'CTR_OBLTHO', 'CTR_OBLDLI', 'CTR_OBLTVI', 'CTR_RATISS', 'EXE_EXERCI',\n",
      "       'TVA_CHAFF6', 'TVA_CHAFF7', 'TVA_CHAF10', 'TVA_CHAF12', 'TVA_CAF125',\n",
      "       'TVA_CHAF15', 'TVA_CHAF18', 'TVA_CHAF22', 'TVA_CHAF29', 'TVA_CHAF36',\n",
      "       'TVA_TOTDUE', 'TVA_MOIDEB', 'TVA_CRDINI', 'TVA_BASIMB', 'TVA_DEDIMB',\n",
      "       'TVA_BASEQL', 'TVA_DEDEQL', 'TVA_BASEQI', 'TVA_DEDEQI', 'TVA_BASAUL',\n",
      "       'TVA_DEDAUL', 'TVA_BASAUI', 'TVA_DEDAUI', 'TVA_BASRSM', 'TVA_DEDRSM',\n",
      "       'TVA_RSNRES', 'TVA_TRSPOR', 'TVA_DEDREG', 'TVA_RESTIT', 'TVA_MNTPAY',\n",
      "       'TVA_MOIFIN', 'TVA_CRDFIN', 'TVA_ACHSUS', 'TVA_ACHEXO', 'TVA_ACHNDD',\n",
      "       'TVA_CAFEXP', 'TVA_CAFSUS', 'TVA_CAFEXO', 'TVA_AACHAB', 'TVA_CRDBLQ',\n",
      "       'TVA_CRDRES', 'TVA_CRDRMP', 'TVA_CRDREP', 'TVA_CRDRMC', 'TVA_MACHN',\n",
      "       'TVA_MCESQ', 'TVA_MTVLSM', 'TVA_TXVLSM', 'TVA_MTALSM', 'TVA_TXALSM',\n",
      "       'TVA_MTORDTVA', 'TVA_MTDJRTVA', 'TVA_MTORDTAX', 'TVA_MTDJRTAX',\n",
      "       'TVA_MTRESTAX', 'TVA_CA072018', 'TVA_CA132018', 'TVA_CA192018',\n",
      "       'AX1_BRTIMP', 'AX2_HONORA', 'AX2_LOYERS', 'AX3_REVCAP', 'AX5_MNTMAR',\n",
      "       'RES_ANNIMP'],\n",
      "      dtype='object')\n",
      "[0.06190264 0.05673921 0.01063886 0.0222964  0.00576201 0.05831691\n",
      " 0.00535226 0.00285836 0.00143118 0.00330289 0.00308873 0.00048033\n",
      " 0.00296286 0.00417844 0.00066213 0.00116329 0.00148346 0.00011401\n",
      " 0.01080853 0.00103659 0.00090917 0.00310908 0.00036703 0.00169943\n",
      " 0.02049316 0.01197407 0.00094472 0.00056357 0.01389458 0.\n",
      " 0.00121567 0.02398604 0.00427281 0.00075454 0.         0.03761408\n",
      " 0.00485971 0.07511588 0.00165068 0.00138166 0.01380166 0.01356001\n",
      " 0.00559214 0.00566454 0.03791395 0.04265893 0.01078128 0.00920215\n",
      " 0.0174104  0.01799684 0.00180536 0.00118461 0.00337675 0.01299348\n",
      " 0.08111577 0.00478455 0.10053305 0.00026263 0.00233661 0.00021134\n",
      " 0.01114948 0.01520892 0.00896143 0.00053963 0.00049933 0.00047968\n",
      " 0.00058285 0.         0.00055361 0.00212043 0.00281635 0.00180742\n",
      " 0.00150818 0.00095967 0.00104597 0.0007388  0.00080541 0.\n",
      " 0.         0.         0.0007369  0.00044672 0.00110548 0.00640166\n",
      " 0.01733413 0.00832773 0.02195458 0.03041906 0.02092554]\n"
     ]
    }
   ],
   "source": [
    "print(X_train_up.columns)\n",
    "print(rf.feature_importances_)"
   ],
   "metadata": {
    "collapsed": false,
    "pycharm": {
     "name": "#%%\n"
    }
   }
  },
  {
   "cell_type": "code",
   "execution_count": 81,
   "outputs": [
    {
     "data": {
      "text/plain": "TVA_CRDFIN      0.100533\nTVA_MNTPAY      0.081116\nTVA_CRDINI      0.075116\nBCT_CODBUR      0.061903\nACT_CODACT      0.058317\n                  ...   \nTVA_CHAF36      0.000000\nTVA_MTORDTAX    0.000000\nTVA_CAF125      0.000000\nTVA_MTDJRTAX    0.000000\nTVA_CRDREP      0.000000\nLength: 89, dtype: float64"
     },
     "execution_count": 81,
     "metadata": {},
     "output_type": "execute_result"
    }
   ],
   "source": [
    "#ANALYSE DES VARIABLE LES PLUS IMPORTANTE POUR LE RANDOMFOREST\n",
    "varImp = pd.Series(rf.feature_importances_,index=X_train_up.columns).sort_values(ascending=False)\n",
    "varImp\n",
    "#LA VARIABLE LA PLUS IMPORTANTE EST TVA_CRDFIN"
   ],
   "metadata": {
    "collapsed": false,
    "pycharm": {
     "name": "#%%\n"
    }
   }
  },
  {
   "cell_type": "code",
   "execution_count": 83,
   "outputs": [
    {
     "data": {
      "text/plain": "<matplotlib.axes._subplots.AxesSubplot at 0x29ae61cdac0>"
     },
     "execution_count": 83,
     "metadata": {},
     "output_type": "execute_result"
    },
    {
     "data": {
      "text/plain": "<Figure size 432x288 with 1 Axes>",
      "image/png": "[encoded data removed]"
     },
     "metadata": {
      "needs_background": "light"
     },
     "output_type": "display_data"
    }
   ],
   "source": [
    "traindeux[\"TVA_CRDFIN\"]\n",
    "sns.boxplot(x=\"TVA_CRDFIN\",data=traindeux)\n"
   ],
   "metadata": {
    "collapsed": false,
    "pycharm": {
     "name": "#%%\n"
    }
   }
  },
  {
   "cell_type": "code",
   "execution_count": 84,
   "outputs": [],
   "source": [
    "#SUPPRESSION DES VAR NON IMPORTANTE\n",
    "train_null_to_delete = varImp.index[varImp < 0.001]\n",
    "#train_null_to_delete.plot.bar()\n",
    "train_null_to_delete\n",
    "for var in train_null_to_delete:\n",
    "    #print(var)\n",
    "    traindeux.drop(var,axis=1,inplace=True)\n",
    "    testdeux.drop(var,axis=1,inplace=True)"
   ],
   "metadata": {
    "collapsed": false,
    "pycharm": {
     "name": "#%%\n"
    }
   }
  },
  {
   "cell_type": "code",
   "execution_count": 86,
   "outputs": [
    {
     "data": {
      "text/plain": "<Figure size 432x288 with 1 Axes>",
      "image/png": "[encoded data removed]"
     },
     "metadata": {
      "needs_background": "light"
     },
     "output_type": "display_data"
    }
   ],
   "source": [
    "sns.barplot(x=varImp,y=varImp.index)\n",
    "plt.show()"
   ],
   "metadata": {
    "collapsed": false,
    "pycharm": {
     "name": "#%%\n"
    }
   }
  },
  {
   "cell_type": "markdown",
   "source": [
    "#### KNeighborsClassifier"
   ],
   "metadata": {
    "collapsed": false,
    "pycharm": {
     "name": "#%% md\n"
    }
   }
  },
  {
   "cell_type": "code",
   "execution_count": 87,
   "outputs": [
    {
     "name": "stdout",
     "output_type": "stream",
     "text": [
      "score de test=78.04340987731992% et de trainning =89.04619579466205%\n"
     ]
    }
   ],
   "source": [
    "#from sklearn.neighbors import KNeighborsClassifier\n",
    "knn=KNeighborsClassifier(n_neighbors=3)\n",
    "knn.fit(X_train1,y_train1)\n",
    "print(f'score de test={knn.score(X_test1,y_test1)*100}% et de trainning ={knn.score(X_train1,y_train1)*100}%')"
   ],
   "metadata": {
    "collapsed": false,
    "pycharm": {
     "name": "#%%\n"
    }
   }
  },
  {
   "cell_type": "code",
   "execution_count": 88,
   "outputs": [
    {
     "name": "stdout",
     "output_type": "stream",
     "text": [
      "              precision    recall  f1-score   support\n",
      "\n",
      "           0       0.75      0.84      0.79      3179\n",
      "           1       0.82      0.72      0.77      3179\n",
      "\n",
      "    accuracy                           0.78      6358\n",
      "   macro avg       0.78      0.78      0.78      6358\n",
      "weighted avg       0.78      0.78      0.78      6358\n",
      "\n"
     ]
    }
   ],
   "source": [
    "print(classification_report(y_test1,knn.predict(X_test1)))"
   ],
   "metadata": {
    "collapsed": false,
    "pycharm": {
     "name": "#%%\n"
    }
   }
  },
  {
   "cell_type": "markdown",
   "source": [
    "###  RandomForestClassifier 2 pour comparer"
   ],
   "metadata": {
    "collapsed": false,
    "pycharm": {
     "name": "#%% md\n"
    }
   }
  },
  {
   "cell_type": "code",
   "execution_count": 89,
   "outputs": [
    {
     "name": "stdout",
     "output_type": "stream",
     "text": [
      "score de test=90.37433155080214% et de trainning =100.0%\n"
     ]
    }
   ],
   "source": [
    "from sklearn.ensemble import RandomForestClassifier\n",
    "rf=RandomForestClassifier()\n",
    "rf.fit(X_train1,y_train1)\n",
    "print(f'score de test={rf.score(X_test1,y_test1)*100}% et de trainning ={rf.score(X_train1,y_train1)*100}%')"
   ],
   "metadata": {
    "collapsed": false,
    "pycharm": {
     "name": "#%%\n"
    }
   }
  },
  {
   "cell_type": "code",
   "execution_count": 90,
   "outputs": [
    {
     "name": "stdout",
     "output_type": "stream",
     "text": [
      "              precision    recall  f1-score   support\n",
      "\n",
      "           0       0.88      0.94      0.91      3179\n",
      "           1       0.94      0.87      0.90      3179\n",
      "\n",
      "    accuracy                           0.90      6358\n",
      "   macro avg       0.91      0.90      0.90      6358\n",
      "weighted avg       0.91      0.90      0.90      6358\n",
      "\n"
     ]
    }
   ],
   "source": [
    "print(classification_report(y_test1,rf.predict(X_test1)))"
   ],
   "metadata": {
    "collapsed": false,
    "pycharm": {
     "name": "#%%\n"
    }
   }
  },
  {
   "cell_type": "markdown",
   "source": [
    "#### DecisionTreeClassifier"
   ],
   "metadata": {
    "collapsed": false,
    "pycharm": {
     "name": "#%% md\n"
    }
   }
  },
  {
   "cell_type": "code",
   "execution_count": 91,
   "outputs": [
    {
     "name": "stdout",
     "output_type": "stream",
     "text": [
      "score de test=86.33217993079585% et de trainning =100.0%\n"
     ]
    }
   ],
   "source": [
    "#from sklearn.tree import DecisionTreeClassifier\n",
    "dtc=DecisionTreeClassifier()\n",
    "dtc.fit(X_train1,y_train1)\n",
    "print(f'score de test={dtc.score(X_test1,y_test1)*100}% et de trainning ={dtc.score(X_train1,y_train1)*100}%')"
   ],
   "metadata": {
    "collapsed": false,
    "pycharm": {
     "name": "#%%\n"
    }
   }
  },
  {
   "cell_type": "code",
   "execution_count": 92,
   "outputs": [
    {
     "name": "stdout",
     "output_type": "stream",
     "text": [
      "              precision    recall  f1-score   support\n",
      "\n",
      "           0       0.82      0.92      0.87      3179\n",
      "           1       0.91      0.80      0.85      3179\n",
      "\n",
      "    accuracy                           0.86      6358\n",
      "   macro avg       0.87      0.86      0.86      6358\n",
      "weighted avg       0.87      0.86      0.86      6358\n",
      "\n"
     ]
    }
   ],
   "source": [
    "print(classification_report(y_test1,dtc.predict(X_test1)))"
   ],
   "metadata": {
    "collapsed": false,
    "pycharm": {
     "name": "#%%\n"
    }
   }
  },
  {
   "cell_type": "markdown",
   "source": [
    "### SVC"
   ],
   "metadata": {
    "collapsed": false,
    "pycharm": {
     "name": "#%% md\n"
    }
   }
  },
  {
   "cell_type": "code",
   "execution_count": 85,
   "outputs": [
    {
     "name": "stdout",
     "output_type": "stream",
     "text": [
      "score de test=59.65712488203838% et de trainning =60.22232709349274%\n"
     ]
    }
   ],
   "source": [
    "#from sklearn.svm import SVC\n",
    "svc=SVC()\n",
    "svc.fit(X_train1,y_train1)\n",
    "print(f'score de test={svc.score(X_test1,y_test1)*100}% et de trainning ={svc.score(X_train1,y_train1)*100}%')"
   ],
   "metadata": {
    "collapsed": false,
    "pycharm": {
     "name": "#%%\n"
    }
   }
  },
  {
   "cell_type": "code",
   "execution_count": 86,
   "outputs": [
    {
     "name": "stdout",
     "output_type": "stream",
     "text": [
      "              precision    recall  f1-score   support\n",
      "\n",
      "           0       0.73      0.30      0.43      3179\n",
      "           1       0.56      0.89      0.69      3179\n",
      "\n",
      "    accuracy                           0.60      6358\n",
      "   macro avg       0.65      0.60      0.56      6358\n",
      "weighted avg       0.65      0.60      0.56      6358\n",
      "\n"
     ]
    }
   ],
   "source": [
    "print(classification_report(y_test1,svc.predict(X_test1)))"
   ],
   "metadata": {
    "collapsed": false,
    "pycharm": {
     "name": "#%%\n"
    }
   }
  },
  {
   "cell_type": "code",
   "execution_count": 93,
   "outputs": [
    {
     "name": "stdout",
     "output_type": "stream",
     "text": [
      "score de test=10.050550909052303% et de trainning =11.295934748957304%\n"
     ]
    }
   ],
   "source": [
    "#from sklearn.linear_model import LinearRegression\n",
    "lr=LinearRegression()\n",
    "lr.fit(X_train1,y_train1)\n",
    "print(f'score de test={lr.score(X_test1,y_test1)*100}% et de trainning ={lr.score(X_train1,y_train1)*100}%')\n"
   ],
   "metadata": {
    "collapsed": false,
    "pycharm": {
     "name": "#%%\n"
    }
   }
  },
  {
   "cell_type": "code",
   "execution_count": 94,
   "outputs": [
    {
     "ename": "ValueError",
     "evalue": "Classification metrics can't handle a mix of binary and continuous targets",
     "output_type": "error",
     "traceback": [
      "\u001B[1;31m---------------------------------------------------------------------------\u001B[0m",
      "\u001B[1;31mValueError\u001B[0m                                Traceback (most recent call last)",
      "\u001B[1;32m<ipython-input-94-69dc6e6ab7fe>\u001B[0m in \u001B[0;36m<module>\u001B[1;34m\u001B[0m\n\u001B[1;32m----> 1\u001B[1;33m \u001B[0mprint\u001B[0m\u001B[1;33m(\u001B[0m\u001B[0mclassification_report\u001B[0m\u001B[1;33m(\u001B[0m\u001B[0my_test1\u001B[0m\u001B[1;33m,\u001B[0m\u001B[0mlr\u001B[0m\u001B[1;33m.\u001B[0m\u001B[0mpredict\u001B[0m\u001B[1;33m(\u001B[0m\u001B[0mX_test1\u001B[0m\u001B[1;33m)\u001B[0m\u001B[1;33m)\u001B[0m\u001B[1;33m)\u001B[0m\u001B[1;33m\u001B[0m\u001B[1;33m\u001B[0m\u001B[0m\n\u001B[0m",
      "\u001B[1;32m~\\anaconda3\\lib\\site-packages\\sklearn\\utils\\validation.py\u001B[0m in \u001B[0;36minner_f\u001B[1;34m(*args, **kwargs)\u001B[0m\n\u001B[0;32m     71\u001B[0m                           FutureWarning)\n\u001B[0;32m     72\u001B[0m         \u001B[0mkwargs\u001B[0m\u001B[1;33m.\u001B[0m\u001B[0mupdate\u001B[0m\u001B[1;33m(\u001B[0m\u001B[1;33m{\u001B[0m\u001B[0mk\u001B[0m\u001B[1;33m:\u001B[0m \u001B[0marg\u001B[0m \u001B[1;32mfor\u001B[0m \u001B[0mk\u001B[0m\u001B[1;33m,\u001B[0m \u001B[0marg\u001B[0m \u001B[1;32min\u001B[0m \u001B[0mzip\u001B[0m\u001B[1;33m(\u001B[0m\u001B[0msig\u001B[0m\u001B[1;33m.\u001B[0m\u001B[0mparameters\u001B[0m\u001B[1;33m,\u001B[0m \u001B[0margs\u001B[0m\u001B[1;33m)\u001B[0m\u001B[1;33m}\u001B[0m\u001B[1;33m)\u001B[0m\u001B[1;33m\u001B[0m\u001B[1;33m\u001B[0m\u001B[0m\n\u001B[1;32m---> 73\u001B[1;33m         \u001B[1;32mreturn\u001B[0m \u001B[0mf\u001B[0m\u001B[1;33m(\u001B[0m\u001B[1;33m**\u001B[0m\u001B[0mkwargs\u001B[0m\u001B[1;33m)\u001B[0m\u001B[1;33m\u001B[0m\u001B[1;33m\u001B[0m\u001B[0m\n\u001B[0m\u001B[0;32m     74\u001B[0m     \u001B[1;32mreturn\u001B[0m \u001B[0minner_f\u001B[0m\u001B[1;33m\u001B[0m\u001B[1;33m\u001B[0m\u001B[0m\n\u001B[0;32m     75\u001B[0m \u001B[1;33m\u001B[0m\u001B[0m\n",
      "\u001B[1;32m~\\anaconda3\\lib\\site-packages\\sklearn\\metrics\\_classification.py\u001B[0m in \u001B[0;36mclassification_report\u001B[1;34m(y_true, y_pred, labels, target_names, sample_weight, digits, output_dict, zero_division)\u001B[0m\n\u001B[0;32m   1927\u001B[0m     \"\"\"\n\u001B[0;32m   1928\u001B[0m \u001B[1;33m\u001B[0m\u001B[0m\n\u001B[1;32m-> 1929\u001B[1;33m     \u001B[0my_type\u001B[0m\u001B[1;33m,\u001B[0m \u001B[0my_true\u001B[0m\u001B[1;33m,\u001B[0m \u001B[0my_pred\u001B[0m \u001B[1;33m=\u001B[0m \u001B[0m_check_targets\u001B[0m\u001B[1;33m(\u001B[0m\u001B[0my_true\u001B[0m\u001B[1;33m,\u001B[0m \u001B[0my_pred\u001B[0m\u001B[1;33m)\u001B[0m\u001B[1;33m\u001B[0m\u001B[1;33m\u001B[0m\u001B[0m\n\u001B[0m\u001B[0;32m   1930\u001B[0m \u001B[1;33m\u001B[0m\u001B[0m\n\u001B[0;32m   1931\u001B[0m     \u001B[0mlabels_given\u001B[0m \u001B[1;33m=\u001B[0m \u001B[1;32mTrue\u001B[0m\u001B[1;33m\u001B[0m\u001B[1;33m\u001B[0m\u001B[0m\n",
      "\u001B[1;32m~\\anaconda3\\lib\\site-packages\\sklearn\\metrics\\_classification.py\u001B[0m in \u001B[0;36m_check_targets\u001B[1;34m(y_true, y_pred)\u001B[0m\n\u001B[0;32m     88\u001B[0m \u001B[1;33m\u001B[0m\u001B[0m\n\u001B[0;32m     89\u001B[0m     \u001B[1;32mif\u001B[0m \u001B[0mlen\u001B[0m\u001B[1;33m(\u001B[0m\u001B[0my_type\u001B[0m\u001B[1;33m)\u001B[0m \u001B[1;33m>\u001B[0m \u001B[1;36m1\u001B[0m\u001B[1;33m:\u001B[0m\u001B[1;33m\u001B[0m\u001B[1;33m\u001B[0m\u001B[0m\n\u001B[1;32m---> 90\u001B[1;33m         raise ValueError(\"Classification metrics can't handle a mix of {0} \"\n\u001B[0m\u001B[0;32m     91\u001B[0m                          \"and {1} targets\".format(type_true, type_pred))\n\u001B[0;32m     92\u001B[0m \u001B[1;33m\u001B[0m\u001B[0m\n",
      "\u001B[1;31mValueError\u001B[0m: Classification metrics can't handle a mix of binary and continuous targets"
     ]
    }
   ],
   "source": [
    "print(classification_report(y_test1,lr.predict(X_test1)))"
   ],
   "metadata": {
    "collapsed": false,
    "pycharm": {
     "name": "#%%\n"
    }
   }
  },
  {
   "cell_type": "markdown",
   "source": [
    "#### LOGISTIC REGRESSION 2"
   ],
   "metadata": {
    "collapsed": false,
    "pycharm": {
     "name": "#%% md\n"
    }
   }
  },
  {
   "cell_type": "code",
   "execution_count": 95,
   "outputs": [
    {
     "name": "stderr",
     "output_type": "stream",
     "text": [
      "C:\\Users\\LENOVO\\anaconda3\\lib\\site-packages\\sklearn\\linear_model\\_logistic.py:762: ConvergenceWarning: lbfgs failed to converge (status=1):\n",
      "STOP: TOTAL NO. of ITERATIONS REACHED LIMIT.\n",
      "\n",
      "Increase the number of iterations (max_iter) or scale the data as shown in:\n",
      "    https://scikit-learn.org/stable/modules/preprocessing.html\n",
      "Please also refer to the documentation for alternative solver options:\n",
      "    https://scikit-learn.org/stable/modules/linear_model.html#logistic-regression\n",
      "  n_iter_i = _check_optimize_result(\n",
      "C:\\Users\\LENOVO\\anaconda3\\lib\\site-packages\\sklearn\\linear_model\\_logistic.py:762: ConvergenceWarning: lbfgs failed to converge (status=1):\n",
      "STOP: TOTAL NO. of ITERATIONS REACHED LIMIT.\n",
      "\n",
      "Increase the number of iterations (max_iter) or scale the data as shown in:\n",
      "    https://scikit-learn.org/stable/modules/preprocessing.html\n",
      "Please also refer to the documentation for alternative solver options:\n",
      "    https://scikit-learn.org/stable/modules/linear_model.html#logistic-regression\n",
      "  n_iter_i = _check_optimize_result(\n",
      "C:\\Users\\LENOVO\\anaconda3\\lib\\site-packages\\sklearn\\linear_model\\_logistic.py:762: ConvergenceWarning: lbfgs failed to converge (status=1):\n",
      "STOP: TOTAL NO. of ITERATIONS REACHED LIMIT.\n",
      "\n",
      "Increase the number of iterations (max_iter) or scale the data as shown in:\n",
      "    https://scikit-learn.org/stable/modules/preprocessing.html\n",
      "Please also refer to the documentation for alternative solver options:\n",
      "    https://scikit-learn.org/stable/modules/linear_model.html#logistic-regression\n",
      "  n_iter_i = _check_optimize_result(\n",
      "C:\\Users\\LENOVO\\anaconda3\\lib\\site-packages\\sklearn\\linear_model\\_logistic.py:762: ConvergenceWarning: lbfgs failed to converge (status=1):\n",
      "STOP: TOTAL NO. of ITERATIONS REACHED LIMIT.\n",
      "\n",
      "Increase the number of iterations (max_iter) or scale the data as shown in:\n",
      "    https://scikit-learn.org/stable/modules/preprocessing.html\n",
      "Please also refer to the documentation for alternative solver options:\n",
      "    https://scikit-learn.org/stable/modules/linear_model.html#logistic-regression\n",
      "  n_iter_i = _check_optimize_result(\n",
      "C:\\Users\\LENOVO\\anaconda3\\lib\\site-packages\\sklearn\\linear_model\\_logistic.py:762: ConvergenceWarning: lbfgs failed to converge (status=1):\n",
      "STOP: TOTAL NO. of ITERATIONS REACHED LIMIT.\n",
      "\n",
      "Increase the number of iterations (max_iter) or scale the data as shown in:\n",
      "    https://scikit-learn.org/stable/modules/preprocessing.html\n",
      "Please also refer to the documentation for alternative solver options:\n",
      "    https://scikit-learn.org/stable/modules/linear_model.html#logistic-regression\n",
      "  n_iter_i = _check_optimize_result(\n",
      "C:\\Users\\LENOVO\\anaconda3\\lib\\site-packages\\sklearn\\linear_model\\_logistic.py:762: ConvergenceWarning: lbfgs failed to converge (status=1):\n",
      "STOP: TOTAL NO. of ITERATIONS REACHED LIMIT.\n",
      "\n",
      "Increase the number of iterations (max_iter) or scale the data as shown in:\n",
      "    https://scikit-learn.org/stable/modules/preprocessing.html\n",
      "Please also refer to the documentation for alternative solver options:\n",
      "    https://scikit-learn.org/stable/modules/linear_model.html#logistic-regression\n",
      "  n_iter_i = _check_optimize_result(\n",
      "C:\\Users\\LENOVO\\anaconda3\\lib\\site-packages\\sklearn\\linear_model\\_logistic.py:762: ConvergenceWarning: lbfgs failed to converge (status=1):\n",
      "STOP: TOTAL NO. of ITERATIONS REACHED LIMIT.\n",
      "\n",
      "Increase the number of iterations (max_iter) or scale the data as shown in:\n",
      "    https://scikit-learn.org/stable/modules/preprocessing.html\n",
      "Please also refer to the documentation for alternative solver options:\n",
      "    https://scikit-learn.org/stable/modules/linear_model.html#logistic-regression\n",
      "  n_iter_i = _check_optimize_result(\n",
      "C:\\Users\\LENOVO\\anaconda3\\lib\\site-packages\\sklearn\\linear_model\\_logistic.py:762: ConvergenceWarning: lbfgs failed to converge (status=1):\n",
      "STOP: TOTAL NO. of ITERATIONS REACHED LIMIT.\n",
      "\n",
      "Increase the number of iterations (max_iter) or scale the data as shown in:\n",
      "    https://scikit-learn.org/stable/modules/preprocessing.html\n",
      "Please also refer to the documentation for alternative solver options:\n",
      "    https://scikit-learn.org/stable/modules/linear_model.html#logistic-regression\n",
      "  n_iter_i = _check_optimize_result(\n",
      "C:\\Users\\LENOVO\\anaconda3\\lib\\site-packages\\sklearn\\linear_model\\_logistic.py:762: ConvergenceWarning: lbfgs failed to converge (status=1):\n",
      "STOP: TOTAL NO. of ITERATIONS REACHED LIMIT.\n",
      "\n",
      "Increase the number of iterations (max_iter) or scale the data as shown in:\n",
      "    https://scikit-learn.org/stable/modules/preprocessing.html\n",
      "Please also refer to the documentation for alternative solver options:\n",
      "    https://scikit-learn.org/stable/modules/linear_model.html#logistic-regression\n",
      "  n_iter_i = _check_optimize_result(\n",
      "C:\\Users\\LENOVO\\anaconda3\\lib\\site-packages\\sklearn\\linear_model\\_logistic.py:762: ConvergenceWarning: lbfgs failed to converge (status=1):\n",
      "STOP: TOTAL NO. of ITERATIONS REACHED LIMIT.\n",
      "\n",
      "Increase the number of iterations (max_iter) or scale the data as shown in:\n",
      "    https://scikit-learn.org/stable/modules/preprocessing.html\n",
      "Please also refer to the documentation for alternative solver options:\n",
      "    https://scikit-learn.org/stable/modules/linear_model.html#logistic-regression\n",
      "  n_iter_i = _check_optimize_result(\n",
      "C:\\Users\\LENOVO\\anaconda3\\lib\\site-packages\\sklearn\\linear_model\\_logistic.py:762: ConvergenceWarning: lbfgs failed to converge (status=1):\n",
      "STOP: TOTAL NO. of ITERATIONS REACHED LIMIT.\n",
      "\n",
      "Increase the number of iterations (max_iter) or scale the data as shown in:\n",
      "    https://scikit-learn.org/stable/modules/preprocessing.html\n",
      "Please also refer to the documentation for alternative solver options:\n",
      "    https://scikit-learn.org/stable/modules/linear_model.html#logistic-regression\n",
      "  n_iter_i = _check_optimize_result(\n",
      "C:\\Users\\LENOVO\\anaconda3\\lib\\site-packages\\sklearn\\linear_model\\_logistic.py:762: ConvergenceWarning: lbfgs failed to converge (status=1):\n",
      "STOP: TOTAL NO. of ITERATIONS REACHED LIMIT.\n",
      "\n",
      "Increase the number of iterations (max_iter) or scale the data as shown in:\n",
      "    https://scikit-learn.org/stable/modules/preprocessing.html\n",
      "Please also refer to the documentation for alternative solver options:\n",
      "    https://scikit-learn.org/stable/modules/linear_model.html#logistic-regression\n",
      "  n_iter_i = _check_optimize_result(\n",
      "C:\\Users\\LENOVO\\anaconda3\\lib\\site-packages\\sklearn\\linear_model\\_logistic.py:762: ConvergenceWarning: lbfgs failed to converge (status=1):\n",
      "STOP: TOTAL NO. of ITERATIONS REACHED LIMIT.\n",
      "\n",
      "Increase the number of iterations (max_iter) or scale the data as shown in:\n",
      "    https://scikit-learn.org/stable/modules/preprocessing.html\n",
      "Please also refer to the documentation for alternative solver options:\n",
      "    https://scikit-learn.org/stable/modules/linear_model.html#logistic-regression\n",
      "  n_iter_i = _check_optimize_result(\n",
      "C:\\Users\\LENOVO\\anaconda3\\lib\\site-packages\\sklearn\\linear_model\\_logistic.py:762: ConvergenceWarning: lbfgs failed to converge (status=1):\n",
      "STOP: TOTAL NO. of ITERATIONS REACHED LIMIT.\n",
      "\n",
      "Increase the number of iterations (max_iter) or scale the data as shown in:\n",
      "    https://scikit-learn.org/stable/modules/preprocessing.html\n",
      "Please also refer to the documentation for alternative solver options:\n",
      "    https://scikit-learn.org/stable/modules/linear_model.html#logistic-regression\n",
      "  n_iter_i = _check_optimize_result(\n",
      "C:\\Users\\LENOVO\\anaconda3\\lib\\site-packages\\sklearn\\linear_model\\_logistic.py:762: ConvergenceWarning: lbfgs failed to converge (status=1):\n",
      "STOP: TOTAL NO. of ITERATIONS REACHED LIMIT.\n",
      "\n",
      "Increase the number of iterations (max_iter) or scale the data as shown in:\n",
      "    https://scikit-learn.org/stable/modules/preprocessing.html\n",
      "Please also refer to the documentation for alternative solver options:\n",
      "    https://scikit-learn.org/stable/modules/linear_model.html#logistic-regression\n",
      "  n_iter_i = _check_optimize_result(\n",
      "C:\\Users\\LENOVO\\anaconda3\\lib\\site-packages\\sklearn\\linear_model\\_logistic.py:762: ConvergenceWarning: lbfgs failed to converge (status=1):\n",
      "STOP: TOTAL NO. of ITERATIONS REACHED LIMIT.\n",
      "\n",
      "Increase the number of iterations (max_iter) or scale the data as shown in:\n",
      "    https://scikit-learn.org/stable/modules/preprocessing.html\n",
      "Please also refer to the documentation for alternative solver options:\n",
      "    https://scikit-learn.org/stable/modules/linear_model.html#logistic-regression\n",
      "  n_iter_i = _check_optimize_result(\n",
      "C:\\Users\\LENOVO\\anaconda3\\lib\\site-packages\\sklearn\\linear_model\\_logistic.py:762: ConvergenceWarning: lbfgs failed to converge (status=1):\n",
      "STOP: TOTAL NO. of ITERATIONS REACHED LIMIT.\n",
      "\n",
      "Increase the number of iterations (max_iter) or scale the data as shown in:\n",
      "    https://scikit-learn.org/stable/modules/preprocessing.html\n",
      "Please also refer to the documentation for alternative solver options:\n",
      "    https://scikit-learn.org/stable/modules/linear_model.html#logistic-regression\n",
      "  n_iter_i = _check_optimize_result(\n",
      "C:\\Users\\LENOVO\\anaconda3\\lib\\site-packages\\sklearn\\linear_model\\_logistic.py:762: ConvergenceWarning: lbfgs failed to converge (status=1):\n",
      "STOP: TOTAL NO. of ITERATIONS REACHED LIMIT.\n",
      "\n",
      "Increase the number of iterations (max_iter) or scale the data as shown in:\n",
      "    https://scikit-learn.org/stable/modules/preprocessing.html\n",
      "Please also refer to the documentation for alternative solver options:\n",
      "    https://scikit-learn.org/stable/modules/linear_model.html#logistic-regression\n",
      "  n_iter_i = _check_optimize_result(\n",
      "C:\\Users\\LENOVO\\anaconda3\\lib\\site-packages\\sklearn\\linear_model\\_logistic.py:762: ConvergenceWarning: lbfgs failed to converge (status=1):\n",
      "STOP: TOTAL NO. of ITERATIONS REACHED LIMIT.\n",
      "\n",
      "Increase the number of iterations (max_iter) or scale the data as shown in:\n",
      "    https://scikit-learn.org/stable/modules/preprocessing.html\n",
      "Please also refer to the documentation for alternative solver options:\n",
      "    https://scikit-learn.org/stable/modules/linear_model.html#logistic-regression\n",
      "  n_iter_i = _check_optimize_result(\n",
      "C:\\Users\\LENOVO\\anaconda3\\lib\\site-packages\\sklearn\\linear_model\\_logistic.py:762: ConvergenceWarning: lbfgs failed to converge (status=1):\n",
      "STOP: TOTAL NO. of ITERATIONS REACHED LIMIT.\n",
      "\n",
      "Increase the number of iterations (max_iter) or scale the data as shown in:\n",
      "    https://scikit-learn.org/stable/modules/preprocessing.html\n",
      "Please also refer to the documentation for alternative solver options:\n",
      "    https://scikit-learn.org/stable/modules/linear_model.html#logistic-regression\n",
      "  n_iter_i = _check_optimize_result(\n",
      "C:\\Users\\LENOVO\\anaconda3\\lib\\site-packages\\sklearn\\linear_model\\_logistic.py:762: ConvergenceWarning: lbfgs failed to converge (status=1):\n",
      "STOP: TOTAL NO. of ITERATIONS REACHED LIMIT.\n",
      "\n",
      "Increase the number of iterations (max_iter) or scale the data as shown in:\n",
      "    https://scikit-learn.org/stable/modules/preprocessing.html\n",
      "Please also refer to the documentation for alternative solver options:\n",
      "    https://scikit-learn.org/stable/modules/linear_model.html#logistic-regression\n",
      "  n_iter_i = _check_optimize_result(\n",
      "C:\\Users\\LENOVO\\anaconda3\\lib\\site-packages\\sklearn\\linear_model\\_logistic.py:762: ConvergenceWarning: lbfgs failed to converge (status=1):\n",
      "STOP: TOTAL NO. of ITERATIONS REACHED LIMIT.\n",
      "\n",
      "Increase the number of iterations (max_iter) or scale the data as shown in:\n",
      "    https://scikit-learn.org/stable/modules/preprocessing.html\n",
      "Please also refer to the documentation for alternative solver options:\n",
      "    https://scikit-learn.org/stable/modules/linear_model.html#logistic-regression\n",
      "  n_iter_i = _check_optimize_result(\n",
      "C:\\Users\\LENOVO\\anaconda3\\lib\\site-packages\\sklearn\\linear_model\\_logistic.py:762: ConvergenceWarning: lbfgs failed to converge (status=1):\n",
      "STOP: TOTAL NO. of ITERATIONS REACHED LIMIT.\n",
      "\n",
      "Increase the number of iterations (max_iter) or scale the data as shown in:\n",
      "    https://scikit-learn.org/stable/modules/preprocessing.html\n",
      "Please also refer to the documentation for alternative solver options:\n",
      "    https://scikit-learn.org/stable/modules/linear_model.html#logistic-regression\n",
      "  n_iter_i = _check_optimize_result(\n",
      "C:\\Users\\LENOVO\\anaconda3\\lib\\site-packages\\sklearn\\linear_model\\_logistic.py:762: ConvergenceWarning: lbfgs failed to converge (status=1):\n",
      "STOP: TOTAL NO. of ITERATIONS REACHED LIMIT.\n",
      "\n",
      "Increase the number of iterations (max_iter) or scale the data as shown in:\n",
      "    https://scikit-learn.org/stable/modules/preprocessing.html\n",
      "Please also refer to the documentation for alternative solver options:\n",
      "    https://scikit-learn.org/stable/modules/linear_model.html#logistic-regression\n",
      "  n_iter_i = _check_optimize_result(\n",
      "C:\\Users\\LENOVO\\anaconda3\\lib\\site-packages\\sklearn\\linear_model\\_logistic.py:762: ConvergenceWarning: lbfgs failed to converge (status=1):\n",
      "STOP: TOTAL NO. of ITERATIONS REACHED LIMIT.\n",
      "\n",
      "Increase the number of iterations (max_iter) or scale the data as shown in:\n",
      "    https://scikit-learn.org/stable/modules/preprocessing.html\n",
      "Please also refer to the documentation for alternative solver options:\n",
      "    https://scikit-learn.org/stable/modules/linear_model.html#logistic-regression\n",
      "  n_iter_i = _check_optimize_result(\n",
      "C:\\Users\\LENOVO\\anaconda3\\lib\\site-packages\\sklearn\\linear_model\\_logistic.py:762: ConvergenceWarning: lbfgs failed to converge (status=1):\n",
      "STOP: TOTAL NO. of ITERATIONS REACHED LIMIT.\n",
      "\n",
      "Increase the number of iterations (max_iter) or scale the data as shown in:\n",
      "    https://scikit-learn.org/stable/modules/preprocessing.html\n",
      "Please also refer to the documentation for alternative solver options:\n",
      "    https://scikit-learn.org/stable/modules/linear_model.html#logistic-regression\n",
      "  n_iter_i = _check_optimize_result(\n",
      "C:\\Users\\LENOVO\\anaconda3\\lib\\site-packages\\sklearn\\linear_model\\_logistic.py:762: ConvergenceWarning: lbfgs failed to converge (status=1):\n",
      "STOP: TOTAL NO. of ITERATIONS REACHED LIMIT.\n",
      "\n",
      "Increase the number of iterations (max_iter) or scale the data as shown in:\n",
      "    https://scikit-learn.org/stable/modules/preprocessing.html\n",
      "Please also refer to the documentation for alternative solver options:\n",
      "    https://scikit-learn.org/stable/modules/linear_model.html#logistic-regression\n",
      "  n_iter_i = _check_optimize_result(\n",
      "C:\\Users\\LENOVO\\anaconda3\\lib\\site-packages\\sklearn\\linear_model\\_logistic.py:762: ConvergenceWarning: lbfgs failed to converge (status=1):\n",
      "STOP: TOTAL NO. of ITERATIONS REACHED LIMIT.\n",
      "\n",
      "Increase the number of iterations (max_iter) or scale the data as shown in:\n",
      "    https://scikit-learn.org/stable/modules/preprocessing.html\n",
      "Please also refer to the documentation for alternative solver options:\n",
      "    https://scikit-learn.org/stable/modules/linear_model.html#logistic-regression\n",
      "  n_iter_i = _check_optimize_result(\n",
      "C:\\Users\\LENOVO\\anaconda3\\lib\\site-packages\\sklearn\\linear_model\\_logistic.py:762: ConvergenceWarning: lbfgs failed to converge (status=1):\n",
      "STOP: TOTAL NO. of ITERATIONS REACHED LIMIT.\n",
      "\n",
      "Increase the number of iterations (max_iter) or scale the data as shown in:\n",
      "    https://scikit-learn.org/stable/modules/preprocessing.html\n",
      "Please also refer to the documentation for alternative solver options:\n",
      "    https://scikit-learn.org/stable/modules/linear_model.html#logistic-regression\n",
      "  n_iter_i = _check_optimize_result(\n",
      "C:\\Users\\LENOVO\\anaconda3\\lib\\site-packages\\sklearn\\linear_model\\_logistic.py:762: ConvergenceWarning: lbfgs failed to converge (status=1):\n",
      "STOP: TOTAL NO. of ITERATIONS REACHED LIMIT.\n",
      "\n",
      "Increase the number of iterations (max_iter) or scale the data as shown in:\n",
      "    https://scikit-learn.org/stable/modules/preprocessing.html\n",
      "Please also refer to the documentation for alternative solver options:\n",
      "    https://scikit-learn.org/stable/modules/linear_model.html#logistic-regression\n",
      "  n_iter_i = _check_optimize_result(\n"
     ]
    },
    {
     "name": "stdout",
     "output_type": "stream",
     "text": [
      "0.5970842333652454\n",
      "LogisticRegression(C=0.01, max_iter=500)\n"
     ]
    },
    {
     "name": "stderr",
     "output_type": "stream",
     "text": [
      "C:\\Users\\LENOVO\\anaconda3\\lib\\site-packages\\sklearn\\linear_model\\_logistic.py:762: ConvergenceWarning: lbfgs failed to converge (status=1):\n",
      "STOP: TOTAL NO. of ITERATIONS REACHED LIMIT.\n",
      "\n",
      "Increase the number of iterations (max_iter) or scale the data as shown in:\n",
      "    https://scikit-learn.org/stable/modules/preprocessing.html\n",
      "Please also refer to the documentation for alternative solver options:\n",
      "    https://scikit-learn.org/stable/modules/linear_model.html#logistic-regression\n",
      "  n_iter_i = _check_optimize_result(\n"
     ]
    }
   ],
   "source": [
    "lrg= LogisticRegression(max_iter=500)\n",
    "lrg_hyp={'C':[0.001,0.01,0.1,1,10,100]}\n",
    "lrg_cv=GridSearchCV(lrg,lrg_hyp,cv=5)\n",
    "lrg_cv.fit(X_train1,y_train1)\n",
    "print(lrg_cv.best_score_)\n",
    "print(lrg_cv.best_estimator_)"
   ],
   "metadata": {
    "collapsed": false,
    "pycharm": {
     "name": "#%%\n"
    }
   }
  },
  {
   "cell_type": "markdown",
   "source": [
    "### EVALUATION DES PERFORMANCE ET CHOIX DU MODEL"
   ],
   "metadata": {
    "collapsed": false,
    "pycharm": {
     "name": "#%% md\n"
    }
   }
  },
  {
   "cell_type": "code",
   "execution_count": 90,
   "outputs": [],
   "source": [
    "from sklearn.metrics import accuracy_score\n",
    "\n",
    "\n",
    "#FONCTION POUR DETERMINER LE BEST SCORE GLOBAL\n",
    "\n",
    "def  model_eval(model,featuring,labels):\n",
    "    pred=model.predict(featuring)\n",
    "    score= accuracy_score(X_val,pred)\n",
    "    print(\"score global du model :\",round(score,3))\n"
   ],
   "metadata": {
    "collapsed": false,
    "pycharm": {
     "name": "#%%\n"
    }
   }
  },
  {
   "cell_type": "code",
   "execution_count": 91,
   "outputs": [
    {
     "data": {
      "text/plain": "RandomForestClassifier()"
     },
     "execution_count": 91,
     "metadata": {},
     "output_type": "execute_result"
    }
   ],
   "source": [
    "rf"
   ],
   "metadata": {
    "collapsed": false,
    "pycharm": {
     "name": "#%%\n"
    }
   }
  },
  {
   "cell_type": "code",
   "execution_count": 98,
   "outputs": [
    {
     "ename": "ValueError",
     "evalue": "Found input variables with inconsistent numbers of samples: [6357, 19071]",
     "output_type": "error",
     "traceback": [
      "\u001B[1;31m---------------------------------------------------------------------------\u001B[0m",
      "\u001B[1;31mValueError\u001B[0m                                Traceback (most recent call last)",
      "\u001B[1;32m<ipython-input-98-b39b5621a800>\u001B[0m in \u001B[0;36m<module>\u001B[1;34m\u001B[0m\n\u001B[1;32m----> 1\u001B[1;33m \u001B[0mmodel_eval\u001B[0m\u001B[1;33m(\u001B[0m\u001B[0mrf\u001B[0m\u001B[1;33m,\u001B[0m\u001B[0mX_train1\u001B[0m\u001B[1;33m,\u001B[0m\u001B[0mX_test1\u001B[0m\u001B[1;33m)\u001B[0m\u001B[1;33m\u001B[0m\u001B[1;33m\u001B[0m\u001B[0m\n\u001B[0m",
      "\u001B[1;32m<ipython-input-90-011de3205503>\u001B[0m in \u001B[0;36mmodel_eval\u001B[1;34m(model, featuring, labels)\u001B[0m\n\u001B[0;32m      6\u001B[0m \u001B[1;32mdef\u001B[0m  \u001B[0mmodel_eval\u001B[0m\u001B[1;33m(\u001B[0m\u001B[0mmodel\u001B[0m\u001B[1;33m,\u001B[0m\u001B[0mfeaturing\u001B[0m\u001B[1;33m,\u001B[0m\u001B[0mlabels\u001B[0m\u001B[1;33m)\u001B[0m\u001B[1;33m:\u001B[0m\u001B[1;33m\u001B[0m\u001B[1;33m\u001B[0m\u001B[0m\n\u001B[0;32m      7\u001B[0m     \u001B[0mpred\u001B[0m\u001B[1;33m=\u001B[0m\u001B[0mmodel\u001B[0m\u001B[1;33m.\u001B[0m\u001B[0mpredict\u001B[0m\u001B[1;33m(\u001B[0m\u001B[0mfeaturing\u001B[0m\u001B[1;33m)\u001B[0m\u001B[1;33m\u001B[0m\u001B[1;33m\u001B[0m\u001B[0m\n\u001B[1;32m----> 8\u001B[1;33m     \u001B[0mscore\u001B[0m\u001B[1;33m=\u001B[0m \u001B[0maccuracy_score\u001B[0m\u001B[1;33m(\u001B[0m\u001B[0mX_val\u001B[0m\u001B[1;33m,\u001B[0m\u001B[0mpred\u001B[0m\u001B[1;33m)\u001B[0m\u001B[1;33m\u001B[0m\u001B[1;33m\u001B[0m\u001B[0m\n\u001B[0m\u001B[0;32m      9\u001B[0m     \u001B[0mprint\u001B[0m\u001B[1;33m(\u001B[0m\u001B[1;34m\"score global du model :\"\u001B[0m\u001B[1;33m,\u001B[0m\u001B[0mround\u001B[0m\u001B[1;33m(\u001B[0m\u001B[0mscore\u001B[0m\u001B[1;33m,\u001B[0m\u001B[1;36m3\u001B[0m\u001B[1;33m)\u001B[0m\u001B[1;33m)\u001B[0m\u001B[1;33m\u001B[0m\u001B[1;33m\u001B[0m\u001B[0m\n\u001B[0;32m     10\u001B[0m \u001B[1;33m\u001B[0m\u001B[0m\n",
      "\u001B[1;32m~\\anaconda3\\lib\\site-packages\\sklearn\\utils\\validation.py\u001B[0m in \u001B[0;36minner_f\u001B[1;34m(*args, **kwargs)\u001B[0m\n\u001B[0;32m     71\u001B[0m                           FutureWarning)\n\u001B[0;32m     72\u001B[0m         \u001B[0mkwargs\u001B[0m\u001B[1;33m.\u001B[0m\u001B[0mupdate\u001B[0m\u001B[1;33m(\u001B[0m\u001B[1;33m{\u001B[0m\u001B[0mk\u001B[0m\u001B[1;33m:\u001B[0m \u001B[0marg\u001B[0m \u001B[1;32mfor\u001B[0m \u001B[0mk\u001B[0m\u001B[1;33m,\u001B[0m \u001B[0marg\u001B[0m \u001B[1;32min\u001B[0m \u001B[0mzip\u001B[0m\u001B[1;33m(\u001B[0m\u001B[0msig\u001B[0m\u001B[1;33m.\u001B[0m\u001B[0mparameters\u001B[0m\u001B[1;33m,\u001B[0m \u001B[0margs\u001B[0m\u001B[1;33m)\u001B[0m\u001B[1;33m}\u001B[0m\u001B[1;33m)\u001B[0m\u001B[1;33m\u001B[0m\u001B[1;33m\u001B[0m\u001B[0m\n\u001B[1;32m---> 73\u001B[1;33m         \u001B[1;32mreturn\u001B[0m \u001B[0mf\u001B[0m\u001B[1;33m(\u001B[0m\u001B[1;33m**\u001B[0m\u001B[0mkwargs\u001B[0m\u001B[1;33m)\u001B[0m\u001B[1;33m\u001B[0m\u001B[1;33m\u001B[0m\u001B[0m\n\u001B[0m\u001B[0;32m     74\u001B[0m     \u001B[1;32mreturn\u001B[0m \u001B[0minner_f\u001B[0m\u001B[1;33m\u001B[0m\u001B[1;33m\u001B[0m\u001B[0m\n\u001B[0;32m     75\u001B[0m \u001B[1;33m\u001B[0m\u001B[0m\n",
      "\u001B[1;32m~\\anaconda3\\lib\\site-packages\\sklearn\\metrics\\_classification.py\u001B[0m in \u001B[0;36maccuracy_score\u001B[1;34m(y_true, y_pred, normalize, sample_weight)\u001B[0m\n\u001B[0;32m    185\u001B[0m \u001B[1;33m\u001B[0m\u001B[0m\n\u001B[0;32m    186\u001B[0m     \u001B[1;31m# Compute accuracy for each possible representation\u001B[0m\u001B[1;33m\u001B[0m\u001B[1;33m\u001B[0m\u001B[1;33m\u001B[0m\u001B[0m\n\u001B[1;32m--> 187\u001B[1;33m     \u001B[0my_type\u001B[0m\u001B[1;33m,\u001B[0m \u001B[0my_true\u001B[0m\u001B[1;33m,\u001B[0m \u001B[0my_pred\u001B[0m \u001B[1;33m=\u001B[0m \u001B[0m_check_targets\u001B[0m\u001B[1;33m(\u001B[0m\u001B[0my_true\u001B[0m\u001B[1;33m,\u001B[0m \u001B[0my_pred\u001B[0m\u001B[1;33m)\u001B[0m\u001B[1;33m\u001B[0m\u001B[1;33m\u001B[0m\u001B[0m\n\u001B[0m\u001B[0;32m    188\u001B[0m     \u001B[0mcheck_consistent_length\u001B[0m\u001B[1;33m(\u001B[0m\u001B[0my_true\u001B[0m\u001B[1;33m,\u001B[0m \u001B[0my_pred\u001B[0m\u001B[1;33m,\u001B[0m \u001B[0msample_weight\u001B[0m\u001B[1;33m)\u001B[0m\u001B[1;33m\u001B[0m\u001B[1;33m\u001B[0m\u001B[0m\n\u001B[0;32m    189\u001B[0m     \u001B[1;32mif\u001B[0m \u001B[0my_type\u001B[0m\u001B[1;33m.\u001B[0m\u001B[0mstartswith\u001B[0m\u001B[1;33m(\u001B[0m\u001B[1;34m'multilabel'\u001B[0m\u001B[1;33m)\u001B[0m\u001B[1;33m:\u001B[0m\u001B[1;33m\u001B[0m\u001B[1;33m\u001B[0m\u001B[0m\n",
      "\u001B[1;32m~\\anaconda3\\lib\\site-packages\\sklearn\\metrics\\_classification.py\u001B[0m in \u001B[0;36m_check_targets\u001B[1;34m(y_true, y_pred)\u001B[0m\n\u001B[0;32m     79\u001B[0m     \u001B[0my_pred\u001B[0m \u001B[1;33m:\u001B[0m \u001B[0marray\u001B[0m \u001B[1;32mor\u001B[0m \u001B[0mindicator\u001B[0m \u001B[0mmatrix\u001B[0m\u001B[1;33m\u001B[0m\u001B[1;33m\u001B[0m\u001B[0m\n\u001B[0;32m     80\u001B[0m     \"\"\"\n\u001B[1;32m---> 81\u001B[1;33m     \u001B[0mcheck_consistent_length\u001B[0m\u001B[1;33m(\u001B[0m\u001B[0my_true\u001B[0m\u001B[1;33m,\u001B[0m \u001B[0my_pred\u001B[0m\u001B[1;33m)\u001B[0m\u001B[1;33m\u001B[0m\u001B[1;33m\u001B[0m\u001B[0m\n\u001B[0m\u001B[0;32m     82\u001B[0m     \u001B[0mtype_true\u001B[0m \u001B[1;33m=\u001B[0m \u001B[0mtype_of_target\u001B[0m\u001B[1;33m(\u001B[0m\u001B[0my_true\u001B[0m\u001B[1;33m)\u001B[0m\u001B[1;33m\u001B[0m\u001B[1;33m\u001B[0m\u001B[0m\n\u001B[0;32m     83\u001B[0m     \u001B[0mtype_pred\u001B[0m \u001B[1;33m=\u001B[0m \u001B[0mtype_of_target\u001B[0m\u001B[1;33m(\u001B[0m\u001B[0my_pred\u001B[0m\u001B[1;33m)\u001B[0m\u001B[1;33m\u001B[0m\u001B[1;33m\u001B[0m\u001B[0m\n",
      "\u001B[1;32m~\\anaconda3\\lib\\site-packages\\sklearn\\utils\\validation.py\u001B[0m in \u001B[0;36mcheck_consistent_length\u001B[1;34m(*arrays)\u001B[0m\n\u001B[0;32m    254\u001B[0m     \u001B[0muniques\u001B[0m \u001B[1;33m=\u001B[0m \u001B[0mnp\u001B[0m\u001B[1;33m.\u001B[0m\u001B[0munique\u001B[0m\u001B[1;33m(\u001B[0m\u001B[0mlengths\u001B[0m\u001B[1;33m)\u001B[0m\u001B[1;33m\u001B[0m\u001B[1;33m\u001B[0m\u001B[0m\n\u001B[0;32m    255\u001B[0m     \u001B[1;32mif\u001B[0m \u001B[0mlen\u001B[0m\u001B[1;33m(\u001B[0m\u001B[0muniques\u001B[0m\u001B[1;33m)\u001B[0m \u001B[1;33m>\u001B[0m \u001B[1;36m1\u001B[0m\u001B[1;33m:\u001B[0m\u001B[1;33m\u001B[0m\u001B[1;33m\u001B[0m\u001B[0m\n\u001B[1;32m--> 256\u001B[1;33m         raise ValueError(\"Found input variables with inconsistent numbers of\"\n\u001B[0m\u001B[0;32m    257\u001B[0m                          \" samples: %r\" % [int(l) for l in lengths])\n\u001B[0;32m    258\u001B[0m \u001B[1;33m\u001B[0m\u001B[0m\n",
      "\u001B[1;31mValueError\u001B[0m: Found input variables with inconsistent numbers of samples: [6357, 19071]"
     ]
    }
   ],
   "source": [
    "model_eval(rf,X_train1,X_test1)"
   ],
   "metadata": {
    "collapsed": false,
    "pycharm": {
     "name": "#%%\n"
    }
   }
  },
  {
   "cell_type": "code",
   "execution_count": 96,
   "outputs": [
    {
     "data": {
      "text/plain": "       BCT_CODBUR  CTR_MATFIS  CTR_CATEGO_X  FJU_CODFJU  CTR_CESSAT  \\\n5974           21       12285             1          21           0   \n5884          125        1837             1          22           0   \n17375         291        3097             1          22           0   \n20659         181       15284             0          99           0   \n14957         234        4992             0          99           0   \n...           ...         ...           ...         ...         ...   \n12934         500       15440             1          22           0   \n11222         197        4482             2          99           0   \n3174          143        6512             1          22           0   \n8877          255        8153             1          21           0   \n19729         500       15164             1          22           0   \n\n       ACT_CODACT  CTR_OBLDIR  CTR_OBLACP  CTR_OBLRES  CTR_OBLFOP  ...  \\\n5974         5811           6           1           2           1  ...   \n5884         2406           4           2           2           2  ...   \n17375        3802           4           2           2           2  ...   \n20659        4204           4           2           2           2  ...   \n14957        5811           4           2           2           2  ...   \n...           ...         ...         ...         ...         ...  ...   \n12934        2201           4           2           2           2  ...   \n11222        6287           4           2           2           2  ...   \n3174         5333           6           1           2           1  ...   \n8877         5201           4           2           2           2  ...   \n19729        4201           4           2           2           2  ...   \n\n       TVA_MTRESTAX  TVA_CA072018   TVA_CA132018  TVA_CA192018    AX1_BRTIMP  \\\n5974            0.0  0.000000e+00       0.000000  0.000000e+00  8.405487e+05   \n5884            0.0  0.000000e+00       0.000000  0.000000e+00  8.405487e+05   \n17375           0.0  0.000000e+00       0.000000  0.000000e+00  0.000000e+00   \n20659           0.0  0.000000e+00       0.000000  0.000000e+00  1.889952e+06   \n14957           0.0  0.000000e+00       0.000000  0.000000e+00  0.000000e+00   \n...             ...           ...            ...           ...           ...   \n12934           0.0  0.000000e+00       0.000000  0.000000e+00  0.000000e+00   \n11222           0.0  0.000000e+00       0.000000  0.000000e+00  0.000000e+00   \n3174            0.0  4.908786e+06  455844.639327  9.752878e+07  8.405487e+05   \n8877            0.0  0.000000e+00       0.000000  0.000000e+00  0.000000e+00   \n19729           0.0  0.000000e+00       0.000000  0.000000e+00  0.000000e+00   \n\n         AX2_HONORA    AX2_LOYERS    AX3_REVCAP    AX5_MNTMAR  RES_ANNIMP  \n5974   6.099160e+07  1.571939e+07  1.883179e+07  1.031852e+09           8  \n5884   6.099160e+07  1.571939e+07  1.883179e+07  1.031852e+09           6  \n17375  4.576600e+07  0.000000e+00  3.449340e+06  1.766643e+09           8  \n20659  0.000000e+00  0.000000e+00  0.000000e+00  0.000000e+00           5  \n14957  0.000000e+00  0.000000e+00  3.840000e+03  2.854298e+07           8  \n...             ...           ...           ...           ...         ...  \n12934  0.000000e+00  0.000000e+00  0.000000e+00  1.489477e+08           7  \n11222  4.445635e+07  0.000000e+00  3.760500e+04  0.000000e+00           8  \n3174   6.099160e+07  1.571939e+07  1.883179e+07  1.031852e+09           9  \n8877   1.433771e+08  0.000000e+00  0.000000e+00  3.045685e+06           9  \n19729  2.878338e+08  0.000000e+00  0.000000e+00  1.894125e+08           6  \n\n[6358 rows x 89 columns]",
      "text/html": "<div>\n<style scoped>\n    .dataframe tbody tr th:only-of-type {\n        vertical-align: middle;\n    }\n\n    .dataframe tbody tr th {\n        vertical-align: top;\n    }\n\n    .dataframe thead th {\n        text-align: right;\n    }\n</style>\n<table border=\"1\" class=\"dataframe\">\n  <thead>\n    <tr style=\"text-align: right;\">\n      <th></th>\n      <th>BCT_CODBUR</th>\n      <th>CTR_MATFIS</th>\n      <th>CTR_CATEGO_X</th>\n      <th>FJU_CODFJU</th>\n      <th>CTR_CESSAT</th>\n      <th>ACT_CODACT</th>\n      <th>CTR_OBLDIR</th>\n      <th>CTR_OBLACP</th>\n      <th>CTR_OBLRES</th>\n      <th>CTR_OBLFOP</th>\n      <th>...</th>\n      <th>TVA_MTRESTAX</th>\n      <th>TVA_CA072018</th>\n      <th>TVA_CA132018</th>\n      <th>TVA_CA192018</th>\n      <th>AX1_BRTIMP</th>\n      <th>AX2_HONORA</th>\n      <th>AX2_LOYERS</th>\n      <th>AX3_REVCAP</th>\n      <th>AX5_MNTMAR</th>\n      <th>RES_ANNIMP</th>\n    </tr>\n  </thead>\n  <tbody>\n    <tr>\n      <th>5974</th>\n      <td>21</td>\n      <td>12285</td>\n      <td>1</td>\n      <td>21</td>\n      <td>0</td>\n      <td>5811</td>\n      <td>6</td>\n      <td>1</td>\n      <td>2</td>\n      <td>1</td>\n      <td>...</td>\n      <td>0.0</td>\n      <td>0.000000e+00</td>\n      <td>0.000000</td>\n      <td>0.000000e+00</td>\n      <td>8.405487e+05</td>\n      <td>6.099160e+07</td>\n      <td>1.571939e+07</td>\n      <td>1.883179e+07</td>\n      <td>1.031852e+09</td>\n      <td>8</td>\n    </tr>\n    <tr>\n      <th>5884</th>\n      <td>125</td>\n      <td>1837</td>\n      <td>1</td>\n      <td>22</td>\n      <td>0</td>\n      <td>2406</td>\n      <td>4</td>\n      <td>2</td>\n      <td>2</td>\n      <td>2</td>\n      <td>...</td>\n      <td>0.0</td>\n      <td>0.000000e+00</td>\n      <td>0.000000</td>\n      <td>0.000000e+00</td>\n      <td>8.405487e+05</td>\n      <td>6.099160e+07</td>\n      <td>1.571939e+07</td>\n      <td>1.883179e+07</td>\n      <td>1.031852e+09</td>\n      <td>6</td>\n    </tr>\n    <tr>\n      <th>17375</th>\n      <td>291</td>\n      <td>3097</td>\n      <td>1</td>\n      <td>22</td>\n      <td>0</td>\n      <td>3802</td>\n      <td>4</td>\n      <td>2</td>\n      <td>2</td>\n      <td>2</td>\n      <td>...</td>\n      <td>0.0</td>\n      <td>0.000000e+00</td>\n      <td>0.000000</td>\n      <td>0.000000e+00</td>\n      <td>0.000000e+00</td>\n      <td>4.576600e+07</td>\n      <td>0.000000e+00</td>\n      <td>3.449340e+06</td>\n      <td>1.766643e+09</td>\n      <td>8</td>\n    </tr>\n    <tr>\n      <th>20659</th>\n      <td>181</td>\n      <td>15284</td>\n      <td>0</td>\n      <td>99</td>\n      <td>0</td>\n      <td>4204</td>\n      <td>4</td>\n      <td>2</td>\n      <td>2</td>\n      <td>2</td>\n      <td>...</td>\n      <td>0.0</td>\n      <td>0.000000e+00</td>\n      <td>0.000000</td>\n      <td>0.000000e+00</td>\n      <td>1.889952e+06</td>\n      <td>0.000000e+00</td>\n      <td>0.000000e+00</td>\n      <td>0.000000e+00</td>\n      <td>0.000000e+00</td>\n      <td>5</td>\n    </tr>\n    <tr>\n      <th>14957</th>\n      <td>234</td>\n      <td>4992</td>\n      <td>0</td>\n      <td>99</td>\n      <td>0</td>\n      <td>5811</td>\n      <td>4</td>\n      <td>2</td>\n      <td>2</td>\n      <td>2</td>\n      <td>...</td>\n      <td>0.0</td>\n      <td>0.000000e+00</td>\n      <td>0.000000</td>\n      <td>0.000000e+00</td>\n      <td>0.000000e+00</td>\n      <td>0.000000e+00</td>\n      <td>0.000000e+00</td>\n      <td>3.840000e+03</td>\n      <td>2.854298e+07</td>\n      <td>8</td>\n    </tr>\n    <tr>\n      <th>...</th>\n      <td>...</td>\n      <td>...</td>\n      <td>...</td>\n      <td>...</td>\n      <td>...</td>\n      <td>...</td>\n      <td>...</td>\n      <td>...</td>\n      <td>...</td>\n      <td>...</td>\n      <td>...</td>\n      <td>...</td>\n      <td>...</td>\n      <td>...</td>\n      <td>...</td>\n      <td>...</td>\n      <td>...</td>\n      <td>...</td>\n      <td>...</td>\n      <td>...</td>\n      <td>...</td>\n    </tr>\n    <tr>\n      <th>12934</th>\n      <td>500</td>\n      <td>15440</td>\n      <td>1</td>\n      <td>22</td>\n      <td>0</td>\n      <td>2201</td>\n      <td>4</td>\n      <td>2</td>\n      <td>2</td>\n      <td>2</td>\n      <td>...</td>\n      <td>0.0</td>\n      <td>0.000000e+00</td>\n      <td>0.000000</td>\n      <td>0.000000e+00</td>\n      <td>0.000000e+00</td>\n      <td>0.000000e+00</td>\n      <td>0.000000e+00</td>\n      <td>0.000000e+00</td>\n      <td>1.489477e+08</td>\n      <td>7</td>\n    </tr>\n    <tr>\n      <th>11222</th>\n      <td>197</td>\n      <td>4482</td>\n      <td>2</td>\n      <td>99</td>\n      <td>0</td>\n      <td>6287</td>\n      <td>4</td>\n      <td>2</td>\n      <td>2</td>\n      <td>2</td>\n      <td>...</td>\n      <td>0.0</td>\n      <td>0.000000e+00</td>\n      <td>0.000000</td>\n      <td>0.000000e+00</td>\n      <td>0.000000e+00</td>\n      <td>4.445635e+07</td>\n      <td>0.000000e+00</td>\n      <td>3.760500e+04</td>\n      <td>0.000000e+00</td>\n      <td>8</td>\n    </tr>\n    <tr>\n      <th>3174</th>\n      <td>143</td>\n      <td>6512</td>\n      <td>1</td>\n      <td>22</td>\n      <td>0</td>\n      <td>5333</td>\n      <td>6</td>\n      <td>1</td>\n      <td>2</td>\n      <td>1</td>\n      <td>...</td>\n      <td>0.0</td>\n      <td>4.908786e+06</td>\n      <td>455844.639327</td>\n      <td>9.752878e+07</td>\n      <td>8.405487e+05</td>\n      <td>6.099160e+07</td>\n      <td>1.571939e+07</td>\n      <td>1.883179e+07</td>\n      <td>1.031852e+09</td>\n      <td>9</td>\n    </tr>\n    <tr>\n      <th>8877</th>\n      <td>255</td>\n      <td>8153</td>\n      <td>1</td>\n      <td>21</td>\n      <td>0</td>\n      <td>5201</td>\n      <td>4</td>\n      <td>2</td>\n      <td>2</td>\n      <td>2</td>\n      <td>...</td>\n      <td>0.0</td>\n      <td>0.000000e+00</td>\n      <td>0.000000</td>\n      <td>0.000000e+00</td>\n      <td>0.000000e+00</td>\n      <td>1.433771e+08</td>\n      <td>0.000000e+00</td>\n      <td>0.000000e+00</td>\n      <td>3.045685e+06</td>\n      <td>9</td>\n    </tr>\n    <tr>\n      <th>19729</th>\n      <td>500</td>\n      <td>15164</td>\n      <td>1</td>\n      <td>22</td>\n      <td>0</td>\n      <td>4201</td>\n      <td>4</td>\n      <td>2</td>\n      <td>2</td>\n      <td>2</td>\n      <td>...</td>\n      <td>0.0</td>\n      <td>0.000000e+00</td>\n      <td>0.000000</td>\n      <td>0.000000e+00</td>\n      <td>0.000000e+00</td>\n      <td>2.878338e+08</td>\n      <td>0.000000e+00</td>\n      <td>0.000000e+00</td>\n      <td>1.894125e+08</td>\n      <td>6</td>\n    </tr>\n  </tbody>\n</table>\n<p>6358 rows × 89 columns</p>\n</div>"
     },
     "execution_count": 96,
     "metadata": {},
     "output_type": "execute_result"
    }
   ],
   "source": [
    "X_test2 ="
   ],
   "metadata": {
    "collapsed": false,
    "pycharm": {
     "name": "#%%\n"
    }
   }
  },
  {
   "cell_type": "markdown",
   "source": [
    "#### FICHIER DE TEST ANALYSE"
   ],
   "metadata": {
    "collapsed": false,
    "pycharm": {
     "name": "#%% md\n"
    }
   }
  },
  {
   "cell_type": "code",
   "execution_count": 103,
   "outputs": [
    {
     "data": {
      "text/plain": "((7517, 64), (21295, 65), (31786, 91))"
     },
     "execution_count": 103,
     "metadata": {},
     "output_type": "execute_result"
    }
   ],
   "source": [
    "testdeux.shape, traindeux.shape,newTrain.shape"
   ],
   "metadata": {
    "collapsed": false,
    "pycharm": {
     "name": "#%%\n"
    }
   }
  },
  {
   "cell_type": "code",
   "execution_count": 99,
   "outputs": [
    {
     "ename": "ValueError",
     "evalue": "Number of features of the model must match the input. Model n_features is 89 and input n_features is 63 ",
     "output_type": "error",
     "traceback": [
      "\u001B[1;31m---------------------------------------------------------------------------\u001B[0m",
      "\u001B[1;31mValueError\u001B[0m                                Traceback (most recent call last)",
      "\u001B[1;32m<ipython-input-99-8b74514c21ed>\u001B[0m in \u001B[0;36m<module>\u001B[1;34m\u001B[0m\n\u001B[1;32m----> 1\u001B[1;33m \u001B[0man\u001B[0m \u001B[1;33m=\u001B[0m \u001B[0mrf\u001B[0m\u001B[1;33m.\u001B[0m\u001B[0mpredict\u001B[0m\u001B[1;33m(\u001B[0m\u001B[0mtestdeux\u001B[0m\u001B[1;33m.\u001B[0m\u001B[0mdrop\u001B[0m\u001B[1;33m(\u001B[0m\u001B[1;33m[\u001B[0m\u001B[1;34m'id'\u001B[0m\u001B[1;33m]\u001B[0m\u001B[1;33m,\u001B[0m\u001B[0maxis\u001B[0m\u001B[1;33m=\u001B[0m\u001B[1;36m1\u001B[0m\u001B[1;33m)\u001B[0m\u001B[1;33m)\u001B[0m\u001B[1;33m\u001B[0m\u001B[1;33m\u001B[0m\u001B[0m\n\u001B[0m\u001B[0;32m      2\u001B[0m \u001B[1;31m#test[\"id\"]= resample(test[\"id\"],replace=True,n_samples=len(X_test1))\u001B[0m\u001B[1;33m\u001B[0m\u001B[1;33m\u001B[0m\u001B[1;33m\u001B[0m\u001B[0m\n\u001B[0;32m      3\u001B[0m \u001B[1;31m#answer = pd.Series(an,index=id)\u001B[0m\u001B[1;33m\u001B[0m\u001B[1;33m\u001B[0m\u001B[1;33m\u001B[0m\u001B[0m\n\u001B[0;32m      4\u001B[0m \u001B[1;31m#answer\u001B[0m\u001B[1;33m\u001B[0m\u001B[1;33m\u001B[0m\u001B[1;33m\u001B[0m\u001B[0m\n",
      "\u001B[1;32m~\\anaconda3\\lib\\site-packages\\sklearn\\ensemble\\_forest.py\u001B[0m in \u001B[0;36mpredict\u001B[1;34m(self, X)\u001B[0m\n\u001B[0;32m    627\u001B[0m             \u001B[0mThe\u001B[0m \u001B[0mpredicted\u001B[0m \u001B[0mclasses\u001B[0m\u001B[1;33m.\u001B[0m\u001B[1;33m\u001B[0m\u001B[1;33m\u001B[0m\u001B[0m\n\u001B[0;32m    628\u001B[0m         \"\"\"\n\u001B[1;32m--> 629\u001B[1;33m         \u001B[0mproba\u001B[0m \u001B[1;33m=\u001B[0m \u001B[0mself\u001B[0m\u001B[1;33m.\u001B[0m\u001B[0mpredict_proba\u001B[0m\u001B[1;33m(\u001B[0m\u001B[0mX\u001B[0m\u001B[1;33m)\u001B[0m\u001B[1;33m\u001B[0m\u001B[1;33m\u001B[0m\u001B[0m\n\u001B[0m\u001B[0;32m    630\u001B[0m \u001B[1;33m\u001B[0m\u001B[0m\n\u001B[0;32m    631\u001B[0m         \u001B[1;32mif\u001B[0m \u001B[0mself\u001B[0m\u001B[1;33m.\u001B[0m\u001B[0mn_outputs_\u001B[0m \u001B[1;33m==\u001B[0m \u001B[1;36m1\u001B[0m\u001B[1;33m:\u001B[0m\u001B[1;33m\u001B[0m\u001B[1;33m\u001B[0m\u001B[0m\n",
      "\u001B[1;32m~\\anaconda3\\lib\\site-packages\\sklearn\\ensemble\\_forest.py\u001B[0m in \u001B[0;36mpredict_proba\u001B[1;34m(self, X)\u001B[0m\n\u001B[0;32m    671\u001B[0m         \u001B[0mcheck_is_fitted\u001B[0m\u001B[1;33m(\u001B[0m\u001B[0mself\u001B[0m\u001B[1;33m)\u001B[0m\u001B[1;33m\u001B[0m\u001B[1;33m\u001B[0m\u001B[0m\n\u001B[0;32m    672\u001B[0m         \u001B[1;31m# Check data\u001B[0m\u001B[1;33m\u001B[0m\u001B[1;33m\u001B[0m\u001B[1;33m\u001B[0m\u001B[0m\n\u001B[1;32m--> 673\u001B[1;33m         \u001B[0mX\u001B[0m \u001B[1;33m=\u001B[0m \u001B[0mself\u001B[0m\u001B[1;33m.\u001B[0m\u001B[0m_validate_X_predict\u001B[0m\u001B[1;33m(\u001B[0m\u001B[0mX\u001B[0m\u001B[1;33m)\u001B[0m\u001B[1;33m\u001B[0m\u001B[1;33m\u001B[0m\u001B[0m\n\u001B[0m\u001B[0;32m    674\u001B[0m \u001B[1;33m\u001B[0m\u001B[0m\n\u001B[0;32m    675\u001B[0m         \u001B[1;31m# Assign chunk of trees to jobs\u001B[0m\u001B[1;33m\u001B[0m\u001B[1;33m\u001B[0m\u001B[1;33m\u001B[0m\u001B[0m\n",
      "\u001B[1;32m~\\anaconda3\\lib\\site-packages\\sklearn\\ensemble\\_forest.py\u001B[0m in \u001B[0;36m_validate_X_predict\u001B[1;34m(self, X)\u001B[0m\n\u001B[0;32m    419\u001B[0m         \u001B[0mcheck_is_fitted\u001B[0m\u001B[1;33m(\u001B[0m\u001B[0mself\u001B[0m\u001B[1;33m)\u001B[0m\u001B[1;33m\u001B[0m\u001B[1;33m\u001B[0m\u001B[0m\n\u001B[0;32m    420\u001B[0m \u001B[1;33m\u001B[0m\u001B[0m\n\u001B[1;32m--> 421\u001B[1;33m         \u001B[1;32mreturn\u001B[0m \u001B[0mself\u001B[0m\u001B[1;33m.\u001B[0m\u001B[0mestimators_\u001B[0m\u001B[1;33m[\u001B[0m\u001B[1;36m0\u001B[0m\u001B[1;33m]\u001B[0m\u001B[1;33m.\u001B[0m\u001B[0m_validate_X_predict\u001B[0m\u001B[1;33m(\u001B[0m\u001B[0mX\u001B[0m\u001B[1;33m,\u001B[0m \u001B[0mcheck_input\u001B[0m\u001B[1;33m=\u001B[0m\u001B[1;32mTrue\u001B[0m\u001B[1;33m)\u001B[0m\u001B[1;33m\u001B[0m\u001B[1;33m\u001B[0m\u001B[0m\n\u001B[0m\u001B[0;32m    422\u001B[0m \u001B[1;33m\u001B[0m\u001B[0m\n\u001B[0;32m    423\u001B[0m     \u001B[1;33m@\u001B[0m\u001B[0mproperty\u001B[0m\u001B[1;33m\u001B[0m\u001B[1;33m\u001B[0m\u001B[0m\n",
      "\u001B[1;32m~\\anaconda3\\lib\\site-packages\\sklearn\\tree\\_classes.py\u001B[0m in \u001B[0;36m_validate_X_predict\u001B[1;34m(self, X, check_input)\u001B[0m\n\u001B[0;32m    394\u001B[0m         \u001B[0mn_features\u001B[0m \u001B[1;33m=\u001B[0m \u001B[0mX\u001B[0m\u001B[1;33m.\u001B[0m\u001B[0mshape\u001B[0m\u001B[1;33m[\u001B[0m\u001B[1;36m1\u001B[0m\u001B[1;33m]\u001B[0m\u001B[1;33m\u001B[0m\u001B[1;33m\u001B[0m\u001B[0m\n\u001B[0;32m    395\u001B[0m         \u001B[1;32mif\u001B[0m \u001B[0mself\u001B[0m\u001B[1;33m.\u001B[0m\u001B[0mn_features_\u001B[0m \u001B[1;33m!=\u001B[0m \u001B[0mn_features\u001B[0m\u001B[1;33m:\u001B[0m\u001B[1;33m\u001B[0m\u001B[1;33m\u001B[0m\u001B[0m\n\u001B[1;32m--> 396\u001B[1;33m             raise ValueError(\"Number of features of the model must \"\n\u001B[0m\u001B[0;32m    397\u001B[0m                              \u001B[1;34m\"match the input. Model n_features is %s and \"\u001B[0m\u001B[1;33m\u001B[0m\u001B[1;33m\u001B[0m\u001B[0m\n\u001B[0;32m    398\u001B[0m                              \u001B[1;34m\"input n_features is %s \"\u001B[0m\u001B[1;33m\u001B[0m\u001B[1;33m\u001B[0m\u001B[0m\n",
      "\u001B[1;31mValueError\u001B[0m: Number of features of the model must match the input. Model n_features is 89 and input n_features is 63 "
     ]
    }
   ],
   "source": [
    "an = rf.predict(testdeux.drop(['id'],axis=1))\n",
    "#test[\"id\"]= resample(test[\"id\"],replace=True,n_samples=len(X_test1))\n",
    "#answer = pd.Series(an,index=id)\n",
    "#answer"
   ],
   "metadata": {
    "collapsed": false,
    "pycharm": {
     "name": "#%%\n"
    }
   }
  },
  {
   "cell_type": "code",
   "execution_count": 100,
   "outputs": [
    {
     "data": {
      "text/plain": "0       0\n1       1\n2       0\n3       0\n4       0\n       ..\n6353    0\n6354    1\n6355    1\n6356    0\n6357    0\nLength: 6358, dtype: int32"
     },
     "execution_count": 100,
     "metadata": {},
     "output_type": "execute_result"
    }
   ],
   "source": [
    "an=rf.predict(X_test1)\n",
    "answer= pd.Series(an)\n",
    "answer"
   ],
   "metadata": {
    "collapsed": false,
    "pycharm": {
     "name": "#%%\n"
    }
   }
  },
  {
   "cell_type": "markdown",
   "source": [
    "### GENERATION DU  FICHIER CSV"
   ],
   "metadata": {
    "collapsed": false,
    "pycharm": {
     "name": "#%% md\n"
    }
   }
  },
  {
   "cell_type": "code",
   "execution_count": null,
   "outputs": [],
   "source": [
    "answer.to_csv(\"fd3.csv\")"
   ],
   "metadata": {
    "collapsed": false,
    "pycharm": {
     "name": "#%%\n"
    }
   }
  },
  {
   "cell_type": "markdown",
   "source": [
    "### FIN DU PROGRAMME\n",
    "#### MERCI POUR VOTRE ATTENTION"
   ],
   "metadata": {
    "collapsed": false,
    "pycharm": {
     "name": "#%% md\n"
    }
   }
  },
  {
   "cell_type": "code",
   "execution_count": null,
   "outputs": [],
   "source": [],
   "metadata": {
    "collapsed": false,
    "pycharm": {
     "name": "#%%\n"
    }
   }
  }
 ],
 "metadata": {
  "kernelspec": {
   "display_name": "Python 3",
   "language": "python",
   "name": "python3"
  },
  "language_info": {
   "codemirror_mode": {
    "name": "ipython",
    "version": 2
   },
   "file_extension": ".py",
   "mimetype": "text/x-python",
   "name": "python",
   "nbconvert_exporter": "python",
   "pygments_lexer": "ipython2",
   "version": "2.7.6"
  }
 },
 "nbformat": 4,
 "nbformat_minor": 0
}